{
 "cells": [
  {
   "cell_type": "code",
   "execution_count": 1,
   "metadata": {},
   "outputs": [],
   "source": [
    "from qiskit import *"
   ]
  },
  {
   "cell_type": "code",
   "execution_count": 2,
   "metadata": {},
   "outputs": [],
   "source": [
    "def adder(inp1, inp2):\n",
    "    qc = QuantumCircuit(3,2)\n",
    "    if(inp1 == '1'):\n",
    "        qc.x(0)\n",
    "    if(inp2 == '1'):\n",
    "        qc.x(1)\n",
    "    \n",
    "    qc.barrier()\n",
    "    qc.ccx(0, 1, 2)\n",
    "    qc.measure(2, 1)\n",
    "    qc.barrier()\n",
    "    qc.cx(0, 1)\n",
    "    qc.measure(1, 0)\n",
    "    qc.draw()\n",
    "    \n",
    "    backend = Aer.get_backend('qasm_simulator')\n",
    "    job = execute(qc, backend, memory = True)\n",
    "    output = job.result().get_memory()[0]\n",
    "    \n",
    "    return qc, output"
   ]
  },
  {
   "cell_type": "code",
   "execution_count": 4,
   "metadata": {},
   "outputs": [
    {
     "name": "stdout",
     "output_type": "stream",
     "text": [
      "0  + 0  = 00\n"
     ]
    },
    {
     "data": {
      "text/html": [
       "<pre style=\"word-wrap: normal;white-space: pre;background: #fff0;line-height: 1.1;font-family: &quot;Courier New&quot;,Courier,monospace\">      ░          ░         \n",
       "q_0: ─░───■──────░───■─────\n",
       "      ░   │      ░ ┌─┴─┐┌─┐\n",
       "q_1: ─░───■──────░─┤ X ├┤M├\n",
       "      ░ ┌─┴─┐┌─┐ ░ └───┘└╥┘\n",
       "q_2: ─░─┤ X ├┤M├─░───────╫─\n",
       "      ░ └───┘└╥┘ ░       ║ \n",
       "c: 2/═════════╩══════════╩═\n",
       "              1          0 </pre>"
      ],
      "text/plain": [
       "      ░          ░         \n",
       "q_0: ─░───■──────░───■─────\n",
       "      ░   │      ░ ┌─┴─┐┌─┐\n",
       "q_1: ─░───■──────░─┤ X ├┤M├\n",
       "      ░ ┌─┴─┐┌─┐ ░ └───┘└╥┘\n",
       "q_2: ─░─┤ X ├┤M├─░───────╫─\n",
       "      ░ └───┘└╥┘ ░       ║ \n",
       "c: 2/═════════╩══════════╩═\n",
       "              1          0 "
      ]
     },
     "metadata": {},
     "output_type": "display_data"
    },
    {
     "name": "stdout",
     "output_type": "stream",
     "text": [
      "0  + 1  = 01\n"
     ]
    },
    {
     "data": {
      "text/html": [
       "<pre style=\"word-wrap: normal;white-space: pre;background: #fff0;line-height: 1.1;font-family: &quot;Courier New&quot;,Courier,monospace\">           ░          ░         \n",
       "q_0: ──────░───■──────░───■─────\n",
       "     ┌───┐ ░   │      ░ ┌─┴─┐┌─┐\n",
       "q_1: ┤ X ├─░───■──────░─┤ X ├┤M├\n",
       "     └───┘ ░ ┌─┴─┐┌─┐ ░ └───┘└╥┘\n",
       "q_2: ──────░─┤ X ├┤M├─░───────╫─\n",
       "           ░ └───┘└╥┘ ░       ║ \n",
       "c: 2/══════════════╩══════════╩═\n",
       "                   1          0 </pre>"
      ],
      "text/plain": [
       "           ░          ░         \n",
       "q_0: ──────░───■──────░───■─────\n",
       "     ┌───┐ ░   │      ░ ┌─┴─┐┌─┐\n",
       "q_1: ┤ X ├─░───■──────░─┤ X ├┤M├\n",
       "     └───┘ ░ ┌─┴─┐┌─┐ ░ └───┘└╥┘\n",
       "q_2: ──────░─┤ X ├┤M├─░───────╫─\n",
       "           ░ └───┘└╥┘ ░       ║ \n",
       "c: 2/══════════════╩══════════╩═\n",
       "                   1          0 "
      ]
     },
     "metadata": {},
     "output_type": "display_data"
    },
    {
     "name": "stdout",
     "output_type": "stream",
     "text": [
      "1  + 0  = 01\n"
     ]
    },
    {
     "data": {
      "text/html": [
       "<pre style=\"word-wrap: normal;white-space: pre;background: #fff0;line-height: 1.1;font-family: &quot;Courier New&quot;,Courier,monospace\">     ┌───┐ ░          ░         \n",
       "q_0: ┤ X ├─░───■──────░───■─────\n",
       "     └───┘ ░   │      ░ ┌─┴─┐┌─┐\n",
       "q_1: ──────░───■──────░─┤ X ├┤M├\n",
       "           ░ ┌─┴─┐┌─┐ ░ └───┘└╥┘\n",
       "q_2: ──────░─┤ X ├┤M├─░───────╫─\n",
       "           ░ └───┘└╥┘ ░       ║ \n",
       "c: 2/══════════════╩══════════╩═\n",
       "                   1          0 </pre>"
      ],
      "text/plain": [
       "     ┌───┐ ░          ░         \n",
       "q_0: ┤ X ├─░───■──────░───■─────\n",
       "     └───┘ ░   │      ░ ┌─┴─┐┌─┐\n",
       "q_1: ──────░───■──────░─┤ X ├┤M├\n",
       "           ░ ┌─┴─┐┌─┐ ░ └───┘└╥┘\n",
       "q_2: ──────░─┤ X ├┤M├─░───────╫─\n",
       "           ░ └───┘└╥┘ ░       ║ \n",
       "c: 2/══════════════╩══════════╩═\n",
       "                   1          0 "
      ]
     },
     "metadata": {},
     "output_type": "display_data"
    },
    {
     "name": "stdout",
     "output_type": "stream",
     "text": [
      "1  + 1  = 10\n"
     ]
    },
    {
     "data": {
      "text/html": [
       "<pre style=\"word-wrap: normal;white-space: pre;background: #fff0;line-height: 1.1;font-family: &quot;Courier New&quot;,Courier,monospace\">     ┌───┐ ░          ░         \n",
       "q_0: ┤ X ├─░───■──────░───■─────\n",
       "     ├───┤ ░   │      ░ ┌─┴─┐┌─┐\n",
       "q_1: ┤ X ├─░───■──────░─┤ X ├┤M├\n",
       "     └───┘ ░ ┌─┴─┐┌─┐ ░ └───┘└╥┘\n",
       "q_2: ──────░─┤ X ├┤M├─░───────╫─\n",
       "           ░ └───┘└╥┘ ░       ║ \n",
       "c: 2/══════════════╩══════════╩═\n",
       "                   1          0 </pre>"
      ],
      "text/plain": [
       "     ┌───┐ ░          ░         \n",
       "q_0: ┤ X ├─░───■──────░───■─────\n",
       "     ├───┤ ░   │      ░ ┌─┴─┐┌─┐\n",
       "q_1: ┤ X ├─░───■──────░─┤ X ├┤M├\n",
       "     └───┘ ░ ┌─┴─┐┌─┐ ░ └───┘└╥┘\n",
       "q_2: ──────░─┤ X ├┤M├─░───────╫─\n",
       "           ░ └───┘└╥┘ ░       ║ \n",
       "c: 2/══════════════╩══════════╩═\n",
       "                   1          0 "
      ]
     },
     "metadata": {},
     "output_type": "display_data"
    }
   ],
   "source": [
    "for inp1 in ['0', '1']:\n",
    "    for inp2 in ['0', '1']:\n",
    "        qc, output = adder(inp1, inp2)\n",
    "        print('{}  + {} '.format(inp1, inp2), \"=\", output)\n",
    "        display(qc.draw())"
   ]
  },
  {
   "cell_type": "markdown",
   "metadata": {},
   "source": [
    "Subtractor"
   ]
  },
  {
   "cell_type": "code",
   "execution_count": 12,
   "metadata": {},
   "outputs": [],
   "source": [
    "def halfSub(inp1, inp2):\n",
    "    qc = QuantumCircuit(3, 2)\n",
    "    if(inp1 == '1'):\n",
    "        qc.x(0)\n",
    "    if(inp2 == '1'):\n",
    "        qc.x(1)\n",
    "    qc.barrier()\n",
    "    \n",
    "    qc.cx(0, 1)\n",
    "    qc.measure(1, 0)\n",
    "    qc.draw()\n",
    "    qc.x(0)\n",
    "    qc.ccx(0, 1, 2)\n",
    "    qc.measure(2, 1)\n",
    "    qc.barrier()\n",
    "    \n",
    "    backend = Aer.get_backend('qasm_simulator')\n",
    "    job = execute(qc, backend, memory = True)\n",
    "    output = job.result().get_memory()[0]\n",
    "    \n",
    "    return qc, output"
   ]
  },
  {
   "cell_type": "code",
   "execution_count": 13,
   "metadata": {},
   "outputs": [
    {
     "name": "stdout",
     "output_type": "stream",
     "text": [
      "0 - 0  = 00\n",
      "0 - 1  = 11\n",
      "1 - 0  = 01\n",
      "1 - 1  = 00\n"
     ]
    },
    {
     "data": {
      "text/html": [
       "<pre style=\"word-wrap: normal;white-space: pre;background: #fff0;line-height: 1.1;font-family: &quot;Courier New&quot;,Courier,monospace\">     ┌───┐ ░      ┌───┐         ░ \n",
       "q_0: ┤ X ├─░───■──┤ X ├──■──────░─\n",
       "     ├───┤ ░ ┌─┴─┐└┬─┬┘  │      ░ \n",
       "q_1: ┤ X ├─░─┤ X ├─┤M├───■──────░─\n",
       "     └───┘ ░ └───┘ └╥┘ ┌─┴─┐┌─┐ ░ \n",
       "q_2: ──────░────────╫──┤ X ├┤M├─░─\n",
       "           ░        ║  └───┘└╥┘ ░ \n",
       "c: 2/═══════════════╩════════╩════\n",
       "                    0        1    </pre>"
      ],
      "text/plain": [
       "     ┌───┐ ░      ┌───┐         ░ \n",
       "q_0: ┤ X ├─░───■──┤ X ├──■──────░─\n",
       "     ├───┤ ░ ┌─┴─┐└┬─┬┘  │      ░ \n",
       "q_1: ┤ X ├─░─┤ X ├─┤M├───■──────░─\n",
       "     └───┘ ░ └───┘ └╥┘ ┌─┴─┐┌─┐ ░ \n",
       "q_2: ──────░────────╫──┤ X ├┤M├─░─\n",
       "           ░        ║  └───┘└╥┘ ░ \n",
       "c: 2/═══════════════╩════════╩════\n",
       "                    0        1    "
      ]
     },
     "metadata": {},
     "output_type": "display_data"
    }
   ],
   "source": [
    "for inp1 in ['0', '1']:\n",
    "    for inp2 in ['0', '1']:\n",
    "        qc, output = halfSub(inp1, inp2)\n",
    "        print('{} - {} '.format(inp1, inp2), \"=\", output)\n",
    "display(qc.draw())"
   ]
  },
  {
   "cell_type": "code",
   "execution_count": null,
   "metadata": {},
   "outputs": [],
   "source": []
  }
 ],
 "metadata": {
  "kernelspec": {
   "display_name": "Python 3",
   "language": "python",
   "name": "python3"
  },
  "language_info": {
   "codemirror_mode": {
    "name": "ipython",
    "version": 3
   },
   "file_extension": ".py",
   "mimetype": "text/x-python",
   "name": "python",
   "nbconvert_exporter": "python",
   "pygments_lexer": "ipython3",
   "version": "3.8.5"
  }
 },
 "nbformat": 4,
 "nbformat_minor": 4
}
