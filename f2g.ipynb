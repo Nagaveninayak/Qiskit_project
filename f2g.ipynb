{
 "cells": [
  {
   "cell_type": "code",
   "execution_count": 1,
   "metadata": {},
   "outputs": [],
   "source": [
    "from qiskit import *"
   ]
  },
  {
   "cell_type": "code",
   "execution_count": 4,
   "metadata": {},
   "outputs": [
    {
     "data": {
      "text/html": [
       "<pre style=\"word-wrap: normal;white-space: pre;background: #fff0;line-height: 1.1;font-family: &quot;Courier New&quot;,Courier,monospace\">                    \n",
       "q_0: ───────■───────\n",
       "     ┌───┐  │  ┌───┐\n",
       "q_1: ┤ X ├──■──┤ X ├\n",
       "     └─┬─┘┌─┴─┐└─┬─┘\n",
       "q_2: ──■──┤ X ├──■──\n",
       "          └───┘     \n",
       "c: 3/═══════════════\n",
       "                    </pre>"
      ],
      "text/plain": [
       "                    \n",
       "q_0: ───────■───────\n",
       "     ┌───┐  │  ┌───┐\n",
       "q_1: ┤ X ├──■──┤ X ├\n",
       "     └─┬─┘┌─┴─┐└─┬─┘\n",
       "q_2: ──■──┤ X ├──■──\n",
       "          └───┘     \n",
       "c: 3/═══════════════\n",
       "                    "
      ]
     },
     "execution_count": 4,
     "metadata": {},
     "output_type": "execute_result"
    }
   ],
   "source": [
    "qc = QuantumCircuit(3, 3)\n",
    "qc.cswap(0, 1, 2)\n",
    "qc.decompose().draw()"
   ]
  },
  {
   "cell_type": "code",
   "execution_count": 2,
   "metadata": {},
   "outputs": [
    {
     "data": {
      "text/html": [
       "<pre style=\"word-wrap: normal;white-space: pre;background: #fff0;line-height: 1.1;font-family: &quot;Courier New&quot;,Courier,monospace\">               \n",
       "q_0: ──■────■──\n",
       "       │  ┌─┴─┐\n",
       "q_1: ──┼──┤ X ├\n",
       "     ┌─┴─┐└───┘\n",
       "q_2: ┤ X ├─────\n",
       "     └───┘     </pre>"
      ],
      "text/plain": [
       "               \n",
       "q_0: ──■────■──\n",
       "       │  ┌─┴─┐\n",
       "q_1: ──┼──┤ X ├\n",
       "     ┌─┴─┐└───┘\n",
       "q_2: ┤ X ├─────\n",
       "     └───┘     "
      ]
     },
     "execution_count": 2,
     "metadata": {},
     "output_type": "execute_result"
    }
   ],
   "source": [
    "mygate = QuantumCircuit(3)\n",
    "mygate.cnot(0, 2)\n",
    "mygate.cnot(0, 1)\n",
    "mygate.decompose().draw()"
   ]
  },
  {
   "cell_type": "code",
   "execution_count": 3,
   "metadata": {},
   "outputs": [
    {
     "data": {
      "text/html": [
       "<pre style=\"word-wrap: normal;white-space: pre;background: #fff0;line-height: 1.1;font-family: &quot;Courier New&quot;,Courier,monospace\">               \n",
       "q_0: ──────────\n",
       "               \n",
       "q_1: ──■────■──\n",
       "       │  ┌─┴─┐\n",
       "q_2: ──┼──┤ X ├\n",
       "     ┌─┴─┐└───┘\n",
       "q_3: ┤ X ├─────\n",
       "     └───┘     \n",
       "q_4: ──────────\n",
       "               </pre>"
      ],
      "text/plain": [
       "               \n",
       "q_0: ──────────\n",
       "               \n",
       "q_1: ──■────■──\n",
       "       │  ┌─┴─┐\n",
       "q_2: ──┼──┤ X ├\n",
       "     ┌─┴─┐└───┘\n",
       "q_3: ┤ X ├─────\n",
       "     └───┘     \n",
       "q_4: ──────────\n",
       "               "
      ]
     },
     "execution_count": 3,
     "metadata": {},
     "output_type": "execute_result"
    }
   ],
   "source": [
    "f2g_gate = mygate.to_gate()\n",
    "new_gate = QuantumCircuit(5)\n",
    "new_gate.append(f2g_gate, [1, 2, 3])\n",
    "new_gate.decompose().draw()"
   ]
  },
  {
   "cell_type": "code",
   "execution_count": 4,
   "metadata": {},
   "outputs": [],
   "source": [
    "def doubleFeyman(inp1, inp2, inp3):\n",
    "    qc_new = QuantumCircuit(5, 3)\n",
    "    \n",
    "    #conditions\n",
    "    if(inp1 == '1'):\n",
    "        qc_new.x(1)\n",
    "    if(inp2 == '1'):\n",
    "        qc_new.x(2)\n",
    "    if(inp3 == '1'):\n",
    "        qc_new.x(3)\n",
    "    qc_new.barrier()\n",
    "    \n",
    "    #import the gate\n",
    "    qc_new.append(f2g_gate, [1, 2, 3])\n",
    "    qc_new.measure(1, 0)\n",
    "    qc_new.measure(2, 1)\n",
    "    qc_new.measure(3, 2)\n",
    "    qc_new.decompose().draw()\n",
    "    \n",
    "    #backend\n",
    "    backend = Aer.get_backend('qasm_simulator')\n",
    "    job = execute(qc_new, backend, memory= True)\n",
    "    output = job.result().get_memory()[0]\n",
    "    \n",
    "    return qc_new, output"
   ]
  },
  {
   "cell_type": "code",
   "execution_count": 8,
   "metadata": {},
   "outputs": [
    {
     "name": "stdout",
     "output_type": "stream",
     "text": [
      "i1 i2 i3  PQR\n",
      "0  0  0 = 000\n",
      "0  0  1 = 100\n",
      "0  1  0 = 010\n",
      "0  1  1 = 110\n",
      "1  0  0 = 111\n",
      "1  0  1 = 011\n",
      "1  1  0 = 101\n",
      "1  1  1 = 001\n",
      "____________________________\n",
      "To draw the quantum circuit for the feynman gate in block circuit\n"
     ]
    },
    {
     "data": {
      "image/png": "[encoded data removed]",
      "text/plain": [
       "<Figure size 507.997x385.28 with 1 Axes>"
      ]
     },
     "metadata": {},
     "output_type": "display_data"
    },
    {
     "name": "stdout",
     "output_type": "stream",
     "text": [
      "____________________________\n",
      "To draw the quantum circuit for the feynman gate in gate form\n"
     ]
    },
    {
     "data": {
      "image/png": "[encoded data removed]",
      "text/plain": [
       "<Figure size 447.797x385.28 with 1 Axes>"
      ]
     },
     "metadata": {},
     "output_type": "display_data"
    }
   ],
   "source": [
    "print('{} {} {}'.format('i1', 'i2', 'i3'), ' PQR' )\n",
    "for inp1 in ['0', '1']:\n",
    "    for inp2 in ['0', '1']:\n",
    "        for inp3 in ['0', '1']:\n",
    "            qc_new, output = doubleFeyman(inp1, inp2, inp3)\n",
    "            print('{}  {}  {}'.format(inp1, inp2, inp3), '=', output)\n",
    "\n",
    "print('____________________________')\n",
    "print('To draw the quantum circuit for the feynman gate in block circuit')\n",
    "display(qc_new.draw('mpl'))\n",
    "print('____________________________')\n",
    "print('To draw the quantum circuit for the feynman gate in gate form')\n",
    "display(qc_new.decompose().draw('mpl'))"
   ]
  },
  {
   "cell_type": "code",
   "execution_count": 15,
   "metadata": {},
   "outputs": [
    {
     "data": {
      "image/png": "[encoded data removed]",
      "text/plain": [
       "<Figure size 504x360 with 1 Axes>"
      ]
     },
     "execution_count": 15,
     "metadata": {},
     "output_type": "execute_result"
    }
   ],
   "source": [
    "from qiskit.visualization import plot_histogram\n",
    "#histogram plot of the f2g gate\n",
    "\n",
    "mygate = QuantumCircuit(3,3)\n",
    "for i in range(3):\n",
    "    mygate.h(i)\n",
    "mygate.cnot(0, 2)\n",
    "mygate.cnot(0, 1)\n",
    "\n",
    "mygate.measure(0, 0)\n",
    "mygate.measure(1, 1)\n",
    "mygate.measure(2, 2)\n",
    "\n",
    "job = execute(mygate, backend = Aer.get_backend('qasm_simulator'), shots=1024)\n",
    "result = job.result()\n",
    "count = result.get_counts()\n",
    "plot_histogram(count)"
   ]
  },
  {
   "cell_type": "code",
   "execution_count": null,
   "metadata": {},
   "outputs": [],
   "source": []
  }
 ],
 "metadata": {
  "kernelspec": {
   "display_name": "Python 3",
   "language": "python",
   "name": "python3"
  },
  "language_info": {
   "codemirror_mode": {
    "name": "ipython",
    "version": 3
   },
   "file_extension": ".py",
   "mimetype": "text/x-python",
   "name": "python",
   "nbconvert_exporter": "python",
   "pygments_lexer": "ipython3",
   "version": "3.8.5"
  }
 },
 "nbformat": 4,
 "nbformat_minor": 4
}
