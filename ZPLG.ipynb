{
 "cells": [
  {
   "cell_type": "code",
   "execution_count": 9,
   "metadata": {},
   "outputs": [],
   "source": [
    "from qiskit import QuantumCircuit\n",
    "from qiskit.circuit import Gate\n",
    "from math import pi\n",
    "from qiskit import *\n",
    "qc = QuantumCircuit(2)\n",
    "c = 0\n",
    "t = 1"
   ]
  },
  {
   "cell_type": "code",
   "execution_count": 18,
   "metadata": {},
   "outputs": [
    {
     "name": "stdout",
     "output_type": "stream",
     "text": [
      "                                      \n",
      "q_0: ─────────────■────────────────■──\n",
      "     ┌─────────┐┌─┴─┐┌──────────┐┌─┴─┐\n",
      "q_1: ┤ RY(π/2) ├┤ X ├┤ RY(-π/2) ├┤ X ├\n",
      "     └─────────┘└───┘└──────────┘└───┘\n",
      "[1.+0.j 0.+0.j 0.+0.j 0.+0.j]\n"
     ]
    }
   ],
   "source": [
    "qc = QuantumCircuit(2)\n",
    "theta = pi # theta can be anything (pi chosen arbitrarily)\n",
    "qc.ry(theta/2,t)\n",
    "qc.cx(c,t)\n",
    "qc.ry(-theta/2,t)\n",
    "qc.cx(c,t)\n",
    "print(qc.draw())\n",
    "backend = Aer.get_backend('statevector_simulator')\n",
    "job = assemble(qc)\n",
    "output = backend.run(job).result().get_statevector()\n",
    "print(output)"
   ]
  },
  {
   "cell_type": "code",
   "execution_count": 14,
   "metadata": {},
   "outputs": [
    {
     "data": {
      "text/plain": [
       "array([0.+0.j, 0.+0.j, 0.-1.j, 0.+0.j])"
      ]
     },
     "execution_count": 14,
     "metadata": {},
     "output_type": "execute_result"
    }
   ],
   "source": [
    "#v gate\n",
    "qcv = QuantumCircuit(2, 2)\n",
    "thetaa = pi\n",
    "qcv.rx(thetaa/2, 1)\n",
    "qcv.cx(0, 1)\n",
    "qcv.measure(1, 0)\n",
    "qcv.draw()\n",
    "backend = Aer.get_backend('statevector_simulator')\n",
    "job = assemble(qcv)\n",
    "output = backend.run(job).result().get_statevector()\n",
    "output"
   ]
  },
  {
   "cell_type": "code",
   "execution_count": 31,
   "metadata": {},
   "outputs": [],
   "source": [
    "#v gate act as a not gate --- vv = not\n",
    "def VG(inp1, inp2):\n",
    "    qcv = QuantumCircuit(3, 1)\n",
    "    qcv.reset(range(3))\n",
    "    \n",
    "    if inp1 == '1':\n",
    "        qcv.x(0)\n",
    "    if inp2 == '1':\n",
    "        qcv.x(1)\n",
    "    \n",
    "    thetaa = pi\n",
    "    qcv.rx(thetaa/2, 1)\n",
    "    qcv.cx(0, 1)\n",
    "    qcv.rx(thetaa/2, 1)\n",
    "    qcv.cx(0, 1)\n",
    "\n",
    "    qcv.measure(1, 0)\n",
    "   \n",
    "    backend = Aer.get_backend('qasm_simulator')\n",
    "    job = execute(qcv, backend, shots = 1, memory = True)\n",
    "    output = job.result().get_memory()[0]\n",
    "    \n",
    "    return qcv, output"
   ]
  },
  {
   "cell_type": "code",
   "execution_count": 32,
   "metadata": {},
   "outputs": [
    {
     "name": "stdout",
     "output_type": "stream",
     "text": [
      "v gate input is  0 0 output is  1\n",
      "v gate input is  0 1 output is  0\n",
      "v gate input is  1 0 output is  1\n",
      "v gate input is  1 1 output is  0\n"
     ]
    },
    {
     "data": {
      "image/png": "[encoded data removed]",
      "text/plain": [
       "<Figure size 507.997x264.88 with 1 Axes>"
      ]
     },
     "execution_count": 32,
     "metadata": {},
     "output_type": "execute_result"
    }
   ],
   "source": [
    "for inp1 in ['0', '1']:\n",
    "    for inp2 in ['0', '1']:\n",
    "        qc, output = VG(inp1, inp2)\n",
    "        print('v gate input is ', inp1, inp2, 'output is ', output)\n",
    "qc.draw('mpl')"
   ]
  },
  {
   "cell_type": "code",
   "execution_count": 33,
   "metadata": {},
   "outputs": [],
   "source": [
    "#v+ gate act as a not gate --- v+v+ = not\n",
    "def VPG(inp1, inp2):\n",
    "    qcv = QuantumCircuit(3, 1)\n",
    "    qcv.reset(range(3))\n",
    "    \n",
    "    if inp1 == '1':\n",
    "        qcv.x(0)\n",
    "    if inp2 == '1':\n",
    "        qcv.x(1)\n",
    "    \n",
    "    thetaa = pi\n",
    "    qcv.rx(-thetaa/2, 1)\n",
    "    qcv.cx(0, 1)\n",
    "    qcv.rx(-thetaa/2, 1)\n",
    "    qcv.cx(0, 1)\n",
    "\n",
    "    qcv.measure(1, 0)\n",
    "   \n",
    "    backend = Aer.get_backend('qasm_simulator')\n",
    "    job = execute(qcv, backend, shots = 1, memory = True)\n",
    "    output = job.result().get_memory()[0]\n",
    "    \n",
    "    return qcv, output"
   ]
  },
  {
   "cell_type": "code",
   "execution_count": 34,
   "metadata": {},
   "outputs": [
    {
     "name": "stdout",
     "output_type": "stream",
     "text": [
      "v gate input is  0 0 output is  1\n",
      "v gate input is  0 1 output is  0\n",
      "v gate input is  1 0 output is  1\n",
      "v gate input is  1 1 output is  0\n"
     ]
    },
    {
     "data": {
      "image/png": "[encoded data removed]",
      "text/plain": [
       "<Figure size 507.997x264.88 with 1 Axes>"
      ]
     },
     "execution_count": 34,
     "metadata": {},
     "output_type": "execute_result"
    }
   ],
   "source": [
    "for inp1 in ['0', '1']:\n",
    "    for inp2 in ['0', '1']:\n",
    "        qc, output = VPG(inp1, inp2)\n",
    "        print('v gate input is ', inp1, inp2, 'output is ', output)\n",
    "qc.draw('mpl')"
   ]
  },
  {
   "cell_type": "code",
   "execution_count": 38,
   "metadata": {},
   "outputs": [],
   "source": [
    "#v and v+ gate act as a not gate --- v v+ = 1\n",
    "def VG1(inp1, inp2):\n",
    "    qcv = QuantumCircuit(2, 1)\n",
    "    qcv.reset(range(2))\n",
    "    \n",
    "    if inp1 == '1':\n",
    "        qcv.x(0)\n",
    "    if inp2 == '1':\n",
    "        qcv.x(1)\n",
    "    \n",
    "    thetaa = pi\n",
    "    qcv.rx(thetaa/2, 1)\n",
    "    qcv.cx(0, 1)\n",
    "    qcv.rx(-thetaa/2, 1)\n",
    "    qcv.cx(0, 1)\n",
    "\n",
    "    qcv.measure(1, 0)\n",
    "   \n",
    "    backend = Aer.get_backend('qasm_simulator')\n",
    "    job = execute(qcv, backend, shots = 1, memory = True)\n",
    "    output = job.result().get_memory()[0]\n",
    "    \n",
    "    return qcv, output"
   ]
  },
  {
   "cell_type": "code",
   "execution_count": 39,
   "metadata": {},
   "outputs": [
    {
     "name": "stdout",
     "output_type": "stream",
     "text": [
      "v gate input is  0 0 output is  0\n",
      "v gate input is  0 1 output is  1\n",
      "v gate input is  1 0 output is  0\n",
      "v gate input is  1 1 output is  1\n"
     ]
    },
    {
     "data": {
      "image/png": "[encoded data removed]",
      "text/plain": [
       "<Figure size 507.852x204.68 with 1 Axes>"
      ]
     },
     "execution_count": 39,
     "metadata": {},
     "output_type": "execute_result"
    }
   ],
   "source": [
    "for inp1 in ['0', '1']:\n",
    "    for inp2 in ['0', '1']:\n",
    "        qc, output = VG1(inp1, inp2)\n",
    "        print('v gate input is ', inp1, inp2, 'output is ', output)\n",
    "qc.draw('mpl')"
   ]
  },
  {
   "cell_type": "code",
   "execution_count": null,
   "metadata": {},
   "outputs": [],
   "source": []
  }
 ],
 "metadata": {
  "kernelspec": {
   "display_name": "Python 3",
   "language": "python",
   "name": "python3"
  },
  "language_info": {
   "codemirror_mode": {
    "name": "ipython",
    "version": 3
   },
   "file_extension": ".py",
   "mimetype": "text/x-python",
   "name": "python",
   "nbconvert_exporter": "python",
   "pygments_lexer": "ipython3",
   "version": "3.8.5"
  }
 },
 "nbformat": 4,
 "nbformat_minor": 4
}
