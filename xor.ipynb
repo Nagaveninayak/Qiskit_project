{
 "cells": [
  {
   "cell_type": "code",
   "execution_count": 2,
   "metadata": {},
   "outputs": [],
   "source": [
    "from qiskit import *"
   ]
  },
  {
   "cell_type": "code",
   "execution_count": 7,
   "metadata": {},
   "outputs": [],
   "source": [
    "def XOR(inp1,inp2):\n",
    "\n",
    "    qc = QuantumCircuit(2, 1) \n",
    "    qc.reset(range(2))\n",
    "    \n",
    "    if inp1=='1':\n",
    "        qc.x(0)\n",
    "    if inp2=='1':\n",
    "        qc.x(1)\n",
    "    \n",
    "    # barrier between input state and gate operation \n",
    "    qc.barrier()\n",
    "    # barrier between input state and gate operation \n",
    "    qc.barrier()\n",
    "    \n",
    "    qc.cx(0,1)\n",
    "    \n",
    "    qc.measure(1,0) # output from qubit 1 is measured\n",
    "  \n",
    "    #We'll run the program on a simulator\n",
    "    backend = Aer.get_backend('qasm_simulator')\n",
    "    #Since the output will be deterministic, we can use just a single shot to get it\n",
    "    job = execute(qc, backend, shots=1, memory=True)\n",
    "    output = job.result().get_memory()[0]\n",
    "  \n",
    "    return qc, output\n",
    "\n"
   ]
  },
  {
   "cell_type": "code",
   "execution_count": 8,
   "metadata": {},
   "outputs": [
    {
     "name": "stdout",
     "output_type": "stream",
     "text": [
      "XOR with inputs 0 0 gives output 0\n"
     ]
    },
    {
     "data": {
      "text/html": [
       "<pre style=\"word-wrap: normal;white-space: pre;background: #fff0;line-height: 1.1;font-family: &quot;Courier New&quot;,Courier,monospace\">           ░  ░         \n",
       "q_0: ─|0>──░──░───■─────\n",
       "           ░  ░ ┌─┴─┐┌─┐\n",
       "q_1: ─|0>──░──░─┤ X ├┤M├\n",
       "           ░  ░ └───┘└╥┘\n",
       "c: 1/═════════════════╩═\n",
       "                      0 </pre>"
      ],
      "text/plain": [
       "           ░  ░         \n",
       "q_0: ─|0>──░──░───■─────\n",
       "           ░  ░ ┌─┴─┐┌─┐\n",
       "q_1: ─|0>──░──░─┤ X ├┤M├\n",
       "           ░  ░ └───┘└╥┘\n",
       "c: 1/═════════════════╩═\n",
       "                      0 "
      ]
     },
     "metadata": {},
     "output_type": "display_data"
    },
    {
     "name": "stdout",
     "output_type": "stream",
     "text": [
      "\n",
      "\n",
      "XOR with inputs 0 1 gives output 1\n"
     ]
    },
    {
     "data": {
      "text/html": [
       "<pre style=\"word-wrap: normal;white-space: pre;background: #fff0;line-height: 1.1;font-family: &quot;Courier New&quot;,Courier,monospace\">                ░  ░         \n",
       "q_0: ─|0>───────░──░───■─────\n",
       "          ┌───┐ ░  ░ ┌─┴─┐┌─┐\n",
       "q_1: ─|0>─┤ X ├─░──░─┤ X ├┤M├\n",
       "          └───┘ ░  ░ └───┘└╥┘\n",
       "c: 1/══════════════════════╩═\n",
       "                           0 </pre>"
      ],
      "text/plain": [
       "                ░  ░         \n",
       "q_0: ─|0>───────░──░───■─────\n",
       "          ┌───┐ ░  ░ ┌─┴─┐┌─┐\n",
       "q_1: ─|0>─┤ X ├─░──░─┤ X ├┤M├\n",
       "          └───┘ ░  ░ └───┘└╥┘\n",
       "c: 1/══════════════════════╩═\n",
       "                           0 "
      ]
     },
     "metadata": {},
     "output_type": "display_data"
    },
    {
     "name": "stdout",
     "output_type": "stream",
     "text": [
      "\n",
      "\n",
      "XOR with inputs 1 0 gives output 1\n"
     ]
    },
    {
     "data": {
      "text/html": [
       "<pre style=\"word-wrap: normal;white-space: pre;background: #fff0;line-height: 1.1;font-family: &quot;Courier New&quot;,Courier,monospace\">          ┌───┐ ░  ░         \n",
       "q_0: ─|0>─┤ X ├─░──░───■─────\n",
       "          └───┘ ░  ░ ┌─┴─┐┌─┐\n",
       "q_1: ─|0>───────░──░─┤ X ├┤M├\n",
       "                ░  ░ └───┘└╥┘\n",
       "c: 1/══════════════════════╩═\n",
       "                           0 </pre>"
      ],
      "text/plain": [
       "          ┌───┐ ░  ░         \n",
       "q_0: ─|0>─┤ X ├─░──░───■─────\n",
       "          └───┘ ░  ░ ┌─┴─┐┌─┐\n",
       "q_1: ─|0>───────░──░─┤ X ├┤M├\n",
       "                ░  ░ └───┘└╥┘\n",
       "c: 1/══════════════════════╩═\n",
       "                           0 "
      ]
     },
     "metadata": {},
     "output_type": "display_data"
    },
    {
     "name": "stdout",
     "output_type": "stream",
     "text": [
      "\n",
      "\n",
      "XOR with inputs 1 1 gives output 0\n"
     ]
    },
    {
     "data": {
      "text/html": [
       "<pre style=\"word-wrap: normal;white-space: pre;background: #fff0;line-height: 1.1;font-family: &quot;Courier New&quot;,Courier,monospace\">          ┌───┐ ░  ░         \n",
       "q_0: ─|0>─┤ X ├─░──░───■─────\n",
       "          ├───┤ ░  ░ ┌─┴─┐┌─┐\n",
       "q_1: ─|0>─┤ X ├─░──░─┤ X ├┤M├\n",
       "          └───┘ ░  ░ └───┘└╥┘\n",
       "c: 1/══════════════════════╩═\n",
       "                           0 </pre>"
      ],
      "text/plain": [
       "          ┌───┐ ░  ░         \n",
       "q_0: ─|0>─┤ X ├─░──░───■─────\n",
       "          ├───┤ ░  ░ ┌─┴─┐┌─┐\n",
       "q_1: ─|0>─┤ X ├─░──░─┤ X ├┤M├\n",
       "          └───┘ ░  ░ └───┘└╥┘\n",
       "c: 1/══════════════════════╩═\n",
       "                           0 "
      ]
     },
     "metadata": {},
     "output_type": "display_data"
    },
    {
     "name": "stdout",
     "output_type": "stream",
     "text": [
      "\n",
      "\n"
     ]
    }
   ],
   "source": [
    "for inp1 in ['0', '1']:\n",
    "    for inp2 in ['0', '1']:\n",
    "        qc, output = XOR(inp1, inp2)\n",
    "        print('XOR with inputs',inp1,inp2,'gives output',output)\n",
    "        display(qc.draw())\n",
    "        print('\\n')"
   ]
  },
  {
   "cell_type": "code",
   "execution_count": null,
   "metadata": {},
   "outputs": [],
   "source": []
  }
 ],
 "metadata": {
  "kernelspec": {
   "display_name": "Python 3",
   "language": "python",
   "name": "python3"
  },
  "language_info": {
   "codemirror_mode": {
    "name": "ipython",
    "version": 3
   },
   "file_extension": ".py",
   "mimetype": "text/x-python",
   "name": "python",
   "nbconvert_exporter": "python",
   "pygments_lexer": "ipython3",
   "version": "3.8.5"
  }
 },
 "nbformat": 4,
 "nbformat_minor": 4
}
