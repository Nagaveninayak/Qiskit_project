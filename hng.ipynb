{
 "cells": [
  {
   "cell_type": "code",
   "execution_count": 1,
   "metadata": {},
   "outputs": [],
   "source": [
    "from qiskit import QuantumCircuit, Aer, execute"
   ]
  },
  {
   "cell_type": "code",
   "execution_count": 2,
   "metadata": {},
   "outputs": [],
   "source": [
    "def hng(inp1, inp2, inp3, inp4):\n",
    "    qc = QuantumCircuit(4, 4)\n",
    "    if(inp1 == '1'):\n",
    "        qc.x(0)\n",
    "    if(inp2 == '1'):\n",
    "        qc.x(1)\n",
    "    if(inp3 == '1'):\n",
    "        qc.x(2)\n",
    "    if(inp4 == '1'):\n",
    "        qc.x(3)\n",
    "    \n",
    "    qc.ccx(0, 2, 3)\n",
    "    qc.cx(0, 2)\n",
    "    qc.ccx(1, 2, 3)\n",
    "    qc.cx(1, 2)\n",
    "    \n",
    "    qc.measure(0, 3)\n",
    "    qc.measure(1, 2)\n",
    "    qc.measure(2, 1)\n",
    "    qc.measure(3, 0)\n",
    "    \n",
    "    backend = Aer.get_backend('qasm_simulator')\n",
    "    job = execute(qc, backend, memory = True )\n",
    "    output = job.result().get_memory()[0]\n",
    "    \n",
    "    return qc, output"
   ]
  },
  {
   "cell_type": "code",
   "execution_count": 3,
   "metadata": {},
   "outputs": [
    {
     "name": "stdout",
     "output_type": "stream",
     "text": [
      "i1 i2 i3 i4 = pqrs\n",
      "0  0  0  0 =  0000 \n",
      "0  0  0  1 =  0001 \n",
      "0  0  1  0 =  0010 \n",
      "0  0  1  1 =  0011 \n",
      "0  1  0  0 =  0110 \n",
      "0  1  0  1 =  0111 \n",
      "0  1  1  0 =  0101 \n",
      "0  1  1  1 =  0100 \n",
      "1  0  0  0 =  1010 \n",
      "1  0  0  1 =  1011 \n",
      "1  0  1  0 =  1001 \n",
      "1  0  1  1 =  1000 \n",
      "1  1  0  0 =  1101 \n",
      "1  1  0  1 =  1100 \n",
      "1  1  1  0 =  1111 \n",
      "1  1  1  1 =  1110 \n"
     ]
    },
    {
     "data": {
      "image/png": "[encoded data removed]",
      "text/plain": [
       "<Figure size 568.197x325.08 with 1 Axes>"
      ]
     },
     "metadata": {},
     "output_type": "display_data"
    }
   ],
   "source": [
    "print('{} {} {} {}'.format('i1', 'i2', 'i3', 'i4'), '=', 'pqrs')\n",
    "for inp1 in ['0', '1']:\n",
    "    for inp2 in ['0', '1']:\n",
    "        for inp3 in ['0', '1']:\n",
    "            for inp4 in ['0', '1']:\n",
    "                qc, output = hng(inp1, inp2, inp3, inp4)\n",
    "                print('{}  {}  {}  {}'.format(inp1, inp2, inp3, inp4), '=', ' {} '.format(output))\n",
    "            \n",
    "display(qc.draw('mpl'))"
   ]
  },
  {
   "cell_type": "code",
   "execution_count": 7,
   "metadata": {},
   "outputs": [],
   "source": [
    "#hng gate as a full adder\n",
    "def hng_adder(inp1, inp2, inp3, inp4):\n",
    "    qc = QuantumCircuit(4, 2)\n",
    "    if(inp1 == '1'):\n",
    "        qc.x(0)\n",
    "    if(inp2 == '1'):\n",
    "        qc.x(1)\n",
    "    if(inp3 == '1'):\n",
    "        qc.x(2)\n",
    "\n",
    "    \n",
    "    qc.ccx(0, 2, 3)\n",
    "    qc.cx(0, 2)\n",
    "    qc.ccx(1, 2, 3)\n",
    "    qc.cx(1, 2)\n",
    "    \n",
    "    qc.measure(2, 1)\n",
    "    qc.measure(3, 0)\n",
    "    \n",
    "    backend = Aer.get_backend('qasm_simulator')\n",
    "    job = execute(qc, backend, memory = True )\n",
    "    output = job.result().get_memory()[0]\n",
    "    \n",
    "    return qc, output"
   ]
  },
  {
   "cell_type": "code",
   "execution_count": 8,
   "metadata": {},
   "outputs": [
    {
     "name": "stdout",
     "output_type": "stream",
     "text": [
      "i1 i2 i3  = s carry\n",
      "0 0 0 = 00\n",
      "0 0 1 = 10\n",
      "0 1 0 = 10\n",
      "0 1 1 = 01\n",
      "1 0 0 = 10\n",
      "1 0 1 = 01\n",
      "1 1 0 = 01\n",
      "1 1 1 = 11\n"
     ]
    },
    {
     "data": {
      "image/png": "[encoded data removed]",
      "text/plain": [
       "<Figure size 447.797x325.08 with 1 Axes>"
      ]
     },
     "metadata": {},
     "output_type": "display_data"
    }
   ],
   "source": [
    "print('{} {} {} '.format('i1', 'i2', 'i3'), '=', 's carry')\n",
    "for inp1 in ['0', '1']:\n",
    "    for inp2 in ['0', '1']:\n",
    "        for inp3 in ['0', '1']:\n",
    "            qc, output = hng_adder(inp1, inp2, inp3, inp4)\n",
    "            print('{} {} {}'.format(inp1, inp2, inp3), '=', output)\n",
    "            \n",
    "display(qc.draw('mpl'))"
   ]
  },
  {
   "cell_type": "code",
   "execution_count": 9,
   "metadata": {},
   "outputs": [],
   "source": [
    "#hng gate as a full subtractor\n",
    "def hng_subtractor(inp1, inp2, inp3, inp4):\n",
    "    qc = QuantumCircuit(4, 2)\n",
    "    if(inp1 == '1'):\n",
    "        qc.x(0)\n",
    "    if(inp2 == '1'):\n",
    "        qc.x(1)\n",
    "    if(inp3 == '1'):\n",
    "        qc.x(2)\n",
    "    \n",
    "    qc.x(0)\n",
    "    qc.ccx(0, 2, 3)\n",
    "    qc.cx(0, 2)\n",
    "    qc.ccx(1, 2, 3)\n",
    "    qc.cx(1, 2)\n",
    "    qc.x(2)\n",
    "    \n",
    "    qc.measure(2, 1)\n",
    "    qc.measure(3, 0)\n",
    "    \n",
    "    backend = Aer.get_backend('qasm_simulator')\n",
    "    job = execute(qc, backend, memory = True )\n",
    "    output = job.result().get_memory()[0]\n",
    "    \n",
    "    return qc, output"
   ]
  },
  {
   "cell_type": "code",
   "execution_count": 12,
   "metadata": {},
   "outputs": [
    {
     "name": "stdout",
     "output_type": "stream",
     "text": [
      "i1 i2 i3  = d barrow\n",
      "0 0 0 = 00\n",
      "0 0 1 = 11\n",
      "0 1 0 = 11\n",
      "0 1 1 = 01\n",
      "1 0 0 = 10\n",
      "1 0 1 = 00\n",
      "1 1 0 = 00\n",
      "1 1 1 = 11\n"
     ]
    },
    {
     "data": {
      "image/png": "[encoded data removed]",
      "text/plain": [
       "<Figure size 568.197x325.08 with 1 Axes>"
      ]
     },
     "metadata": {},
     "output_type": "display_data"
    }
   ],
   "source": [
    "print('{} {} {} '.format('i1', 'i2', 'i3'), '=', 'd barrow')\n",
    "for inp1 in ['0', '1']:\n",
    "    for inp2 in ['0', '1']:\n",
    "        for inp3 in ['0', '1']:\n",
    "            qc, output = hng_subtractor(inp1, inp2, inp3, inp4)\n",
    "            print('{} {} {}'.format(inp1, inp2, inp3), '=', output)\n",
    "            \n",
    "display(qc.draw('mpl'))"
   ]
  },
  {
   "cell_type": "code",
   "execution_count": 14,
   "metadata": {},
   "outputs": [
    {
     "name": "stderr",
     "output_type": "stream",
     "text": [
      "configrc.store_credentials:WARNING:2021-06-25 18:16:13,833: Credentials already present. Set overwrite=True to overwrite.\n"
     ]
    }
   ],
   "source": [
    "from qiskit import IBMQ\n",
    "IBMQ.save_account(\"35e27d8d7b2151e13807719aac67740cf61a01cd7f6b546559ccee02dcdd225f22b71a831c620edf0809d29914e69fb9d62ca27f8c9035bb630a529ad40bcf88\")"
   ]
  },
  {
   "cell_type": "code",
   "execution_count": 15,
   "metadata": {},
   "outputs": [
    {
     "data": {
      "text/plain": [
       "[<IBMQSimulator('ibmq_qasm_simulator') from IBMQ(hub='ibm-q', group='open', project='main')>,\n",
       " <IBMQBackend('ibmqx2') from IBMQ(hub='ibm-q', group='open', project='main')>,\n",
       " <IBMQBackend('ibmq_16_melbourne') from IBMQ(hub='ibm-q', group='open', project='main')>,\n",
       " <IBMQBackend('ibmq_armonk') from IBMQ(hub='ibm-q', group='open', project='main')>,\n",
       " <IBMQBackend('ibmq_athens') from IBMQ(hub='ibm-q', group='open', project='main')>,\n",
       " <IBMQBackend('ibmq_santiago') from IBMQ(hub='ibm-q', group='open', project='main')>,\n",
       " <IBMQBackend('ibmq_lima') from IBMQ(hub='ibm-q', group='open', project='main')>,\n",
       " <IBMQBackend('ibmq_belem') from IBMQ(hub='ibm-q', group='open', project='main')>,\n",
       " <IBMQBackend('ibmq_quito') from IBMQ(hub='ibm-q', group='open', project='main')>,\n",
       " <IBMQSimulator('simulator_statevector') from IBMQ(hub='ibm-q', group='open', project='main')>,\n",
       " <IBMQSimulator('simulator_mps') from IBMQ(hub='ibm-q', group='open', project='main')>,\n",
       " <IBMQSimulator('simulator_extended_stabilizer') from IBMQ(hub='ibm-q', group='open', project='main')>,\n",
       " <IBMQSimulator('simulator_stabilizer') from IBMQ(hub='ibm-q', group='open', project='main')>,\n",
       " <IBMQBackend('ibmq_manila') from IBMQ(hub='ibm-q', group='open', project='main')>]"
      ]
     },
     "execution_count": 15,
     "metadata": {},
     "output_type": "execute_result"
    }
   ],
   "source": [
    "IBMQ.load_account()\n",
    "IBMQ.providers()\n",
    "providers = IBMQ.get_provider('ibm-q')\n",
    "providers.backends()"
   ]
  },
  {
   "cell_type": "code",
   "execution_count": 16,
   "metadata": {},
   "outputs": [
    {
     "name": "stdout",
     "output_type": "stream",
     "text": [
      "ibmq_qasm_simulator has 0 queued and simulated qubits\n",
      "ibmqx2 has 1273 queued and 5 qubits\n",
      "ibmq_16_melbourne has 147 queued and 15 qubits\n",
      "ibmq_armonk has 5 queued and 1 qubits\n",
      "ibmq_athens has 2 queued and 5 qubits\n",
      "ibmq_santiago has 79 queued and 5 qubits\n",
      "ibmq_lima has 1 queued and 5 qubits\n",
      "ibmq_belem has 5 queued and 5 qubits\n",
      "ibmq_quito has 13 queued and 5 qubits\n",
      "simulator_statevector has 2 queued and simulated qubits\n",
      "simulator_mps has 0 queued and simulated qubits\n",
      "simulator_extended_stabilizer has 0 queued and simulated qubits\n",
      "simulator_stabilizer has 0 queued and simulated qubits\n",
      "ibmq_manila has 40 queued and 5 qubits\n"
     ]
    }
   ],
   "source": [
    "provider = IBMQ.get_provider(\"ibm-q\")\n",
    "for backend in provider.backends():\n",
    "    try:\n",
    "        qubit_count = len(backend.properties().qubits)\n",
    "    except:\n",
    "        qubit_count = \"simulated\"\n",
    "        \n",
    "    print(f\"{backend.name()} has {backend.status().pending_jobs} queued and {qubit_count} qubits\")"
   ]
  },
  {
   "cell_type": "code",
   "execution_count": 83,
   "metadata": {},
   "outputs": [],
   "source": [
    "import qiskit.tools.jupyter\n",
    "from qiskit import *\n",
    "from qiskit.tools.monitor import job_monitor"
   ]
  },
  {
   "cell_type": "code",
   "execution_count": 86,
   "metadata": {},
   "outputs": [],
   "source": [
    "def hng_sub(inp1, inp2, inp3, inp4, backend):\n",
    "    \n",
    "    qc = QuantumCircuit(5, 2)\n",
    "    if(inp1 == '1'):\n",
    "        qc.x(0)\n",
    "    if(inp2 == '1'):\n",
    "        qc.x(1)\n",
    "    if(inp3 == '1'):\n",
    "        qc.x(2)\n",
    "    \n",
    "    qc.x(0)\n",
    "    qc.ccx(0, 2, 3)\n",
    "    qc.cx(0, 2)\n",
    "    qc.ccx(1, 2, 3)\n",
    "    qc.cx(1, 2)\n",
    "    qc.x(2)\n",
    "    \n",
    "    qc.measure(2, 1)\n",
    "    qc.measure(3, 0)\n",
    "  \n",
    "    qc_trans = transpile(qc, backend, initial_layout=layout, optimization_level=3)\n",
    "    job = execute(qc_trans, backend, shots=8192)\n",
    "    print(job.job_id())\n",
    "    job_monitor(job)\n",
    "    \n",
    "    output = job.result().get_counts()\n",
    "    \n",
    "    return qc_trans, output"
   ]
  },
  {
   "cell_type": "code",
   "execution_count": 88,
   "metadata": {},
   "outputs": [
    {
     "ename": "LayoutError",
     "evalue": "'Integer list length must equal number of qubits in circuit.'",
     "output_type": "error",
     "traceback": [
      "\u001b[1;31m---------------------------------------------------------------------------\u001b[0m",
      "\u001b[1;31mLayoutError\u001b[0m                               Traceback (most recent call last)",
      "\u001b[1;32m<ipython-input-88-ebe049bc3292>\u001b[0m in \u001b[0;36m<module>\u001b[1;34m\u001b[0m\n\u001b[0;32m     12\u001b[0m             \u001b[1;32mfor\u001b[0m \u001b[0minput4\u001b[0m \u001b[1;32min\u001b[0m \u001b[1;33m[\u001b[0m\u001b[1;34m'0'\u001b[0m\u001b[1;33m,\u001b[0m \u001b[1;34m'0'\u001b[0m\u001b[1;33m]\u001b[0m\u001b[1;33m:\u001b[0m\u001b[1;33m\u001b[0m\u001b[1;33m\u001b[0m\u001b[0m\n\u001b[0;32m     13\u001b[0m \u001b[1;33m\u001b[0m\u001b[0m\n\u001b[1;32m---> 14\u001b[1;33m                 \u001b[0mqc_trans1\u001b[0m\u001b[1;33m,\u001b[0m \u001b[0moutput1\u001b[0m \u001b[1;33m=\u001b[0m \u001b[0mhng_sub\u001b[0m\u001b[1;33m(\u001b[0m\u001b[0minput1\u001b[0m\u001b[1;33m,\u001b[0m \u001b[0minput2\u001b[0m\u001b[1;33m,\u001b[0m \u001b[0minput3\u001b[0m\u001b[1;33m,\u001b[0m \u001b[0minput4\u001b[0m\u001b[1;33m,\u001b[0m \u001b[0mbackend1\u001b[0m\u001b[1;33m)\u001b[0m\u001b[1;33m\u001b[0m\u001b[1;33m\u001b[0m\u001b[0m\n\u001b[0m\u001b[0;32m     15\u001b[0m \u001b[1;33m\u001b[0m\u001b[0m\n\u001b[0;32m     16\u001b[0m                 \u001b[0moutput1_all\u001b[0m\u001b[1;33m.\u001b[0m\u001b[0mappend\u001b[0m\u001b[1;33m(\u001b[0m\u001b[0moutput1\u001b[0m\u001b[1;33m)\u001b[0m\u001b[1;33m\u001b[0m\u001b[1;33m\u001b[0m\u001b[0m\n",
      "\u001b[1;32m<ipython-input-86-03293c647293>\u001b[0m in \u001b[0;36mhng_sub\u001b[1;34m(inp1, inp2, inp3, inp4, backend)\u001b[0m\n\u001b[0;32m     19\u001b[0m     \u001b[0mqc\u001b[0m\u001b[1;33m.\u001b[0m\u001b[0mmeasure\u001b[0m\u001b[1;33m(\u001b[0m\u001b[1;36m3\u001b[0m\u001b[1;33m,\u001b[0m \u001b[1;36m0\u001b[0m\u001b[1;33m)\u001b[0m\u001b[1;33m\u001b[0m\u001b[1;33m\u001b[0m\u001b[0m\n\u001b[0;32m     20\u001b[0m \u001b[1;33m\u001b[0m\u001b[0m\n\u001b[1;32m---> 21\u001b[1;33m     \u001b[0mqc_trans\u001b[0m \u001b[1;33m=\u001b[0m \u001b[0mtranspile\u001b[0m\u001b[1;33m(\u001b[0m\u001b[0mqc\u001b[0m\u001b[1;33m,\u001b[0m \u001b[0mbackend\u001b[0m\u001b[1;33m,\u001b[0m \u001b[0minitial_layout\u001b[0m\u001b[1;33m=\u001b[0m\u001b[0mlayout\u001b[0m\u001b[1;33m,\u001b[0m \u001b[0moptimization_level\u001b[0m\u001b[1;33m=\u001b[0m\u001b[1;36m3\u001b[0m\u001b[1;33m)\u001b[0m\u001b[1;33m\u001b[0m\u001b[1;33m\u001b[0m\u001b[0m\n\u001b[0m\u001b[0;32m     22\u001b[0m     \u001b[0mjob\u001b[0m \u001b[1;33m=\u001b[0m \u001b[0mexecute\u001b[0m\u001b[1;33m(\u001b[0m\u001b[0mqc_trans\u001b[0m\u001b[1;33m,\u001b[0m \u001b[0mbackend\u001b[0m\u001b[1;33m,\u001b[0m \u001b[0mshots\u001b[0m\u001b[1;33m=\u001b[0m\u001b[1;36m8192\u001b[0m\u001b[1;33m)\u001b[0m\u001b[1;33m\u001b[0m\u001b[1;33m\u001b[0m\u001b[0m\n\u001b[0;32m     23\u001b[0m     \u001b[0mprint\u001b[0m\u001b[1;33m(\u001b[0m\u001b[0mjob\u001b[0m\u001b[1;33m.\u001b[0m\u001b[0mjob_id\u001b[0m\u001b[1;33m(\u001b[0m\u001b[1;33m)\u001b[0m\u001b[1;33m)\u001b[0m\u001b[1;33m\u001b[0m\u001b[1;33m\u001b[0m\u001b[0m\n",
      "\u001b[1;32m~\\anaconda\\lib\\site-packages\\qiskit\\compiler\\transpile.py\u001b[0m in \u001b[0;36mtranspile\u001b[1;34m(circuits, backend, basis_gates, coupling_map, backend_properties, initial_layout, layout_method, routing_method, translation_method, scheduling_method, instruction_durations, dt, seed_transpiler, optimization_level, pass_manager, callback, output_name)\u001b[0m\n\u001b[0;32m    231\u001b[0m \u001b[1;33m\u001b[0m\u001b[0m\n\u001b[0;32m    232\u001b[0m     \u001b[1;31m# Get transpile_args to configure the circuit transpilation job(s)\u001b[0m\u001b[1;33m\u001b[0m\u001b[1;33m\u001b[0m\u001b[1;33m\u001b[0m\u001b[0m\n\u001b[1;32m--> 233\u001b[1;33m     transpile_args = _parse_transpile_args(circuits, backend, basis_gates, coupling_map,\n\u001b[0m\u001b[0;32m    234\u001b[0m                                            \u001b[0mbackend_properties\u001b[0m\u001b[1;33m,\u001b[0m \u001b[0minitial_layout\u001b[0m\u001b[1;33m,\u001b[0m\u001b[1;33m\u001b[0m\u001b[1;33m\u001b[0m\u001b[0m\n\u001b[0;32m    235\u001b[0m                                            \u001b[0mlayout_method\u001b[0m\u001b[1;33m,\u001b[0m \u001b[0mrouting_method\u001b[0m\u001b[1;33m,\u001b[0m \u001b[0mtranslation_method\u001b[0m\u001b[1;33m,\u001b[0m\u001b[1;33m\u001b[0m\u001b[1;33m\u001b[0m\u001b[0m\n",
      "\u001b[1;32m~\\anaconda\\lib\\site-packages\\qiskit\\compiler\\transpile.py\u001b[0m in \u001b[0;36m_parse_transpile_args\u001b[1;34m(circuits, backend, basis_gates, coupling_map, backend_properties, initial_layout, layout_method, routing_method, translation_method, scheduling_method, instruction_durations, dt, seed_transpiler, optimization_level, callback, output_name)\u001b[0m\n\u001b[0;32m    417\u001b[0m     \u001b[0mbackend_properties\u001b[0m \u001b[1;33m=\u001b[0m \u001b[0m_parse_backend_properties\u001b[0m\u001b[1;33m(\u001b[0m\u001b[0mbackend_properties\u001b[0m\u001b[1;33m,\u001b[0m \u001b[0mbackend\u001b[0m\u001b[1;33m,\u001b[0m \u001b[0mnum_circuits\u001b[0m\u001b[1;33m)\u001b[0m\u001b[1;33m\u001b[0m\u001b[1;33m\u001b[0m\u001b[0m\n\u001b[0;32m    418\u001b[0m     \u001b[0mbackend_num_qubits\u001b[0m \u001b[1;33m=\u001b[0m \u001b[0m_parse_backend_num_qubits\u001b[0m\u001b[1;33m(\u001b[0m\u001b[0mbackend\u001b[0m\u001b[1;33m,\u001b[0m \u001b[0mnum_circuits\u001b[0m\u001b[1;33m)\u001b[0m\u001b[1;33m\u001b[0m\u001b[1;33m\u001b[0m\u001b[0m\n\u001b[1;32m--> 419\u001b[1;33m     \u001b[0minitial_layout\u001b[0m \u001b[1;33m=\u001b[0m \u001b[0m_parse_initial_layout\u001b[0m\u001b[1;33m(\u001b[0m\u001b[0minitial_layout\u001b[0m\u001b[1;33m,\u001b[0m \u001b[0mcircuits\u001b[0m\u001b[1;33m)\u001b[0m\u001b[1;33m\u001b[0m\u001b[1;33m\u001b[0m\u001b[0m\n\u001b[0m\u001b[0;32m    420\u001b[0m     \u001b[0mlayout_method\u001b[0m \u001b[1;33m=\u001b[0m \u001b[0m_parse_layout_method\u001b[0m\u001b[1;33m(\u001b[0m\u001b[0mlayout_method\u001b[0m\u001b[1;33m,\u001b[0m \u001b[0mnum_circuits\u001b[0m\u001b[1;33m)\u001b[0m\u001b[1;33m\u001b[0m\u001b[1;33m\u001b[0m\u001b[0m\n\u001b[0;32m    421\u001b[0m     \u001b[0mrouting_method\u001b[0m \u001b[1;33m=\u001b[0m \u001b[0m_parse_routing_method\u001b[0m\u001b[1;33m(\u001b[0m\u001b[0mrouting_method\u001b[0m\u001b[1;33m,\u001b[0m \u001b[0mnum_circuits\u001b[0m\u001b[1;33m)\u001b[0m\u001b[1;33m\u001b[0m\u001b[1;33m\u001b[0m\u001b[0m\n",
      "\u001b[1;32m~\\anaconda\\lib\\site-packages\\qiskit\\compiler\\transpile.py\u001b[0m in \u001b[0;36m_parse_initial_layout\u001b[1;34m(initial_layout, circuits)\u001b[0m\n\u001b[0;32m    593\u001b[0m     \u001b[1;32melse\u001b[0m\u001b[1;33m:\u001b[0m\u001b[1;33m\u001b[0m\u001b[1;33m\u001b[0m\u001b[0m\n\u001b[0;32m    594\u001b[0m         \u001b[1;31m# even if one layout, but multiple circuits, the layout needs to be adapted for each\u001b[0m\u001b[1;33m\u001b[0m\u001b[1;33m\u001b[0m\u001b[1;33m\u001b[0m\u001b[0m\n\u001b[1;32m--> 595\u001b[1;33m         \u001b[0minitial_layout\u001b[0m \u001b[1;33m=\u001b[0m \u001b[1;33m[\u001b[0m\u001b[0m_layout_from_raw\u001b[0m\u001b[1;33m(\u001b[0m\u001b[0minitial_layout\u001b[0m\u001b[1;33m,\u001b[0m \u001b[0mcirc\u001b[0m\u001b[1;33m)\u001b[0m \u001b[1;32mfor\u001b[0m \u001b[0mcirc\u001b[0m \u001b[1;32min\u001b[0m \u001b[0mcircuits\u001b[0m\u001b[1;33m]\u001b[0m\u001b[1;33m\u001b[0m\u001b[1;33m\u001b[0m\u001b[0m\n\u001b[0m\u001b[0;32m    596\u001b[0m \u001b[1;33m\u001b[0m\u001b[0m\n\u001b[0;32m    597\u001b[0m     \u001b[1;32mif\u001b[0m \u001b[1;32mnot\u001b[0m \u001b[0misinstance\u001b[0m\u001b[1;33m(\u001b[0m\u001b[0minitial_layout\u001b[0m\u001b[1;33m,\u001b[0m \u001b[0mlist\u001b[0m\u001b[1;33m)\u001b[0m\u001b[1;33m:\u001b[0m\u001b[1;33m\u001b[0m\u001b[1;33m\u001b[0m\u001b[0m\n",
      "\u001b[1;32m~\\anaconda\\lib\\site-packages\\qiskit\\compiler\\transpile.py\u001b[0m in \u001b[0;36m<listcomp>\u001b[1;34m(.0)\u001b[0m\n\u001b[0;32m    593\u001b[0m     \u001b[1;32melse\u001b[0m\u001b[1;33m:\u001b[0m\u001b[1;33m\u001b[0m\u001b[1;33m\u001b[0m\u001b[0m\n\u001b[0;32m    594\u001b[0m         \u001b[1;31m# even if one layout, but multiple circuits, the layout needs to be adapted for each\u001b[0m\u001b[1;33m\u001b[0m\u001b[1;33m\u001b[0m\u001b[1;33m\u001b[0m\u001b[0m\n\u001b[1;32m--> 595\u001b[1;33m         \u001b[0minitial_layout\u001b[0m \u001b[1;33m=\u001b[0m \u001b[1;33m[\u001b[0m\u001b[0m_layout_from_raw\u001b[0m\u001b[1;33m(\u001b[0m\u001b[0minitial_layout\u001b[0m\u001b[1;33m,\u001b[0m \u001b[0mcirc\u001b[0m\u001b[1;33m)\u001b[0m \u001b[1;32mfor\u001b[0m \u001b[0mcirc\u001b[0m \u001b[1;32min\u001b[0m \u001b[0mcircuits\u001b[0m\u001b[1;33m]\u001b[0m\u001b[1;33m\u001b[0m\u001b[1;33m\u001b[0m\u001b[0m\n\u001b[0m\u001b[0;32m    596\u001b[0m \u001b[1;33m\u001b[0m\u001b[0m\n\u001b[0;32m    597\u001b[0m     \u001b[1;32mif\u001b[0m \u001b[1;32mnot\u001b[0m \u001b[0misinstance\u001b[0m\u001b[1;33m(\u001b[0m\u001b[0minitial_layout\u001b[0m\u001b[1;33m,\u001b[0m \u001b[0mlist\u001b[0m\u001b[1;33m)\u001b[0m\u001b[1;33m:\u001b[0m\u001b[1;33m\u001b[0m\u001b[1;33m\u001b[0m\u001b[0m\n",
      "\u001b[1;32m~\\anaconda\\lib\\site-packages\\qiskit\\compiler\\transpile.py\u001b[0m in \u001b[0;36m_layout_from_raw\u001b[1;34m(initial_layout, circuit)\u001b[0m\n\u001b[0;32m    577\u001b[0m         \u001b[1;32melif\u001b[0m \u001b[0misinstancelist\u001b[0m\u001b[1;33m(\u001b[0m\u001b[0minitial_layout\u001b[0m\u001b[1;33m)\u001b[0m\u001b[1;33m:\u001b[0m\u001b[1;33m\u001b[0m\u001b[1;33m\u001b[0m\u001b[0m\n\u001b[0;32m    578\u001b[0m             \u001b[1;32mif\u001b[0m \u001b[0mall\u001b[0m\u001b[1;33m(\u001b[0m\u001b[0misinstanceint\u001b[0m\u001b[1;33m(\u001b[0m\u001b[0melem\u001b[0m\u001b[1;33m)\u001b[0m \u001b[1;32mfor\u001b[0m \u001b[0melem\u001b[0m \u001b[1;32min\u001b[0m \u001b[0minitial_layout\u001b[0m\u001b[1;33m)\u001b[0m\u001b[1;33m:\u001b[0m\u001b[1;33m\u001b[0m\u001b[1;33m\u001b[0m\u001b[0m\n\u001b[1;32m--> 579\u001b[1;33m                 \u001b[0minitial_layout\u001b[0m \u001b[1;33m=\u001b[0m \u001b[0mLayout\u001b[0m\u001b[1;33m.\u001b[0m\u001b[0mfrom_intlist\u001b[0m\u001b[1;33m(\u001b[0m\u001b[0minitial_layout\u001b[0m\u001b[1;33m,\u001b[0m \u001b[1;33m*\u001b[0m\u001b[0mcircuit\u001b[0m\u001b[1;33m.\u001b[0m\u001b[0mqregs\u001b[0m\u001b[1;33m)\u001b[0m\u001b[1;33m\u001b[0m\u001b[1;33m\u001b[0m\u001b[0m\n\u001b[0m\u001b[0;32m    580\u001b[0m             \u001b[1;32melif\u001b[0m \u001b[0mall\u001b[0m\u001b[1;33m(\u001b[0m\u001b[0melem\u001b[0m \u001b[1;32mis\u001b[0m \u001b[1;32mNone\u001b[0m \u001b[1;32mor\u001b[0m \u001b[0misinstance\u001b[0m\u001b[1;33m(\u001b[0m\u001b[0melem\u001b[0m\u001b[1;33m,\u001b[0m \u001b[0mQubit\u001b[0m\u001b[1;33m)\u001b[0m \u001b[1;32mfor\u001b[0m \u001b[0melem\u001b[0m \u001b[1;32min\u001b[0m \u001b[0minitial_layout\u001b[0m\u001b[1;33m)\u001b[0m\u001b[1;33m:\u001b[0m\u001b[1;33m\u001b[0m\u001b[1;33m\u001b[0m\u001b[0m\n\u001b[0;32m    581\u001b[0m                 \u001b[0minitial_layout\u001b[0m \u001b[1;33m=\u001b[0m \u001b[0mLayout\u001b[0m\u001b[1;33m.\u001b[0m\u001b[0mfrom_qubit_list\u001b[0m\u001b[1;33m(\u001b[0m\u001b[0minitial_layout\u001b[0m\u001b[1;33m)\u001b[0m\u001b[1;33m\u001b[0m\u001b[1;33m\u001b[0m\u001b[0m\n",
      "\u001b[1;32m~\\anaconda\\lib\\site-packages\\qiskit\\transpiler\\layout.py\u001b[0m in \u001b[0;36mfrom_intlist\u001b[1;34m(int_list, *qregs)\u001b[0m\n\u001b[0;32m    288\u001b[0m         \u001b[1;31m# Check if list is too short to cover all qubits\u001b[0m\u001b[1;33m\u001b[0m\u001b[1;33m\u001b[0m\u001b[1;33m\u001b[0m\u001b[0m\n\u001b[0;32m    289\u001b[0m         \u001b[1;32mif\u001b[0m \u001b[0mlen\u001b[0m\u001b[1;33m(\u001b[0m\u001b[0mint_list\u001b[0m\u001b[1;33m)\u001b[0m \u001b[1;33m!=\u001b[0m \u001b[0mnum_qubits\u001b[0m\u001b[1;33m:\u001b[0m\u001b[1;33m\u001b[0m\u001b[1;33m\u001b[0m\u001b[0m\n\u001b[1;32m--> 290\u001b[1;33m             \u001b[1;32mraise\u001b[0m \u001b[0mLayoutError\u001b[0m\u001b[1;33m(\u001b[0m\u001b[1;34m'Integer list length must equal number of qubits in circuit.'\u001b[0m\u001b[1;33m)\u001b[0m\u001b[1;33m\u001b[0m\u001b[1;33m\u001b[0m\u001b[0m\n\u001b[0m\u001b[0;32m    291\u001b[0m         \u001b[0mout\u001b[0m \u001b[1;33m=\u001b[0m \u001b[0mLayout\u001b[0m\u001b[1;33m(\u001b[0m\u001b[1;33m)\u001b[0m\u001b[1;33m\u001b[0m\u001b[1;33m\u001b[0m\u001b[0m\n\u001b[0;32m    292\u001b[0m         \u001b[0mmain_idx\u001b[0m \u001b[1;33m=\u001b[0m \u001b[1;36m0\u001b[0m\u001b[1;33m\u001b[0m\u001b[1;33m\u001b[0m\u001b[0m\n",
      "\u001b[1;31mLayoutError\u001b[0m: 'Integer list length must equal number of qubits in circuit.'"
     ]
    }
   ],
   "source": [
    "backend1 = provider.get_backend('ibmq_qasm_simulator')\n",
    "layout1 = [0, 2, 4, 6,8]\n",
    "output1_all = []\n",
    "qc_trans1_all = []\n",
    "prob1_all = []\n",
    "\n",
    "worst = 1\n",
    "best = 0\n",
    "for input1 in ['0','1']:\n",
    "    for input2 in ['0','1']:\n",
    "        for input3 in ['0', '1']:\n",
    "            for input4 in ['0', '0']:\n",
    "                \n",
    "                qc_trans1, output1 = hng_sub(input1, input2, input3, input4, backend1)\n",
    "\n",
    "                output1_all.append(output1)\n",
    "                qc_trans1_all.append(qc_trans1)\n",
    "\n",
    "                prob = output1[str(int( input1=='1' and  input2=='0' and input3=='1'))]/8192\n",
    "                prob1_all.append(prob)\n",
    "\n",
    "                print('\\nProbability of correct answer for inputs',input1,input2, input3, input4)\n",
    "                print( '{:.2f}'.format(prob) )\n",
    "                print('---------------------------------')\n",
    "\n",
    "                worst = min(worst,prob)\n",
    "                best = max(best, prob)\n",
    "        \n",
    "print('')\n",
    "print('\\nThe highest of these probabilities was {:.2f}'.format(best))\n",
    "print('The lowest of these probabilities was {:.2f}'.format(worst))"
   ]
  },
  {
   "cell_type": "code",
   "execution_count": 58,
   "metadata": {},
   "outputs": [
    {
     "name": "stderr",
     "output_type": "stream",
     "text": [
      "ibmqfactory.load_account:WARNING:2021-06-25 18:52:12,976: Credentials are already in use. The existing account in the session will be replaced.\n"
     ]
    },
    {
     "data": {
      "text/plain": [
       "<qiskit.circuit.instructionset.InstructionSet at 0x269cf966a00>"
      ]
     },
     "execution_count": 58,
     "metadata": {},
     "output_type": "execute_result"
    }
   ],
   "source": [
    "IBMQ.load_account()\n",
    "provider = IBMQ.get_provider(hub='ibm-q')\n",
    "device = provider.get_backend('ibmq_qasm_simulator')\n",
    "from qiskit.visualization import plot_histogram\n",
    "qc = QuantumCircuit(4, 2)\n",
    "qc.x(0)\n",
    "qc.ccx(0, 2, 3)\n",
    "qc.cx(0, 2)\n",
    "qc.ccx(1, 2, 3)\n",
    "qc.cx(1, 2)\n",
    "qc.x(2)\n",
    "qc.measure(2, 1)\n",
    "qc.measure(3, 0)"
   ]
  },
  {
   "cell_type": "code",
   "execution_count": 59,
   "metadata": {},
   "outputs": [
    {
     "name": "stdout",
     "output_type": "stream",
     "text": [
      "60d5d8b3d2f1e46550255650\n",
      "Job Status: job has successfully run\n"
     ]
    },
    {
     "data": {
      "image/png": "[encoded data removed]",
      "text/plain": [
       "<Figure size 504x360 with 1 Axes>"
      ]
     },
     "execution_count": 59,
     "metadata": {},
     "output_type": "execute_result"
    }
   ],
   "source": [
    "job = execute(qc, backend=device, shots=1024)\n",
    "print(job.job_id())\n",
    "from qiskit.tools.monitor import job_monitor\n",
    "job_monitor(job)\n",
    "device_result = job.result()\n",
    "plot_histogram(device_result.get_counts(qc))"
   ]
  },
  {
   "cell_type": "code",
   "execution_count": null,
   "metadata": {},
   "outputs": [],
   "source": [
    "for input1 in ['0','1']:\n",
    "    for input2 in ['0','1']:\n",
    "        for input3 in ['0', '1']:\n",
    "            for input4 in ['0', '1']:\n",
    "                \n",
    "                qc_trans1, output1 = hng_sub(input1, input2, input3, input4)\n",
    "\n",
    "                output1_all.append(output1)\n",
    "                qc_trans1_all.append(qc_trans1)\n",
    "\n",
    "                prob = output1[str(int( input1=='1' and  input2=='1' ))]/8192\n",
    "                prob1_all.append(prob)\n",
    "\n",
    "                print('\\nProbability of correct answer for inputs',input1,input2, input3, input4)\n",
    "                print( '{:.2f}'.format(prob) )\n",
    "                print('---------------------------------')\n",
    "\n",
    "                worst = min(worst,prob)\n",
    "                best = max(best, prob)"
   ]
  }
 ],
 "metadata": {
  "kernelspec": {
   "display_name": "Python 3",
   "language": "python",
   "name": "python3"
  },
  "language_info": {
   "codemirror_mode": {
    "name": "ipython",
    "version": 3
   },
   "file_extension": ".py",
   "mimetype": "text/x-python",
   "name": "python",
   "nbconvert_exporter": "python",
   "pygments_lexer": "ipython3",
   "version": "3.8.5"
  }
 },
 "nbformat": 4,
 "nbformat_minor": 4
}
