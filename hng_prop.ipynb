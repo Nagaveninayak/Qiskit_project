{
 "cells": [
  {
   "cell_type": "code",
   "execution_count": 5,
   "metadata": {},
   "outputs": [],
   "source": [
    "from qiskit import *\n",
    "from qiskit.tools.monitor import job_monitor\n",
    "import qiskit.tools.jupyter\n"
   ]
  },
  {
   "cell_type": "code",
   "execution_count": 9,
   "metadata": {},
   "outputs": [
    {
     "name": "stderr",
     "output_type": "stream",
     "text": [
      "ibmqfactory.load_account:WARNING:2021-06-25 20:48:30,479: Credentials are already in use. The existing account in the session will be replaced.\n"
     ]
    }
   ],
   "source": [
    "IBMQ.load_account()\n",
    "provider = IBMQ.get_provider(hub='ibm-q')"
   ]
  },
  {
   "cell_type": "code",
   "execution_count": 26,
   "metadata": {},
   "outputs": [],
   "source": [
    "def AND(inp1, inp2, backend, layout):\n",
    "    \n",
    "    qc = QuantumCircuit(4, 1) \n",
    "    \n",
    "    if inp1=='1':\n",
    "        qc.x(0)\n",
    "    if inp2=='1':\n",
    "        qc.x(1)\n",
    "        \n",
    "    qc.barrier()\n",
    "    qc.ccx(0, 1, 2) \n",
    "    qc.barrier()\n",
    "    qc.measure(2, 0) \n",
    "   \n",
    "    \n",
    "    qc_trans = transpile(qc, backend, initial_layout=layout, optimization_level=3)\n",
    "    job = execute(qc_trans, backend, shots=8192)\n",
    "    print(job.job_id())\n",
    "    job_monitor(job)\n",
    "    \n",
    "    output = job.result().get_counts()\n",
    "    \n",
    "    return qc_trans, output"
   ]
  },
  {
   "cell_type": "code",
   "execution_count": 32,
   "metadata": {},
   "outputs": [
    {
     "name": "stdout",
     "output_type": "stream",
     "text": [
      "60d5faa5d657d616b839db48\n",
      "Job Status: job has successfully run\n",
      "\n",
      "Probability of correct answer for inputs 0 0\n",
      "1.00\n",
      "---------------------------------\n",
      "60d5fab0d2f1e4d4ee25581e\n",
      "Job Status: job has successfully run\n",
      "\n",
      "Probability of correct answer for inputs 0 1\n",
      "1.00\n",
      "---------------------------------\n",
      "60d5fabbd76cda2d9a113573\n",
      "Job Status: job has successfully run\n",
      "\n",
      "Probability of correct answer for inputs 1 0\n",
      "1.00\n",
      "---------------------------------\n",
      "60d5fac65e60c624ebad51cd\n",
      "Job Status: job has successfully run\n",
      "\n",
      "Probability of correct answer for inputs 1 1\n",
      "1.00\n",
      "---------------------------------\n",
      "\n",
      "\n",
      "The highest of these probabilities was 1.00\n",
      "The lowest of these probabilities was 1.00\n"
     ]
    }
   ],
   "source": [
    "backend1 = provider.get_backend('ibmq_qasm_simulator')\n",
    "layout1 = [0,2,4,6]\n",
    "output1_all = []\n",
    "qc_trans1_all = []\n",
    "prob1_all = []\n",
    "\n",
    "worst = 1\n",
    "best = 0\n",
    "for input1 in ['0','1']:\n",
    "    for input2 in ['0','1']:\n",
    "        qc_trans1, output1 = AND(input1, input2, backend1, layout1)\n",
    "        \n",
    "        output1_all.append(output1)\n",
    "        qc_trans1_all.append(qc_trans1)\n",
    "        \n",
    "        prob = output1[str(int( input1=='1' and input2=='1' ))]/8192\n",
    "        prob1_all.append(prob)\n",
    "        \n",
    "        print('\\nProbability of correct answer for inputs',input1,input2)\n",
    "        print( '{:.2f}'.format(prob) )\n",
    "        print('---------------------------------')\n",
    "        \n",
    "        worst = min(worst,prob)\n",
    "        best = max(best, prob)\n",
    "        \n",
    "print('')\n",
    "print('\\nThe highest of these probabilities was {:.2f}'.format(best))\n",
    "print('The lowest of these probabilities was {:.2f}'.format(worst))"
   ]
  },
  {
   "cell_type": "code",
   "execution_count": 33,
   "metadata": {},
   "outputs": [
    {
     "data": {
      "text/html": [
       "<pre style=\"word-wrap: normal;white-space: pre;background: #fff0;line-height: 1.1;font-family: &quot;Courier New&quot;,Courier,monospace\">                         \n",
       "q_0: ──■────■────────────\n",
       "       │    │            \n",
       "q_1: ──┼────┼────■────■──\n",
       "       │  ┌─┴─┐  │  ┌─┴─┐\n",
       "q_2: ──■──┤ X ├──■──┤ X ├\n",
       "     ┌─┴─┐└───┘┌─┴─┐└───┘\n",
       "q_3: ┤ X ├─────┤ X ├─────\n",
       "     └───┘     └───┘     \n",
       "c: 4/════════════════════\n",
       "                         </pre>"
      ],
      "text/plain": [
       "                         \n",
       "q_0: ──■────■────────────\n",
       "       │    │            \n",
       "q_1: ──┼────┼────■────■──\n",
       "       │  ┌─┴─┐  │  ┌─┴─┐\n",
       "q_2: ──■──┤ X ├──■──┤ X ├\n",
       "     ┌─┴─┐└───┘┌─┴─┐└───┘\n",
       "q_3: ┤ X ├─────┤ X ├─────\n",
       "     └───┘     └───┘     \n",
       "c: 4/════════════════════\n",
       "                         "
      ]
     },
     "execution_count": 33,
     "metadata": {},
     "output_type": "execute_result"
    }
   ],
   "source": [
    "qc = QuantumCircuit(4, 4)\n",
    "qc.ccx(0, 2, 3)\n",
    "qc.cx(0, 2)\n",
    "qc.ccx(1, 2, 3)\n",
    "qc.cx(1, 2)\n",
    "qc.draw()"
   ]
  },
  {
   "cell_type": "code",
   "execution_count": 35,
   "metadata": {},
   "outputs": [],
   "source": [
    "from qiskit.tools.visualization import plot_bloch_multivector\n",
    "from qiskit.visualization import plot_histogram\n",
    "from matplotlib import style\n",
    "%matplotlib inline\n"
   ]
  },
  {
   "cell_type": "code",
   "execution_count": 37,
   "metadata": {},
   "outputs": [],
   "source": [
    "statevec_simulator = Aer.get_backend(\"statevector_simulator\")\n",
    "qasm_sim = Aer.get_backend('qasm_simulator')\n",
    "\n",
    "def do_job(circuit):\n",
    "    job = execute(circuit, backend=statevec_simulator)\n",
    "    result = job.result()\n",
    "    statevec = result.get_statevector()\n",
    "    \n",
    "    n_qubits = circuit.n_qubits\n",
    "    circuit.measure([i for i in range(n_qubits)], [i for i in range(n_qubits)])\n",
    "    \n",
    "    qasm_job = execute(circuit, backend=qasm_sim, shots=1024).result()\n",
    "    counts = qasm_job.get_counts()\n",
    "    \n",
    "    return statevec, counts"
   ]
  },
  {
   "cell_type": "code",
   "execution_count": 40,
   "metadata": {},
   "outputs": [
    {
     "ename": "AttributeError",
     "evalue": "'QuantumCircuit' object has no attribute 'n_qubits'",
     "output_type": "error",
     "traceback": [
      "\u001b[1;31m---------------------------------------------------------------------------\u001b[0m",
      "\u001b[1;31mAttributeError\u001b[0m                            Traceback (most recent call last)",
      "\u001b[1;32m<ipython-input-40-00febd01580f>\u001b[0m in \u001b[0;36m<module>\u001b[1;34m\u001b[0m\n\u001b[0;32m      1\u001b[0m \u001b[0mcircuit\u001b[0m \u001b[1;33m=\u001b[0m\u001b[0mQuantumCircuit\u001b[0m\u001b[1;33m(\u001b[0m\u001b[1;36m2\u001b[0m\u001b[1;33m,\u001b[0m\u001b[1;36m2\u001b[0m\u001b[1;33m)\u001b[0m  \u001b[1;31m# 2 qubits, 2 classical bits\u001b[0m\u001b[1;33m\u001b[0m\u001b[1;33m\u001b[0m\u001b[0m\n\u001b[1;32m----> 2\u001b[1;33m \u001b[0mstatevec\u001b[0m\u001b[1;33m,\u001b[0m \u001b[0mcounts\u001b[0m \u001b[1;33m=\u001b[0m \u001b[0mdo_job\u001b[0m\u001b[1;33m(\u001b[0m\u001b[0mcircuit\u001b[0m\u001b[1;33m)\u001b[0m\u001b[1;33m\u001b[0m\u001b[1;33m\u001b[0m\u001b[0m\n\u001b[0m",
      "\u001b[1;32m<ipython-input-37-d569cafbeb83>\u001b[0m in \u001b[0;36mdo_job\u001b[1;34m(circuit)\u001b[0m\n\u001b[0;32m      7\u001b[0m     \u001b[0mstatevec\u001b[0m \u001b[1;33m=\u001b[0m \u001b[0mresult\u001b[0m\u001b[1;33m.\u001b[0m\u001b[0mget_statevector\u001b[0m\u001b[1;33m(\u001b[0m\u001b[1;33m)\u001b[0m\u001b[1;33m\u001b[0m\u001b[1;33m\u001b[0m\u001b[0m\n\u001b[0;32m      8\u001b[0m \u001b[1;33m\u001b[0m\u001b[0m\n\u001b[1;32m----> 9\u001b[1;33m     \u001b[0mn_qubits\u001b[0m \u001b[1;33m=\u001b[0m \u001b[0mcircuit\u001b[0m\u001b[1;33m.\u001b[0m\u001b[0mn_qubits\u001b[0m\u001b[1;33m\u001b[0m\u001b[1;33m\u001b[0m\u001b[0m\n\u001b[0m\u001b[0;32m     10\u001b[0m     \u001b[0mcircuit\u001b[0m\u001b[1;33m.\u001b[0m\u001b[0mmeasure\u001b[0m\u001b[1;33m(\u001b[0m\u001b[1;33m[\u001b[0m\u001b[0mi\u001b[0m \u001b[1;32mfor\u001b[0m \u001b[0mi\u001b[0m \u001b[1;32min\u001b[0m \u001b[0mrange\u001b[0m\u001b[1;33m(\u001b[0m\u001b[0mn_qubits\u001b[0m\u001b[1;33m)\u001b[0m\u001b[1;33m]\u001b[0m\u001b[1;33m,\u001b[0m \u001b[1;33m[\u001b[0m\u001b[0mi\u001b[0m \u001b[1;32mfor\u001b[0m \u001b[0mi\u001b[0m \u001b[1;32min\u001b[0m \u001b[0mrange\u001b[0m\u001b[1;33m(\u001b[0m\u001b[0mn_qubits\u001b[0m\u001b[1;33m)\u001b[0m\u001b[1;33m]\u001b[0m\u001b[1;33m)\u001b[0m\u001b[1;33m\u001b[0m\u001b[1;33m\u001b[0m\u001b[0m\n\u001b[0;32m     11\u001b[0m \u001b[1;33m\u001b[0m\u001b[0m\n",
      "\u001b[1;31mAttributeError\u001b[0m: 'QuantumCircuit' object has no attribute 'n_qubits'"
     ]
    }
   ],
   "source": [
    "circuit =QuantumCircuit(2,2)  # 2 qubits, 2 classical bits \n",
    "statevec, counts = do_job(circuit)"
   ]
  },
  {
   "cell_type": "code",
   "execution_count": 45,
   "metadata": {},
   "outputs": [],
   "source": [
    "import qiskit as q\n",
    "from qiskit.tools.visualization import plot_bloch_multivector\n",
    "from qiskit.visualization import plot_histogram\n",
    "from matplotlib import style\n",
    "#style.use(\"dark_background\") # I am using dark mode notebook, so I use this to see the chart.\n",
    "# to use dark mode:\n",
    "# edited '/usr/local/lib/python3.7/dist-packages/qiskit/visualization/bloch.py line 177 self.font_color = 'white'\n",
    "# edited '/usr/local/lib/python3.7/dist-packages/qiskit/visualization/counts_visualization.py line 206     ax.set_facecolor('#000000')\n",
    "%matplotlib inline\n",
    "\n",
    "\n",
    "statevec_simulator = q.Aer.get_backend(\"statevector_simulator\")\n",
    "qasm_sim = q.Aer.get_backend('qasm_simulator')\n",
    "\n",
    "def do_job(circuit):\n",
    "    job = q.execute(circuit, backend=statevec_simulator)\n",
    "    result = job.result()\n",
    "    statevec = result.get_statevector()\n",
    "    \n",
    "    n_qubits = circuit.n_qubits\n",
    "    circuit.measure([i for i in range(n_qubits)], [i for i in range(n_qubits)])\n",
    "    \n",
    "    qasm_job = q.execute(circuit, backend=qasm_sim, shots=1024).result()\n",
    "    counts = qasm_job.get_counts()\n",
    "    \n",
    "    return statevec, counts"
   ]
  },
  {
   "cell_type": "code",
   "execution_count": 44,
   "metadata": {},
   "outputs": [
    {
     "ename": "AttributeError",
     "evalue": "'QuantumCircuit' object has no attribute 'n_qubit'",
     "output_type": "error",
     "traceback": [
      "\u001b[1;31m---------------------------------------------------------------------------\u001b[0m",
      "\u001b[1;31mAttributeError\u001b[0m                            Traceback (most recent call last)",
      "\u001b[1;32m<ipython-input-44-4e14f12810ae>\u001b[0m in \u001b[0;36m<module>\u001b[1;34m\u001b[0m\n\u001b[0;32m      1\u001b[0m \u001b[0mcircuit\u001b[0m \u001b[1;33m=\u001b[0m \u001b[0mq\u001b[0m\u001b[1;33m.\u001b[0m\u001b[0mQuantumCircuit\u001b[0m\u001b[1;33m(\u001b[0m\u001b[1;36m2\u001b[0m\u001b[1;33m,\u001b[0m\u001b[1;36m2\u001b[0m\u001b[1;33m)\u001b[0m  \u001b[1;31m# 2 qubits, 2 classical bits\u001b[0m\u001b[1;33m\u001b[0m\u001b[1;33m\u001b[0m\u001b[0m\n\u001b[1;32m----> 2\u001b[1;33m \u001b[0mstatevec\u001b[0m\u001b[1;33m,\u001b[0m \u001b[0mcounts\u001b[0m \u001b[1;33m=\u001b[0m \u001b[0mdo_job\u001b[0m\u001b[1;33m(\u001b[0m\u001b[0mcircuit\u001b[0m\u001b[1;33m)\u001b[0m\u001b[1;33m\u001b[0m\u001b[1;33m\u001b[0m\u001b[0m\n\u001b[0m",
      "\u001b[1;32m<ipython-input-43-134f961476e9>\u001b[0m in \u001b[0;36mdo_job\u001b[1;34m(circuit)\u001b[0m\n\u001b[0;32m     18\u001b[0m     \u001b[0mstatevec\u001b[0m \u001b[1;33m=\u001b[0m \u001b[0mresult\u001b[0m\u001b[1;33m.\u001b[0m\u001b[0mget_statevector\u001b[0m\u001b[1;33m(\u001b[0m\u001b[1;33m)\u001b[0m\u001b[1;33m\u001b[0m\u001b[1;33m\u001b[0m\u001b[0m\n\u001b[0;32m     19\u001b[0m \u001b[1;33m\u001b[0m\u001b[0m\n\u001b[1;32m---> 20\u001b[1;33m     \u001b[0mn_qubits\u001b[0m \u001b[1;33m=\u001b[0m \u001b[0mcircuit\u001b[0m\u001b[1;33m.\u001b[0m\u001b[0mn_qubit\u001b[0m\u001b[1;33m\u001b[0m\u001b[1;33m\u001b[0m\u001b[0m\n\u001b[0m\u001b[0;32m     21\u001b[0m     \u001b[0mcircuit\u001b[0m\u001b[1;33m.\u001b[0m\u001b[0mmeasure\u001b[0m\u001b[1;33m(\u001b[0m\u001b[1;33m[\u001b[0m\u001b[0mi\u001b[0m \u001b[1;32mfor\u001b[0m \u001b[0mi\u001b[0m \u001b[1;32min\u001b[0m \u001b[0mrange\u001b[0m\u001b[1;33m(\u001b[0m\u001b[0mn_qubits\u001b[0m\u001b[1;33m)\u001b[0m\u001b[1;33m]\u001b[0m\u001b[1;33m,\u001b[0m \u001b[1;33m[\u001b[0m\u001b[0mi\u001b[0m \u001b[1;32mfor\u001b[0m \u001b[0mi\u001b[0m \u001b[1;32min\u001b[0m \u001b[0mrange\u001b[0m\u001b[1;33m(\u001b[0m\u001b[0mn_qubits\u001b[0m\u001b[1;33m)\u001b[0m\u001b[1;33m]\u001b[0m\u001b[1;33m)\u001b[0m\u001b[1;33m\u001b[0m\u001b[1;33m\u001b[0m\u001b[0m\n\u001b[0;32m     22\u001b[0m \u001b[1;33m\u001b[0m\u001b[0m\n",
      "\u001b[1;31mAttributeError\u001b[0m: 'QuantumCircuit' object has no attribute 'n_qubit'"
     ]
    }
   ],
   "source": [
    "circuit = q.QuantumCircuit(2,2)  # 2 qubits, 2 classical bits \n",
    "statevec, counts = do_job(circuit)"
   ]
  },
  {
   "cell_type": "code",
   "execution_count": null,
   "metadata": {},
   "outputs": [],
   "source": []
  }
 ],
 "metadata": {
  "kernelspec": {
   "display_name": "Python 3",
   "language": "python",
   "name": "python3"
  },
  "language_info": {
   "codemirror_mode": {
    "name": "ipython",
    "version": 3
   },
   "file_extension": ".py",
   "mimetype": "text/x-python",
   "name": "python",
   "nbconvert_exporter": "python",
   "pygments_lexer": "ipython3",
   "version": "3.8.5"
  }
 },
 "nbformat": 4,
 "nbformat_minor": 4
}
