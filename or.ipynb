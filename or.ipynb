{
 "cells": [
  {
   "cell_type": "code",
   "execution_count": 1,
   "metadata": {},
   "outputs": [],
   "source": [
    "from qiskit import *"
   ]
  },
  {
   "cell_type": "code",
   "execution_count": 4,
   "metadata": {},
   "outputs": [],
   "source": [
    "def Or(inp1, inp2):\n",
    "    qc = QuantumCircuit(3, 1)\n",
    "    qc.reset(range(3))\n",
    "    \n",
    "    if inp1 == '1':\n",
    "        qc.x(0)\n",
    "    if inp2 == '1':\n",
    "        qc.x(1)\n",
    "    \n",
    "    qc.barrier()\n",
    "    \n",
    "    qc.x(1)\n",
    "    qc.cswap(0,1,2)\n",
    "    qc.x(1)\n",
    "    \n",
    "    qc.measure(1, 0)\n",
    "    \n",
    "    backend = Aer.get_backend('qasm_simulator')\n",
    "    job = execute(qc, backend, shots = 1, memory = True)\n",
    "    output = job.result().get_memory()[0]\n",
    "    \n",
    "    return qc, output\n"
   ]
  },
  {
   "cell_type": "code",
   "execution_count": 5,
   "metadata": {},
   "outputs": [
    {
     "name": "stdout",
     "output_type": "stream",
     "text": [
      "or gate input is  0 0 output is  0\n"
     ]
    },
    {
     "data": {
      "text/html": [
       "<pre style=\"word-wrap: normal;white-space: pre;background: #fff0;line-height: 1.1;font-family: &quot;Courier New&quot;,Courier,monospace\">           ░                 \n",
       "q_0: ─|0>──░───────■─────────\n",
       "           ░ ┌───┐ │ ┌───┐┌─┐\n",
       "q_1: ─|0>──░─┤ X ├─X─┤ X ├┤M├\n",
       "           ░ └───┘ │ └───┘└╥┘\n",
       "q_2: ─|0>──░───────X───────╫─\n",
       "           ░               ║ \n",
       "c: 1/══════════════════════╩═\n",
       "                           0 </pre>"
      ],
      "text/plain": [
       "           ░                 \n",
       "q_0: ─|0>──░───────■─────────\n",
       "           ░ ┌───┐ │ ┌───┐┌─┐\n",
       "q_1: ─|0>──░─┤ X ├─X─┤ X ├┤M├\n",
       "           ░ └───┘ │ └───┘└╥┘\n",
       "q_2: ─|0>──░───────X───────╫─\n",
       "           ░               ║ \n",
       "c: 1/══════════════════════╩═\n",
       "                           0 "
      ]
     },
     "metadata": {},
     "output_type": "display_data"
    },
    {
     "name": "stdout",
     "output_type": "stream",
     "text": [
      "/n\n",
      "or gate input is  0 1 output is  1\n"
     ]
    },
    {
     "data": {
      "text/html": [
       "<pre style=\"word-wrap: normal;white-space: pre;background: #fff0;line-height: 1.1;font-family: &quot;Courier New&quot;,Courier,monospace\">                ░                 \n",
       "q_0: ─|0>───────░───────■─────────\n",
       "          ┌───┐ ░ ┌───┐ │ ┌───┐┌─┐\n",
       "q_1: ─|0>─┤ X ├─░─┤ X ├─X─┤ X ├┤M├\n",
       "          └───┘ ░ └───┘ │ └───┘└╥┘\n",
       "q_2: ─|0>───────░───────X───────╫─\n",
       "                ░               ║ \n",
       "c: 1/═══════════════════════════╩═\n",
       "                                0 </pre>"
      ],
      "text/plain": [
       "                ░                 \n",
       "q_0: ─|0>───────░───────■─────────\n",
       "          ┌───┐ ░ ┌───┐ │ ┌───┐┌─┐\n",
       "q_1: ─|0>─┤ X ├─░─┤ X ├─X─┤ X ├┤M├\n",
       "          └───┘ ░ └───┘ │ └───┘└╥┘\n",
       "q_2: ─|0>───────░───────X───────╫─\n",
       "                ░               ║ \n",
       "c: 1/═══════════════════════════╩═\n",
       "                                0 "
      ]
     },
     "metadata": {},
     "output_type": "display_data"
    },
    {
     "name": "stdout",
     "output_type": "stream",
     "text": [
      "/n\n",
      "or gate input is  1 0 output is  1\n"
     ]
    },
    {
     "data": {
      "text/html": [
       "<pre style=\"word-wrap: normal;white-space: pre;background: #fff0;line-height: 1.1;font-family: &quot;Courier New&quot;,Courier,monospace\">          ┌───┐ ░                 \n",
       "q_0: ─|0>─┤ X ├─░───────■─────────\n",
       "          └───┘ ░ ┌───┐ │ ┌───┐┌─┐\n",
       "q_1: ─|0>───────░─┤ X ├─X─┤ X ├┤M├\n",
       "                ░ └───┘ │ └───┘└╥┘\n",
       "q_2: ─|0>───────░───────X───────╫─\n",
       "                ░               ║ \n",
       "c: 1/═══════════════════════════╩═\n",
       "                                0 </pre>"
      ],
      "text/plain": [
       "          ┌───┐ ░                 \n",
       "q_0: ─|0>─┤ X ├─░───────■─────────\n",
       "          └───┘ ░ ┌───┐ │ ┌───┐┌─┐\n",
       "q_1: ─|0>───────░─┤ X ├─X─┤ X ├┤M├\n",
       "                ░ └───┘ │ └───┘└╥┘\n",
       "q_2: ─|0>───────░───────X───────╫─\n",
       "                ░               ║ \n",
       "c: 1/═══════════════════════════╩═\n",
       "                                0 "
      ]
     },
     "metadata": {},
     "output_type": "display_data"
    },
    {
     "name": "stdout",
     "output_type": "stream",
     "text": [
      "/n\n",
      "or gate input is  1 1 output is  1\n"
     ]
    },
    {
     "data": {
      "text/html": [
       "<pre style=\"word-wrap: normal;white-space: pre;background: #fff0;line-height: 1.1;font-family: &quot;Courier New&quot;,Courier,monospace\">          ┌───┐ ░                 \n",
       "q_0: ─|0>─┤ X ├─░───────■─────────\n",
       "          ├───┤ ░ ┌───┐ │ ┌───┐┌─┐\n",
       "q_1: ─|0>─┤ X ├─░─┤ X ├─X─┤ X ├┤M├\n",
       "          └───┘ ░ └───┘ │ └───┘└╥┘\n",
       "q_2: ─|0>───────░───────X───────╫─\n",
       "                ░               ║ \n",
       "c: 1/═══════════════════════════╩═\n",
       "                                0 </pre>"
      ],
      "text/plain": [
       "          ┌───┐ ░                 \n",
       "q_0: ─|0>─┤ X ├─░───────■─────────\n",
       "          ├───┤ ░ ┌───┐ │ ┌───┐┌─┐\n",
       "q_1: ─|0>─┤ X ├─░─┤ X ├─X─┤ X ├┤M├\n",
       "          └───┘ ░ └───┘ │ └───┘└╥┘\n",
       "q_2: ─|0>───────░───────X───────╫─\n",
       "                ░               ║ \n",
       "c: 1/═══════════════════════════╩═\n",
       "                                0 "
      ]
     },
     "metadata": {},
     "output_type": "display_data"
    },
    {
     "name": "stdout",
     "output_type": "stream",
     "text": [
      "/n\n"
     ]
    }
   ],
   "source": [
    "for inp1 in ['0', '1']:\n",
    "    for inp2 in ['0', '1']:\n",
    "        qc, output = Or(inp1, inp2)\n",
    "        print('or gate input is ', inp1, inp2, 'output is ', output)\n",
    "qc.draw('mpl')"
   ]
  },
  {
   "cell_type": "code",
   "execution_count": null,
   "metadata": {},
   "outputs": [],
   "source": []
  }
 ],
 "metadata": {
  "kernelspec": {
   "display_name": "Python 3",
   "language": "python",
   "name": "python3"
  },
  "language_info": {
   "codemirror_mode": {
    "name": "ipython",
    "version": 3
   },
   "file_extension": ".py",
   "mimetype": "text/x-python",
   "name": "python",
   "nbconvert_exporter": "python",
   "pygments_lexer": "ipython3",
   "version": "3.8.5"
  }
 },
 "nbformat": 4,
 "nbformat_minor": 4
}
