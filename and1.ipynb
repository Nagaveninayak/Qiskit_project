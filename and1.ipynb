{
 "cells": [
  {
   "cell_type": "code",
   "execution_count": 2,
   "metadata": {},
   "outputs": [],
   "source": [
    "from qiskit import *"
   ]
  },
  {
   "cell_type": "code",
   "execution_count": 4,
   "metadata": {},
   "outputs": [],
   "source": [
    "def And(inp1, inp2):\n",
    "    qc = QuantumCircuit(3,1)\n",
    "    \n",
    "    if(inp1 == '1'):\n",
    "        qc.x(0)\n",
    "    if(inp2 == '1'):\n",
    "        qc.x(1)\n",
    "\n",
    "    qc.barrier()\n",
    "    qc.ccx(0,1,2)\n",
    "    \n",
    "    qc.measure(2,0)\n",
    "    qc.draw()\n",
    "    \n",
    "    backend = Aer.get_backend('qasm_simulator')\n",
    "    job = execute(qc, backend, shots = 1, memory= True)\n",
    "    output = job.result().get_memory()[0]\n",
    "    \n",
    "    return qc, output"
   ]
  },
  {
   "cell_type": "code",
   "execution_count": 5,
   "metadata": {},
   "outputs": [
    {
     "name": "stdout",
     "output_type": "stream",
     "text": [
      "And gate input is 0 0 output is  0\n"
     ]
    },
    {
     "data": {
      "text/html": [
       "<pre style=\"word-wrap: normal;white-space: pre;background: #fff0;line-height: 1.1;font-family: &quot;Courier New&quot;,Courier,monospace\">      ░         \n",
       "q_0: ─░───■─────\n",
       "      ░   │     \n",
       "q_1: ─░───■─────\n",
       "      ░ ┌─┴─┐┌─┐\n",
       "q_2: ─░─┤ X ├┤M├\n",
       "      ░ └───┘└╥┘\n",
       "c: 1/═════════╩═\n",
       "              0 </pre>"
      ],
      "text/plain": [
       "      ░         \n",
       "q_0: ─░───■─────\n",
       "      ░   │     \n",
       "q_1: ─░───■─────\n",
       "      ░ ┌─┴─┐┌─┐\n",
       "q_2: ─░─┤ X ├┤M├\n",
       "      ░ └───┘└╥┘\n",
       "c: 1/═════════╩═\n",
       "              0 "
      ]
     },
     "metadata": {},
     "output_type": "display_data"
    },
    {
     "name": "stdout",
     "output_type": "stream",
     "text": [
      "/n\n",
      "And gate input is 0 1 output is  0\n"
     ]
    },
    {
     "data": {
      "text/html": [
       "<pre style=\"word-wrap: normal;white-space: pre;background: #fff0;line-height: 1.1;font-family: &quot;Courier New&quot;,Courier,monospace\">           ░         \n",
       "q_0: ──────░───■─────\n",
       "     ┌───┐ ░   │     \n",
       "q_1: ┤ X ├─░───■─────\n",
       "     └───┘ ░ ┌─┴─┐┌─┐\n",
       "q_2: ──────░─┤ X ├┤M├\n",
       "           ░ └───┘└╥┘\n",
       "c: 1/══════════════╩═\n",
       "                   0 </pre>"
      ],
      "text/plain": [
       "           ░         \n",
       "q_0: ──────░───■─────\n",
       "     ┌───┐ ░   │     \n",
       "q_1: ┤ X ├─░───■─────\n",
       "     └───┘ ░ ┌─┴─┐┌─┐\n",
       "q_2: ──────░─┤ X ├┤M├\n",
       "           ░ └───┘└╥┘\n",
       "c: 1/══════════════╩═\n",
       "                   0 "
      ]
     },
     "metadata": {},
     "output_type": "display_data"
    },
    {
     "name": "stdout",
     "output_type": "stream",
     "text": [
      "/n\n",
      "And gate input is 1 0 output is  0\n"
     ]
    },
    {
     "data": {
      "text/html": [
       "<pre style=\"word-wrap: normal;white-space: pre;background: #fff0;line-height: 1.1;font-family: &quot;Courier New&quot;,Courier,monospace\">     ┌───┐ ░         \n",
       "q_0: ┤ X ├─░───■─────\n",
       "     └───┘ ░   │     \n",
       "q_1: ──────░───■─────\n",
       "           ░ ┌─┴─┐┌─┐\n",
       "q_2: ──────░─┤ X ├┤M├\n",
       "           ░ └───┘└╥┘\n",
       "c: 1/══════════════╩═\n",
       "                   0 </pre>"
      ],
      "text/plain": [
       "     ┌───┐ ░         \n",
       "q_0: ┤ X ├─░───■─────\n",
       "     └───┘ ░   │     \n",
       "q_1: ──────░───■─────\n",
       "           ░ ┌─┴─┐┌─┐\n",
       "q_2: ──────░─┤ X ├┤M├\n",
       "           ░ └───┘└╥┘\n",
       "c: 1/══════════════╩═\n",
       "                   0 "
      ]
     },
     "metadata": {},
     "output_type": "display_data"
    },
    {
     "name": "stdout",
     "output_type": "stream",
     "text": [
      "/n\n",
      "And gate input is 1 1 output is  1\n"
     ]
    },
    {
     "data": {
      "text/html": [
       "<pre style=\"word-wrap: normal;white-space: pre;background: #fff0;line-height: 1.1;font-family: &quot;Courier New&quot;,Courier,monospace\">     ┌───┐ ░         \n",
       "q_0: ┤ X ├─░───■─────\n",
       "     ├───┤ ░   │     \n",
       "q_1: ┤ X ├─░───■─────\n",
       "     └───┘ ░ ┌─┴─┐┌─┐\n",
       "q_2: ──────░─┤ X ├┤M├\n",
       "           ░ └───┘└╥┘\n",
       "c: 1/══════════════╩═\n",
       "                   0 </pre>"
      ],
      "text/plain": [
       "     ┌───┐ ░         \n",
       "q_0: ┤ X ├─░───■─────\n",
       "     ├───┤ ░   │     \n",
       "q_1: ┤ X ├─░───■─────\n",
       "     └───┘ ░ ┌─┴─┐┌─┐\n",
       "q_2: ──────░─┤ X ├┤M├\n",
       "           ░ └───┘└╥┘\n",
       "c: 1/══════════════╩═\n",
       "                   0 "
      ]
     },
     "metadata": {},
     "output_type": "display_data"
    },
    {
     "name": "stdout",
     "output_type": "stream",
     "text": [
      "/n\n"
     ]
    }
   ],
   "source": [
    "for inp1 in ['0', '1']:\n",
    "    for inp2 in ['0','1']:\n",
    "            qc, out = And(inp1, inp2)\n",
    "            print('And gate input is', inp1, inp2, 'output is ', out)\n",
    "            display(qc.draw())\n",
    "            print('/n')"
   ]
  },
  {
   "cell_type": "code",
   "execution_count": 8,
   "metadata": {},
   "outputs": [],
   "source": [
    "IBMQ.save_account(\"35e27d8d7b2151e13807719aac67740cf61a01cd7f6b546559ccee02dcdd225f22b71a831c620edf0809d29914e69fb9d62ca27f8c9035bb630a529ad40bcf88\")"
   ]
  },
  {
   "cell_type": "code",
   "execution_count": 16,
   "metadata": {},
   "outputs": [
    {
     "data": {
      "text/plain": [
       "<AccountProvider for IBMQ(hub='ibm-q', group='open', project='main')>"
      ]
     },
     "execution_count": 16,
     "metadata": {},
     "output_type": "execute_result"
    }
   ],
   "source": [
    "IBMQ.load_account()"
   ]
  },
  {
   "cell_type": "code",
   "execution_count": 17,
   "metadata": {},
   "outputs": [
    {
     "data": {
      "text/plain": [
       "[<AccountProvider for IBMQ(hub='ibm-q', group='open', project='main')>]"
      ]
     },
     "execution_count": 17,
     "metadata": {},
     "output_type": "execute_result"
    }
   ],
   "source": [
    "IBMQ.providers()"
   ]
  },
  {
   "cell_type": "code",
   "execution_count": 20,
   "metadata": {},
   "outputs": [
    {
     "data": {
      "text/plain": [
       "[<IBMQSimulator('ibmq_qasm_simulator') from IBMQ(hub='ibm-q', group='open', project='main')>,\n",
       " <IBMQBackend('ibmqx2') from IBMQ(hub='ibm-q', group='open', project='main')>,\n",
       " <IBMQBackend('ibmq_16_melbourne') from IBMQ(hub='ibm-q', group='open', project='main')>,\n",
       " <IBMQBackend('ibmq_armonk') from IBMQ(hub='ibm-q', group='open', project='main')>,\n",
       " <IBMQBackend('ibmq_athens') from IBMQ(hub='ibm-q', group='open', project='main')>,\n",
       " <IBMQBackend('ibmq_santiago') from IBMQ(hub='ibm-q', group='open', project='main')>,\n",
       " <IBMQBackend('ibmq_lima') from IBMQ(hub='ibm-q', group='open', project='main')>,\n",
       " <IBMQBackend('ibmq_belem') from IBMQ(hub='ibm-q', group='open', project='main')>,\n",
       " <IBMQBackend('ibmq_quito') from IBMQ(hub='ibm-q', group='open', project='main')>,\n",
       " <IBMQSimulator('simulator_statevector') from IBMQ(hub='ibm-q', group='open', project='main')>,\n",
       " <IBMQSimulator('simulator_mps') from IBMQ(hub='ibm-q', group='open', project='main')>,\n",
       " <IBMQSimulator('simulator_extended_stabilizer') from IBMQ(hub='ibm-q', group='open', project='main')>,\n",
       " <IBMQSimulator('simulator_stabilizer') from IBMQ(hub='ibm-q', group='open', project='main')>]"
      ]
     },
     "execution_count": 20,
     "metadata": {},
     "output_type": "execute_result"
    }
   ],
   "source": [
    "providers = IBMQ.get_provider('ibm-q')\n",
    "providers.backends()"
   ]
  },
  {
   "cell_type": "code",
   "execution_count": 21,
   "metadata": {},
   "outputs": [
    {
     "name": "stdout",
     "output_type": "stream",
     "text": [
      "ibmq_qasm_simulator has 0 queued and simulated qubits\n",
      "ibmqx2 has 703 queued and 5 qubits\n",
      "ibmq_16_melbourne has 14700 queued and 15 qubits\n",
      "ibmq_armonk has 1 queued and 1 qubits\n",
      "ibmq_athens has 6501 queued and 5 qubits\n",
      "ibmq_santiago has 3048 queued and 5 qubits\n",
      "ibmq_lima has 49 queued and 5 qubits\n",
      "ibmq_belem has 14 queued and 5 qubits\n",
      "ibmq_quito has 5 queued and 5 qubits\n",
      "simulator_statevector has 0 queued and simulated qubits\n",
      "simulator_mps has 0 queued and simulated qubits\n",
      "simulator_extended_stabilizer has 0 queued and simulated qubits\n",
      "simulator_stabilizer has 0 queued and simulated qubits\n"
     ]
    }
   ],
   "source": [
    "provider = IBMQ.get_provider(\"ibm-q\")\n",
    "for backend in provider.backends():\n",
    "    try:\n",
    "        qubit_count = len(backend.properties().qubits)\n",
    "    except:\n",
    "        qubit_count = \"simulated\"\n",
    "        \n",
    "    print(f\"{backend.name()} has {backend.status().pending_jobs} queued and {qubit_count} qubits\")"
   ]
  },
  {
   "cell_type": "code",
   "execution_count": 22,
   "metadata": {},
   "outputs": [
    {
     "data": {
      "image/png": "[encoded data removed]",
      "text/plain": [
       "<Figure size 360x360 with 1 Axes>"
      ]
     },
     "metadata": {},
     "output_type": "display_data"
    },
    {
     "data": {
      "image/png": "[encoded data removed]",
      "text/plain": [
       "<Figure size 792x648 with 5 Axes>"
      ]
     },
     "metadata": {},
     "output_type": "display_data"
    },
    {
     "data": {
      "application/vnd.jupyter.widget-view+json": {
       "model_id": "8a9e4d075ae548acb99de19c58f7f92b",
       "version_major": 2,
       "version_minor": 0
      },
      "text/plain": [
       "VBox(children=(HTML(value=\"<h1 style='color:#ffffff;background-color:#000000;padding-top: 1%;padding-bottom: 1…"
      ]
     },
     "metadata": {},
     "output_type": "display_data"
    },
    {
     "data": {
      "text/plain": [
       "<IBMQBackend('ibmq_quito') from IBMQ(hub='ibm-q', group='open', project='main')>"
      ]
     },
     "execution_count": 22,
     "metadata": {},
     "output_type": "execute_result"
    }
   ],
   "source": [
    "import qiskit.tools.jupyter\n",
    "\n",
    "backend_ex = provider.get_backend('ibmq_quito')\n",
    "backend_ex"
   ]
  },
  {
   "cell_type": "code",
   "execution_count": 23,
   "metadata": {},
   "outputs": [
    {
     "data": {
      "text/plain": [
       "[<IBMQBackend('ibmqx2') from IBMQ(hub='ibm-q', group='open', project='main')>,\n",
       " <IBMQBackend('ibmq_16_melbourne') from IBMQ(hub='ibm-q', group='open', project='main')>,\n",
       " <IBMQBackend('ibmq_athens') from IBMQ(hub='ibm-q', group='open', project='main')>,\n",
       " <IBMQBackend('ibmq_santiago') from IBMQ(hub='ibm-q', group='open', project='main')>,\n",
       " <IBMQBackend('ibmq_lima') from IBMQ(hub='ibm-q', group='open', project='main')>,\n",
       " <IBMQBackend('ibmq_belem') from IBMQ(hub='ibm-q', group='open', project='main')>,\n",
       " <IBMQBackend('ibmq_quito') from IBMQ(hub='ibm-q', group='open', project='main')>]"
      ]
     },
     "execution_count": 23,
     "metadata": {},
     "output_type": "execute_result"
    }
   ],
   "source": [
    "backends = provider.backends(filters = lambda x:x.configuration().n_qubits >= 2 and not x.configuration().simulator\n",
    "                             and x.status().operational==True)\n",
    "backends"
   ]
  },
  {
   "cell_type": "code",
   "execution_count": 24,
   "metadata": {},
   "outputs": [
    {
     "data": {
      "image/png": "[encoded data removed]",
      "text/plain": [
       "<Figure size 360x360 with 1 Axes>"
      ]
     },
     "metadata": {},
     "output_type": "display_data"
    },
    {
     "data": {
      "image/png": "[encoded data removed]",
      "text/plain": [
       "<Figure size 792x648 with 5 Axes>"
      ]
     },
     "metadata": {},
     "output_type": "display_data"
    },
    {
     "data": {
      "application/vnd.jupyter.widget-view+json": {
       "model_id": "7f6286f3ed7d4cc882245a54de82c95f",
       "version_major": 2,
       "version_minor": 0
      },
      "text/plain": [
       "VBox(children=(HTML(value=\"<h1 style='color:#ffffff;background-color:#000000;padding-top: 1%;padding-bottom: 1…"
      ]
     },
     "metadata": {},
     "output_type": "display_data"
    },
    {
     "data": {
      "text/plain": [
       "<IBMQBackend('ibmq_quito') from IBMQ(hub='ibm-q', group='open', project='main')>"
      ]
     },
     "execution_count": 24,
     "metadata": {},
     "output_type": "execute_result"
    }
   ],
   "source": [
    "from qiskit.providers.ibmq import least_busy\n",
    "backend = least_busy(provider.backends(filters=lambda x: x.configuration().n_qubits >= 2 and \n",
    "                                        not x.configuration().simulator and x.status().operational==True))\n",
    "backend"
   ]
  },
  {
   "cell_type": "code",
   "execution_count": 25,
   "metadata": {},
   "outputs": [],
   "source": [
    "backend1 = provider.get_backend('ibmq_belem')\n",
    "backend2 = provider.get_backend('ibmq_quito')"
   ]
  },
  {
   "cell_type": "code",
   "execution_count": 26,
   "metadata": {},
   "outputs": [
    {
     "name": "stdout",
     "output_type": "stream",
     "text": [
      "AND gate\n"
     ]
    },
    {
     "data": {
      "text/html": [
       "<pre style=\"word-wrap: normal;white-space: pre;background: #fff0;line-height: 1.1;font-family: &quot;Courier New&quot;,Courier,monospace\">          \n",
       "q_0: ──■──\n",
       "       │  \n",
       "q_1: ──■──\n",
       "     ┌─┴─┐\n",
       "q_2: ┤ X ├\n",
       "     └───┘</pre>"
      ],
      "text/plain": [
       "          \n",
       "q_0: ──■──\n",
       "       │  \n",
       "q_1: ──■──\n",
       "     ┌─┴─┐\n",
       "q_2: ┤ X ├\n",
       "     └───┘"
      ]
     },
     "metadata": {},
     "output_type": "display_data"
    },
    {
     "name": "stdout",
     "output_type": "stream",
     "text": [
      "\n",
      "\n",
      "Transpiled AND gate with all the reqiured connectiviy\n"
     ]
    },
    {
     "data": {
      "text/html": [
       "<pre style=\"word-wrap: normal;white-space: pre;background: #fff0;line-height: 1.1;font-family: &quot;Courier New&quot;,Courier,monospace\">                                                       ┌───┐      \n",
       "q_0: ───────────────────■─────────────────────■────■───┤ T ├───■──\n",
       "                        │             ┌───┐   │  ┌─┴─┐┌┴───┴┐┌─┴─┐\n",
       "q_1: ───────■───────────┼─────────■───┤ T ├───┼──┤ X ├┤ TDG ├┤ X ├\n",
       "     ┌───┐┌─┴─┐┌─────┐┌─┴─┐┌───┐┌─┴─┐┌┴───┴┐┌─┴─┐├───┤└┬───┬┘└───┘\n",
       "q_2: ┤ H ├┤ X ├┤ TDG ├┤ X ├┤ T ├┤ X ├┤ TDG ├┤ X ├┤ T ├─┤ H ├──────\n",
       "     └───┘└───┘└─────┘└───┘└───┘└───┘└─────┘└───┘└───┘ └───┘      </pre>"
      ],
      "text/plain": [
       "                                                       ┌───┐      \n",
       "q_0: ───────────────────■─────────────────────■────■───┤ T ├───■──\n",
       "                        │             ┌───┐   │  ┌─┴─┐┌┴───┴┐┌─┴─┐\n",
       "q_1: ───────■───────────┼─────────■───┤ T ├───┼──┤ X ├┤ TDG ├┤ X ├\n",
       "     ┌───┐┌─┴─┐┌─────┐┌─┴─┐┌───┐┌─┴─┐┌┴───┴┐┌─┴─┐├───┤└┬───┬┘└───┘\n",
       "q_2: ┤ H ├┤ X ├┤ TDG ├┤ X ├┤ T ├┤ X ├┤ TDG ├┤ X ├┤ T ├─┤ H ├──────\n",
       "     └───┘└───┘└─────┘└───┘└───┘└───┘└─────┘└───┘└───┘ └───┘      "
      ]
     },
     "execution_count": 26,
     "metadata": {},
     "output_type": "execute_result"
    }
   ],
   "source": [
    "qc_and = QuantumCircuit(3)\n",
    "qc_and.ccx(0,1,2)\n",
    "print('AND gate')\n",
    "display(qc_and.draw())\n",
    "print('\\n\\nTranspiled AND gate with all the reqiured connectiviy')\n",
    "qc_and.decompose().draw()"
   ]
  },
  {
   "cell_type": "code",
   "execution_count": 27,
   "metadata": {},
   "outputs": [],
   "source": [
    "from qiskit.tools.monitor import job_monitor"
   ]
  },
  {
   "cell_type": "code",
   "execution_count": 28,
   "metadata": {},
   "outputs": [],
   "source": [
    "def AND(inp1, inp2, backend, layout):\n",
    "    \n",
    "    qc = QuantumCircuit(3, 1) \n",
    "    qc.reset(range(3))\n",
    "    \n",
    "    if inp1=='1':\n",
    "        qc.x(0)\n",
    "    if inp2=='1':\n",
    "        qc.x(1)\n",
    "        \n",
    "    qc.barrier()\n",
    "    qc.ccx(0, 1, 2) \n",
    "    qc.barrier()\n",
    "    qc.measure(2, 0) \n",
    "  \n",
    "    qc_trans = transpile(qc, backend, initial_layout=layout, optimization_level=3)\n",
    "    job = execute(qc_trans, backend, shots=8192)\n",
    "    print(job.job_id())\n",
    "    job_monitor(job)\n",
    "    \n",
    "    output = job.result().get_counts()\n",
    "    \n",
    "    return qc_trans, output"
   ]
  },
  {
   "cell_type": "code",
   "execution_count": 29,
   "metadata": {},
   "outputs": [
    {
     "data": {
      "image/png": "[encoded data removed]",
      "text/plain": [
       "<Figure size 360x360 with 1 Axes>"
      ]
     },
     "metadata": {},
     "output_type": "display_data"
    },
    {
     "data": {
      "image/png": "[encoded data removed]",
      "text/plain": [
       "<Figure size 792x648 with 5 Axes>"
      ]
     },
     "metadata": {},
     "output_type": "display_data"
    },
    {
     "data": {
      "application/vnd.jupyter.widget-view+json": {
       "model_id": "6002186fc4fc4b149f7985a41b6a04dc",
       "version_major": 2,
       "version_minor": 0
      },
      "text/plain": [
       "VBox(children=(HTML(value=\"<h1 style='color:#ffffff;background-color:#000000;padding-top: 1%;padding-bottom: 1…"
      ]
     },
     "metadata": {},
     "output_type": "display_data"
    },
    {
     "data": {
      "text/plain": [
       "<IBMQBackend('ibmq_belem') from IBMQ(hub='ibm-q', group='open', project='main')>"
      ]
     },
     "execution_count": 29,
     "metadata": {},
     "output_type": "execute_result"
    }
   ],
   "source": [
    "backend1"
   ]
  },
  {
   "cell_type": "code",
   "execution_count": 30,
   "metadata": {},
   "outputs": [],
   "source": [
    "layout1 = [0,2,4]"
   ]
  },
  {
   "cell_type": "code",
   "execution_count": 31,
   "metadata": {},
   "outputs": [
    {
     "name": "stdout",
     "output_type": "stream",
     "text": [
      "6078128326eae171236f90f9\n",
      "Job Status: job has successfully run\n",
      "\n",
      "Probability of correct answer for inputs 0 0\n",
      "0.87\n",
      "---------------------------------\n",
      "607812c14638592368b63466\n",
      "Job Status: job has successfully run\n",
      "\n",
      "Probability of correct answer for inputs 0 1\n",
      "0.88\n",
      "---------------------------------\n",
      "6078131626eae1c88b6f9100\n",
      "Job Status: job has successfully run\n",
      "\n",
      "Probability of correct answer for inputs 1 0\n",
      "0.90\n",
      "---------------------------------\n",
      "607813d465fc992c5cd7f998\n",
      "Job Status: job has successfully run\n",
      "\n",
      "Probability of correct answer for inputs 1 1\n",
      "0.64\n",
      "---------------------------------\n",
      "\n",
      "\n",
      "The highest of these probabilities was 0.90\n",
      "The lowest of these probabilities was 0.64\n"
     ]
    }
   ],
   "source": [
    "output1_all = []\n",
    "qc_trans1_all = []\n",
    "prob1_all = []\n",
    "\n",
    "worst = 1\n",
    "best = 0\n",
    "for input1 in ['0','1']:\n",
    "    for input2 in ['0','1']:\n",
    "        qc_trans1, output1 = AND(input1, input2, backend1, layout1)\n",
    "        \n",
    "        output1_all.append(output1)\n",
    "        qc_trans1_all.append(qc_trans1)\n",
    "        \n",
    "        prob = output1[str(int( input1=='1' and input2=='1' ))]/8192\n",
    "        prob1_all.append(prob)\n",
    "        \n",
    "        print('\\nProbability of correct answer for inputs',input1,input2)\n",
    "        print( '{:.2f}'.format(prob) )\n",
    "        print('---------------------------------')\n",
    "        \n",
    "        worst = min(worst,prob)\n",
    "        best = max(best, prob)\n",
    "        \n",
    "print('')\n",
    "print('\\nThe highest of these probabilities was {:.2f}'.format(best))\n",
    "print('The lowest of these probabilities was {:.2f}'.format(worst))"
   ]
  },
  {
   "cell_type": "code",
   "execution_count": 40,
   "metadata": {},
   "outputs": [
    {
     "name": "stdout",
     "output_type": "stream",
     "text": [
      "Transpiled AND gate circuit for ibmq_athens with input 0 0\n",
      "\n",
      "The circuit depth : 28\n",
      "# of nonlocal gates : 19\n",
      "Probability of correct answer : 0.87\n"
     ]
    },
    {
     "data": {
      "text/html": [
       "<pre style=\"word-wrap: normal;white-space: pre;background: #fff0;line-height: 1.1;font-family: &quot;Courier New&quot;,Courier,monospace\">global phase: 3π/4\n",
       "                ░                                                             »\n",
       "      q_0 -> 0 ─░──────────────────────────────────────────────────────■──────»\n",
       "                ░            ┌───┐                                   ┌─┴─┐    »\n",
       "ancilla_0 -> 1 ────────■─────┤ X ├──────■──────────────────────■─────┤ X ├────»\n",
       "                ░    ┌─┴─┐   └─┬─┘    ┌─┴─┐                    │     └───┘    »\n",
       "      q_1 -> 2 ─░────┤ X ├─────■──────┤ X ├────────────────────┼──────────────»\n",
       "                ░    └───┘            └───┘        ┌───┐     ┌─┴─┐┌──────────┐»\n",
       "ancilla_1 -> 3 ─────────────────────────────────■──┤ X ├──■──┤ X ├┤ RZ(3π/4) ├»\n",
       "                ░ ┌─────────┐┌────┐┌─────────┐┌─┴─┐└─┬─┘┌─┴─┐└───┘└──────────┘»\n",
       "      q_2 -> 4 ─░─┤ RZ(π/2) ├┤ √X ├┤ RZ(π/2) ├┤ X ├──■──┤ X ├─────────────────»\n",
       "                ░ └─────────┘└────┘└─────────┘└───┘     └───┘                 »\n",
       "          c: 1/═══════════════════════════════════════════════════════════════»\n",
       "                                                                              »\n",
       "«               ┌───┐                                                          »\n",
       "«      q_0 -> 0 ┤ X ├──────■───────────────────────────────────────────────────»\n",
       "«               └─┬─┘    ┌─┴─┐   ┌────┐      ┌───────┐  ┌────┐┌──────────┐     »\n",
       "«ancilla_0 -> 1 ──■──────┤ X ├───┤ √X ├──■───┤ RZ(π) ├──┤ √X ├┤ RZ(7π/4) ├──■──»\n",
       "«                        └───┘   └────┘  │   └───────┘  └────┘└──────────┘  │  »\n",
       "«      q_1 -> 2 ─────────────────────────┼──────────────────────────────────┼──»\n",
       "«               ┌────┐┌─────────┐      ┌─┴─┐┌──────────┐┌────┐            ┌─┴─┐»\n",
       "«ancilla_1 -> 3 ┤ √X ├┤ RZ(π/2) ├──────┤ X ├┤ RZ(3π/2) ├┤ √X ├────────────┤ X ├»\n",
       "«               └────┘└─────────┘      └───┘└──────────┘└────┘            └───┘»\n",
       "«      q_2 -> 4 ───────────────────────────────────────────────────────────────»\n",
       "«                                                                              »\n",
       "«          c: 1/═══════════════════════════════════════════════════════════════»\n",
       "«                                                                              »\n",
       "«                              ┌─────────┐                              ┌───┐»\n",
       "«      q_0 -> 0 ───────■───────┤ RZ(π/4) ├───────────────────────────■──┤ X ├»\n",
       "«                    ┌─┴─┐     ├─────────┴┐                   ┌───┐┌─┴─┐└─┬─┘»\n",
       "«ancilla_0 -> 1 ─────┤ X ├─────┤ RZ(7π/4) ├───────────────────┤ X ├┤ X ├──■──»\n",
       "«                    └───┘     └──────────┘                   └─┬─┘└───┘     »\n",
       "«      q_1 -> 2 ────────────────────────────────────────────────┼────────────»\n",
       "«               ┌─────────────┐   ┌────┐   ┌────┐┌───────────┐  │            »\n",
       "«ancilla_1 -> 3 ┤ RZ(-1.6417) ├───┤ √X ├───┤ √X ├┤ RZ(3.856) ├──■────────────»\n",
       "«               └─────────────┘   └────┘   └────┘└───────────┘               »\n",
       "«      q_2 -> 4 ─────────────────────────────────────────────────────────────»\n",
       "«                                                                            »\n",
       "«          c: 1/═════════════════════════════════════════════════════════════»\n",
       "«                                                                            »\n",
       "«                    ┌──────────┐   ┌────┐   ┌─────────┐ ░ ┌─┐\n",
       "«      q_0 -> 0 ──■──┤ RZ(3π/4) ├───┤ √X ├───┤ RZ(π/2) ├─░─┤M├\n",
       "«               ┌─┴─┐└──┬───┬───┘┌──┴────┴──┐└──┬───┬──┘ ░ └╥┘\n",
       "«ancilla_0 -> 1 ┤ X ├───┤ X ├────┤ RZ(7π/4) ├───┤ X ├────░──╫─\n",
       "«               └───┘   └─┬─┘    └──────────┘   └─┬─┘    ░  ║ \n",
       "«      q_1 -> 2 ──────────┼───────────────────────┼──────░──╫─\n",
       "«                         │                       │      ░  ║ \n",
       "«ancilla_1 -> 3 ──────────■───────────────────────■──────░──╫─\n",
       "«                                                        ░  ║ \n",
       "«      q_2 -> 4 ─────────────────────────────────────────░──╫─\n",
       "«                                                        ░  ║ \n",
       "«          c: 1/════════════════════════════════════════════╩═\n",
       "«                                                           0 </pre>"
      ],
      "text/plain": [
       "global phase: 3π/4\n",
       "                ░                                                             »\n",
       "      q_0 -> 0 ─░──────────────────────────────────────────────────────■──────»\n",
       "                ░            ┌───┐                                   ┌─┴─┐    »\n",
       "ancilla_0 -> 1 ────────■─────┤ X ├──────■──────────────────────■─────┤ X ├────»\n",
       "                ░    ┌─┴─┐   └─┬─┘    ┌─┴─┐                    │     └───┘    »\n",
       "      q_1 -> 2 ─░────┤ X ├─────■──────┤ X ├────────────────────┼──────────────»\n",
       "                ░    └───┘            └───┘        ┌───┐     ┌─┴─┐┌──────────┐»\n",
       "ancilla_1 -> 3 ─────────────────────────────────■──┤ X ├──■──┤ X ├┤ RZ(3π/4) ├»\n",
       "                ░ ┌─────────┐┌────┐┌─────────┐┌─┴─┐└─┬─┘┌─┴─┐└───┘└──────────┘»\n",
       "      q_2 -> 4 ─░─┤ RZ(π/2) ├┤ √X ├┤ RZ(π/2) ├┤ X ├──■──┤ X ├─────────────────»\n",
       "                ░ └─────────┘└────┘└─────────┘└───┘     └───┘                 »\n",
       "          c: 1/═══════════════════════════════════════════════════════════════»\n",
       "                                                                              »\n",
       "«               ┌───┐                                                          »\n",
       "«      q_0 -> 0 ┤ X ├──────■───────────────────────────────────────────────────»\n",
       "«               └─┬─┘    ┌─┴─┐   ┌────┐      ┌───────┐  ┌────┐┌──────────┐     »\n",
       "«ancilla_0 -> 1 ──■──────┤ X ├───┤ √X ├──■───┤ RZ(π) ├──┤ √X ├┤ RZ(7π/4) ├──■──»\n",
       "«                        └───┘   └────┘  │   └───────┘  └────┘└──────────┘  │  »\n",
       "«      q_1 -> 2 ─────────────────────────┼──────────────────────────────────┼──»\n",
       "«               ┌────┐┌─────────┐      ┌─┴─┐┌──────────┐┌────┐            ┌─┴─┐»\n",
       "«ancilla_1 -> 3 ┤ √X ├┤ RZ(π/2) ├──────┤ X ├┤ RZ(3π/2) ├┤ √X ├────────────┤ X ├»\n",
       "«               └────┘└─────────┘      └───┘└──────────┘└────┘            └───┘»\n",
       "«      q_2 -> 4 ───────────────────────────────────────────────────────────────»\n",
       "«                                                                              »\n",
       "«          c: 1/═══════════════════════════════════════════════════════════════»\n",
       "«                                                                              »\n",
       "«                              ┌─────────┐                              ┌───┐»\n",
       "«      q_0 -> 0 ───────■───────┤ RZ(π/4) ├───────────────────────────■──┤ X ├»\n",
       "«                    ┌─┴─┐     ├─────────┴┐                   ┌───┐┌─┴─┐└─┬─┘»\n",
       "«ancilla_0 -> 1 ─────┤ X ├─────┤ RZ(7π/4) ├───────────────────┤ X ├┤ X ├──■──»\n",
       "«                    └───┘     └──────────┘                   └─┬─┘└───┘     »\n",
       "«      q_1 -> 2 ────────────────────────────────────────────────┼────────────»\n",
       "«               ┌─────────────┐   ┌────┐   ┌────┐┌───────────┐  │            »\n",
       "«ancilla_1 -> 3 ┤ RZ(-1.6417) ├───┤ √X ├───┤ √X ├┤ RZ(3.856) ├──■────────────»\n",
       "«               └─────────────┘   └────┘   └────┘└───────────┘               »\n",
       "«      q_2 -> 4 ─────────────────────────────────────────────────────────────»\n",
       "«                                                                            »\n",
       "«          c: 1/═════════════════════════════════════════════════════════════»\n",
       "«                                                                            »\n",
       "«                    ┌──────────┐   ┌────┐   ┌─────────┐ ░ ┌─┐\n",
       "«      q_0 -> 0 ──■──┤ RZ(3π/4) ├───┤ √X ├───┤ RZ(π/2) ├─░─┤M├\n",
       "«               ┌─┴─┐└──┬───┬───┘┌──┴────┴──┐└──┬───┬──┘ ░ └╥┘\n",
       "«ancilla_0 -> 1 ┤ X ├───┤ X ├────┤ RZ(7π/4) ├───┤ X ├────░──╫─\n",
       "«               └───┘   └─┬─┘    └──────────┘   └─┬─┘    ░  ║ \n",
       "«      q_1 -> 2 ──────────┼───────────────────────┼──────░──╫─\n",
       "«                         │                       │      ░  ║ \n",
       "«ancilla_1 -> 3 ──────────■───────────────────────■──────░──╫─\n",
       "«                                                        ░  ║ \n",
       "«      q_2 -> 4 ─────────────────────────────────────────░──╫─\n",
       "«                                                        ░  ║ \n",
       "«          c: 1/════════════════════════════════════════════╩═\n",
       "«                                                           0 "
      ]
     },
     "execution_count": 40,
     "metadata": {},
     "output_type": "execute_result"
    }
   ],
   "source": [
    "print('Transpiled AND gate circuit for ibmq_athens with input 0 0')\n",
    "print('\\nThe circuit depth : {}'.format (qc_trans1_all[0].depth()))\n",
    "print('# of nonlocal gates : {}'.format (qc_trans1_all[0].num_nonlocal_gates()))\n",
    "print('Probability of correct answer : {:.2f}'.format(prob1_all[0]) )\n",
    "qc_trans1_all[0].draw()"
   ]
  },
  {
   "cell_type": "code",
   "execution_count": 41,
   "metadata": {},
   "outputs": [
    {
     "name": "stdout",
     "output_type": "stream",
     "text": [
      "Transpiled AND gate circuit for ibmqx2 with input 0 1\n",
      "\n",
      "The circuit depth : 33\n",
      "# of nonlocal gates : 22\n",
      "Probability of correct answer : 0.88\n"
     ]
    },
    {
     "data": {
      "text/html": [
       "<pre style=\"word-wrap: normal;white-space: pre;background: #fff0;line-height: 1.1;font-family: &quot;Courier New&quot;,Courier,monospace\">global phase: π/4\n",
       "                     ░                                                 »\n",
       "      q_0 -> 0 ──────░─────────────────────────────────────────────────»\n",
       "                     ░            ┌───┐                                »\n",
       "ancilla_0 -> 1 ─────────────■─────┤ X ├──────■──────────────────────■──»\n",
       "               ┌───┐ ░    ┌─┴─┐   └─┬─┘    ┌─┴─┐                    │  »\n",
       "      q_1 -> 2 ┤ X ├─░────┤ X ├─────■──────┤ X ├────────────────────┼──»\n",
       "               └───┘ ░    └───┘            └───┘        ┌───┐     ┌─┴─┐»\n",
       "ancilla_1 -> 3 ──────────────────────────────────────■──┤ X ├──■──┤ X ├»\n",
       "                     ░ ┌─────────┐┌────┐┌─────────┐┌─┴─┐└─┬─┘┌─┴─┐└───┘»\n",
       "      q_2 -> 4 ──────░─┤ RZ(π/2) ├┤ √X ├┤ RZ(π/2) ├┤ X ├──■──┤ X ├─────»\n",
       "                     ░ └─────────┘└────┘└─────────┘└───┘     └───┘     »\n",
       "          c: 1/════════════════════════════════════════════════════════»\n",
       "                                                                       »\n",
       "«                           ┌───┐                     ┌───┐            »\n",
       "«      q_0 -> 0 ─────■──────┤ X ├──■────────────■─────┤ X ├──────■─────»\n",
       "«                  ┌─┴─┐    └─┬─┘┌─┴─┐        ┌─┴─┐   └─┬─┘    ┌─┴─┐   »\n",
       "«ancilla_0 -> 1 ───┤ X ├──────■──┤ X ├──■─────┤ X ├─────■──────┤ X ├───»\n",
       "«                  └───┘         └───┘  │     └───┘            └───┘   »\n",
       "«      q_1 -> 2 ────────────────────────┼──────────────────────────────»\n",
       "«               ┌──────────┐          ┌─┴─┐┌─────────┐┌────┐┌─────────┐»\n",
       "«ancilla_1 -> 3 ┤ RZ(7π/4) ├──────────┤ X ├┤ RZ(π/4) ├┤ √X ├┤ RZ(π/2) ├»\n",
       "«               └──────────┘          └───┘└─────────┘└────┘└─────────┘»\n",
       "«      q_2 -> 4 ───────────────────────────────────────────────────────»\n",
       "«                                                                      »\n",
       "«          c: 1/═══════════════════════════════════════════════════════»\n",
       "«                                                                      »\n",
       "«                                                                     »\n",
       "«      q_0 -> 0 ──────────────────────────────────────────────────────»\n",
       "«               ┌───────┐┌────┐      ┌───────┐  ┌────┐┌─────────┐     »\n",
       "«ancilla_0 -> 1 ┤ RZ(π) ├┤ √X ├──■───┤ RZ(π) ├──┤ √X ├┤ RZ(π/4) ├──■──»\n",
       "«               └───────┘└────┘  │   └───────┘  └────┘└─────────┘  │  »\n",
       "«      q_1 -> 2 ─────────────────┼─────────────────────────────────┼──»\n",
       "«                              ┌─┴─┐┌──────────┐┌────┐           ┌─┴─┐»\n",
       "«ancilla_1 -> 3 ───────────────┤ X ├┤ RZ(3π/2) ├┤ √X ├───────────┤ X ├»\n",
       "«                              └───┘└──────────┘└────┘           └───┘»\n",
       "«      q_2 -> 4 ──────────────────────────────────────────────────────»\n",
       "«                                                                     »\n",
       "«          c: 1/══════════════════════════════════════════════════════»\n",
       "«                                                                     »\n",
       "«                                                                    »\n",
       "«      q_0 -> 0 ──────■──────────────────────────────────────────────»\n",
       "«                   ┌─┴─┐                                  ┌───┐     »\n",
       "«ancilla_0 -> 1 ────┤ X ├───────────────────────────────■──┤ X ├──■──»\n",
       "«                   └───┘                               │  └─┬─┘  │  »\n",
       "«      q_1 -> 2 ────────────────────────────────────────┼────┼────┼──»\n",
       "«               ┌───────────┐┌────┐┌────┐┌───────────┐┌─┴─┐  │  ┌─┴─┐»\n",
       "«ancilla_1 -> 3 ┤ RZ(-3π/8) ├┤ √X ├┤ √X ├┤ RZ(11π/8) ├┤ X ├──■──┤ X ├»\n",
       "«               └───────────┘└────┘└────┘└───────────┘└───┘     └───┘»\n",
       "«      q_2 -> 4 ─────────────────────────────────────────────────────»\n",
       "«                                                                    »\n",
       "«          c: 1/═════════════════════════════════════════════════════»\n",
       "«                                                                    »\n",
       "«                           ┌─────────┐             ░    \n",
       "«      q_0 -> 0 ─────■──────┤ RZ(π/4) ├──────■──────░────\n",
       "«                  ┌─┴─┐    ├─────────┴┐   ┌─┴─┐    ░    \n",
       "«ancilla_0 -> 1 ───┤ X ├────┤ RZ(7π/4) ├───┤ X ├────░────\n",
       "«                  └───┘    └──────────┘   └───┘    ░    \n",
       "«      q_1 -> 2 ────────────────────────────────────░────\n",
       "«               ┌──────────┐   ┌────┐   ┌─────────┐ ░ ┌─┐\n",
       "«ancilla_1 -> 3 ┤ RZ(3π/4) ├───┤ √X ├───┤ RZ(π/2) ├─░─┤M├\n",
       "«               └──────────┘   └────┘   └─────────┘ ░ └╥┘\n",
       "«      q_2 -> 4 ────────────────────────────────────░──╫─\n",
       "«                                                   ░  ║ \n",
       "«          c: 1/═══════════════════════════════════════╩═\n",
       "«                                                      0 </pre>"
      ],
      "text/plain": [
       "global phase: π/4\n",
       "                     ░                                                 »\n",
       "      q_0 -> 0 ──────░─────────────────────────────────────────────────»\n",
       "                     ░            ┌───┐                                »\n",
       "ancilla_0 -> 1 ─────────────■─────┤ X ├──────■──────────────────────■──»\n",
       "               ┌───┐ ░    ┌─┴─┐   └─┬─┘    ┌─┴─┐                    │  »\n",
       "      q_1 -> 2 ┤ X ├─░────┤ X ├─────■──────┤ X ├────────────────────┼──»\n",
       "               └───┘ ░    └───┘            └───┘        ┌───┐     ┌─┴─┐»\n",
       "ancilla_1 -> 3 ──────────────────────────────────────■──┤ X ├──■──┤ X ├»\n",
       "                     ░ ┌─────────┐┌────┐┌─────────┐┌─┴─┐└─┬─┘┌─┴─┐└───┘»\n",
       "      q_2 -> 4 ──────░─┤ RZ(π/2) ├┤ √X ├┤ RZ(π/2) ├┤ X ├──■──┤ X ├─────»\n",
       "                     ░ └─────────┘└────┘└─────────┘└───┘     └───┘     »\n",
       "          c: 1/════════════════════════════════════════════════════════»\n",
       "                                                                       »\n",
       "«                           ┌───┐                     ┌───┐            »\n",
       "«      q_0 -> 0 ─────■──────┤ X ├──■────────────■─────┤ X ├──────■─────»\n",
       "«                  ┌─┴─┐    └─┬─┘┌─┴─┐        ┌─┴─┐   └─┬─┘    ┌─┴─┐   »\n",
       "«ancilla_0 -> 1 ───┤ X ├──────■──┤ X ├──■─────┤ X ├─────■──────┤ X ├───»\n",
       "«                  └───┘         └───┘  │     └───┘            └───┘   »\n",
       "«      q_1 -> 2 ────────────────────────┼──────────────────────────────»\n",
       "«               ┌──────────┐          ┌─┴─┐┌─────────┐┌────┐┌─────────┐»\n",
       "«ancilla_1 -> 3 ┤ RZ(7π/4) ├──────────┤ X ├┤ RZ(π/4) ├┤ √X ├┤ RZ(π/2) ├»\n",
       "«               └──────────┘          └───┘└─────────┘└────┘└─────────┘»\n",
       "«      q_2 -> 4 ───────────────────────────────────────────────────────»\n",
       "«                                                                      »\n",
       "«          c: 1/═══════════════════════════════════════════════════════»\n",
       "«                                                                      »\n",
       "«                                                                     »\n",
       "«      q_0 -> 0 ──────────────────────────────────────────────────────»\n",
       "«               ┌───────┐┌────┐      ┌───────┐  ┌────┐┌─────────┐     »\n",
       "«ancilla_0 -> 1 ┤ RZ(π) ├┤ √X ├──■───┤ RZ(π) ├──┤ √X ├┤ RZ(π/4) ├──■──»\n",
       "«               └───────┘└────┘  │   └───────┘  └────┘└─────────┘  │  »\n",
       "«      q_1 -> 2 ─────────────────┼─────────────────────────────────┼──»\n",
       "«                              ┌─┴─┐┌──────────┐┌────┐           ┌─┴─┐»\n",
       "«ancilla_1 -> 3 ───────────────┤ X ├┤ RZ(3π/2) ├┤ √X ├───────────┤ X ├»\n",
       "«                              └───┘└──────────┘└────┘           └───┘»\n",
       "«      q_2 -> 4 ──────────────────────────────────────────────────────»\n",
       "«                                                                     »\n",
       "«          c: 1/══════════════════════════════════════════════════════»\n",
       "«                                                                     »\n",
       "«                                                                    »\n",
       "«      q_0 -> 0 ──────■──────────────────────────────────────────────»\n",
       "«                   ┌─┴─┐                                  ┌───┐     »\n",
       "«ancilla_0 -> 1 ────┤ X ├───────────────────────────────■──┤ X ├──■──»\n",
       "«                   └───┘                               │  └─┬─┘  │  »\n",
       "«      q_1 -> 2 ────────────────────────────────────────┼────┼────┼──»\n",
       "«               ┌───────────┐┌────┐┌────┐┌───────────┐┌─┴─┐  │  ┌─┴─┐»\n",
       "«ancilla_1 -> 3 ┤ RZ(-3π/8) ├┤ √X ├┤ √X ├┤ RZ(11π/8) ├┤ X ├──■──┤ X ├»\n",
       "«               └───────────┘└────┘└────┘└───────────┘└───┘     └───┘»\n",
       "«      q_2 -> 4 ─────────────────────────────────────────────────────»\n",
       "«                                                                    »\n",
       "«          c: 1/═════════════════════════════════════════════════════»\n",
       "«                                                                    »\n",
       "«                           ┌─────────┐             ░    \n",
       "«      q_0 -> 0 ─────■──────┤ RZ(π/4) ├──────■──────░────\n",
       "«                  ┌─┴─┐    ├─────────┴┐   ┌─┴─┐    ░    \n",
       "«ancilla_0 -> 1 ───┤ X ├────┤ RZ(7π/4) ├───┤ X ├────░────\n",
       "«                  └───┘    └──────────┘   └───┘    ░    \n",
       "«      q_1 -> 2 ────────────────────────────────────░────\n",
       "«               ┌──────────┐   ┌────┐   ┌─────────┐ ░ ┌─┐\n",
       "«ancilla_1 -> 3 ┤ RZ(3π/4) ├───┤ √X ├───┤ RZ(π/2) ├─░─┤M├\n",
       "«               └──────────┘   └────┘   └─────────┘ ░ └╥┘\n",
       "«      q_2 -> 4 ────────────────────────────────────░──╫─\n",
       "«                                                   ░  ║ \n",
       "«          c: 1/═══════════════════════════════════════╩═\n",
       "«                                                      0 "
      ]
     },
     "execution_count": 41,
     "metadata": {},
     "output_type": "execute_result"
    }
   ],
   "source": [
    "print('Transpiled AND gate circuit for ibmqx2 with input 0 1')\n",
    "print('\\nThe circuit depth : {}'.format (qc_trans1_all[1].depth()))\n",
    "print('# of nonlocal gates : {}'.format (qc_trans1_all[1].num_nonlocal_gates()))\n",
    "print('Probability of correct answer : {:.2f}'.format(prob1_all[1]) )\n",
    "qc_trans1_all[1].draw()"
   ]
  },
  {
   "cell_type": "code",
   "execution_count": 42,
   "metadata": {},
   "outputs": [
    {
     "name": "stdout",
     "output_type": "stream",
     "text": [
      "Transpiled AND gate circuit for ibmqx2 with input 1 0\n",
      "\n",
      "The circuit depth : 25\n",
      "# of nonlocal gates : 21\n",
      "Probability of correct answer : 0.90\n"
     ]
    },
    {
     "data": {
      "text/html": [
       "<pre style=\"word-wrap: normal;white-space: pre;background: #fff0;line-height: 1.1;font-family: &quot;Courier New&quot;,Courier,monospace\">global phase: 13π/8\n",
       "               ┌───┐ ░                                                 »\n",
       "      q_0 -> 0 ┤ X ├─░─────────────────────────────────────────────────»\n",
       "               └───┘ ░            ┌───┐                                »\n",
       "ancilla_0 -> 1 ─────────────■─────┤ X ├──────■──────────────────────■──»\n",
       "                     ░    ┌─┴─┐   └─┬─┘    ┌─┴─┐                    │  »\n",
       "      q_1 -> 2 ──────░────┤ X ├─────■──────┤ X ├────────────────────┼──»\n",
       "                     ░    └───┘            └───┘        ┌───┐     ┌─┴─┐»\n",
       "ancilla_1 -> 3 ──────────────────────────────────────■──┤ X ├──■──┤ X ├»\n",
       "                     ░ ┌─────────┐┌────┐┌─────────┐┌─┴─┐└─┬─┘┌─┴─┐└───┘»\n",
       "      q_2 -> 4 ──────░─┤ RZ(π/2) ├┤ √X ├┤ RZ(π/2) ├┤ X ├──■──┤ X ├─────»\n",
       "                     ░ └─────────┘└────┘└─────────┘└───┘     └───┘     »\n",
       "          c: 1/════════════════════════════════════════════════════════»\n",
       "                                                                       »\n",
       "«                           ┌───┐                     ┌───┐          »\n",
       "«      q_0 -> 0 ─────■──────┤ X ├──■────────────■─────┤ X ├──■───────»\n",
       "«                  ┌─┴─┐    └─┬─┘┌─┴─┐        ┌─┴─┐   └─┬─┘┌─┴─┐     »\n",
       "«ancilla_0 -> 1 ───┤ X ├──────■──┤ X ├──■─────┤ X ├─────■──┤ X ├──■──»\n",
       "«                  └───┘         └───┘  │     └───┘        └───┘  │  »\n",
       "«      q_1 -> 2 ────────────────────────┼─────────────────────────┼──»\n",
       "«               ┌──────────┐          ┌─┴─┐┌─────────┐          ┌─┴─┐»\n",
       "«ancilla_1 -> 3 ┤ RZ(7π/4) ├──────────┤ X ├┤ RZ(π/4) ├──────────┤ X ├»\n",
       "«               └──────────┘          └───┘└─────────┘          └───┘»\n",
       "«      q_2 -> 4 ─────────────────────────────────────────────────────»\n",
       "«                                                                    »\n",
       "«          c: 1/═════════════════════════════════════════════════════»\n",
       "«                                                                    »\n",
       "«                                ┌───┐             ┌───┐    ┌──────────┐»\n",
       "«      q_0 -> 0 ──────────────■──┤ X ├──■──────────┤ X ├────┤ RZ(7π/4) ├»\n",
       "«               ┌─────────┐ ┌─┴─┐└─┬─┘┌─┴─┐        └─┬─┘    ├─────────┬┘»\n",
       "«ancilla_0 -> 1 ┤ RZ(π/4) ├─┤ X ├──■──┤ X ├──■───────■──────┤ RZ(π/4) ├─»\n",
       "«               └─────────┘ └───┘     └───┘  │              └─────────┘ »\n",
       "«      q_1 -> 2 ─────────────────────────────┼──────────────────────────»\n",
       "«               ┌──────────┐               ┌─┴─┐┌──────────┐   ┌────┐   »\n",
       "«ancilla_1 -> 3 ┤ RZ(7π/4) ├───────────────┤ X ├┤ RZ(3π/4) ├───┤ √X ├───»\n",
       "«               └──────────┘               └───┘└──────────┘   └────┘   »\n",
       "«      q_2 -> 4 ────────────────────────────────────────────────────────»\n",
       "«                                                                       »\n",
       "«          c: 1/════════════════════════════════════════════════════════»\n",
       "«                                                                       »\n",
       "«                  ┌───┐    ░    \n",
       "«      q_0 -> 0 ───┤ X ├────░────\n",
       "«                  └─┬─┘    ░    \n",
       "«ancilla_0 -> 1 ─────■──────░────\n",
       "«                           ░    \n",
       "«      q_1 -> 2 ────────────░────\n",
       "«               ┌─────────┐ ░ ┌─┐\n",
       "«ancilla_1 -> 3 ┤ RZ(π/2) ├─░─┤M├\n",
       "«               └─────────┘ ░ └╥┘\n",
       "«      q_2 -> 4 ────────────░──╫─\n",
       "«                           ░  ║ \n",
       "«          c: 1/═══════════════╩═\n",
       "«                              0 </pre>"
      ],
      "text/plain": [
       "global phase: 13π/8\n",
       "               ┌───┐ ░                                                 »\n",
       "      q_0 -> 0 ┤ X ├─░─────────────────────────────────────────────────»\n",
       "               └───┘ ░            ┌───┐                                »\n",
       "ancilla_0 -> 1 ─────────────■─────┤ X ├──────■──────────────────────■──»\n",
       "                     ░    ┌─┴─┐   └─┬─┘    ┌─┴─┐                    │  »\n",
       "      q_1 -> 2 ──────░────┤ X ├─────■──────┤ X ├────────────────────┼──»\n",
       "                     ░    └───┘            └───┘        ┌───┐     ┌─┴─┐»\n",
       "ancilla_1 -> 3 ──────────────────────────────────────■──┤ X ├──■──┤ X ├»\n",
       "                     ░ ┌─────────┐┌────┐┌─────────┐┌─┴─┐└─┬─┘┌─┴─┐└───┘»\n",
       "      q_2 -> 4 ──────░─┤ RZ(π/2) ├┤ √X ├┤ RZ(π/2) ├┤ X ├──■──┤ X ├─────»\n",
       "                     ░ └─────────┘└────┘└─────────┘└───┘     └───┘     »\n",
       "          c: 1/════════════════════════════════════════════════════════»\n",
       "                                                                       »\n",
       "«                           ┌───┐                     ┌───┐          »\n",
       "«      q_0 -> 0 ─────■──────┤ X ├──■────────────■─────┤ X ├──■───────»\n",
       "«                  ┌─┴─┐    └─┬─┘┌─┴─┐        ┌─┴─┐   └─┬─┘┌─┴─┐     »\n",
       "«ancilla_0 -> 1 ───┤ X ├──────■──┤ X ├──■─────┤ X ├─────■──┤ X ├──■──»\n",
       "«                  └───┘         └───┘  │     └───┘        └───┘  │  »\n",
       "«      q_1 -> 2 ────────────────────────┼─────────────────────────┼──»\n",
       "«               ┌──────────┐          ┌─┴─┐┌─────────┐          ┌─┴─┐»\n",
       "«ancilla_1 -> 3 ┤ RZ(7π/4) ├──────────┤ X ├┤ RZ(π/4) ├──────────┤ X ├»\n",
       "«               └──────────┘          └───┘└─────────┘          └───┘»\n",
       "«      q_2 -> 4 ─────────────────────────────────────────────────────»\n",
       "«                                                                    »\n",
       "«          c: 1/═════════════════════════════════════════════════════»\n",
       "«                                                                    »\n",
       "«                                ┌───┐             ┌───┐    ┌──────────┐»\n",
       "«      q_0 -> 0 ──────────────■──┤ X ├──■──────────┤ X ├────┤ RZ(7π/4) ├»\n",
       "«               ┌─────────┐ ┌─┴─┐└─┬─┘┌─┴─┐        └─┬─┘    ├─────────┬┘»\n",
       "«ancilla_0 -> 1 ┤ RZ(π/4) ├─┤ X ├──■──┤ X ├──■───────■──────┤ RZ(π/4) ├─»\n",
       "«               └─────────┘ └───┘     └───┘  │              └─────────┘ »\n",
       "«      q_1 -> 2 ─────────────────────────────┼──────────────────────────»\n",
       "«               ┌──────────┐               ┌─┴─┐┌──────────┐   ┌────┐   »\n",
       "«ancilla_1 -> 3 ┤ RZ(7π/4) ├───────────────┤ X ├┤ RZ(3π/4) ├───┤ √X ├───»\n",
       "«               └──────────┘               └───┘└──────────┘   └────┘   »\n",
       "«      q_2 -> 4 ────────────────────────────────────────────────────────»\n",
       "«                                                                       »\n",
       "«          c: 1/════════════════════════════════════════════════════════»\n",
       "«                                                                       »\n",
       "«                  ┌───┐    ░    \n",
       "«      q_0 -> 0 ───┤ X ├────░────\n",
       "«                  └─┬─┘    ░    \n",
       "«ancilla_0 -> 1 ─────■──────░────\n",
       "«                           ░    \n",
       "«      q_1 -> 2 ────────────░────\n",
       "«               ┌─────────┐ ░ ┌─┐\n",
       "«ancilla_1 -> 3 ┤ RZ(π/2) ├─░─┤M├\n",
       "«               └─────────┘ ░ └╥┘\n",
       "«      q_2 -> 4 ────────────░──╫─\n",
       "«                           ░  ║ \n",
       "«          c: 1/═══════════════╩═\n",
       "«                              0 "
      ]
     },
     "execution_count": 42,
     "metadata": {},
     "output_type": "execute_result"
    }
   ],
   "source": [
    "print('Transpiled AND gate circuit for ibmqx2 with input 1 0')\n",
    "print('\\nThe circuit depth : {}'.format (qc_trans1_all[2].depth()))\n",
    "print('# of nonlocal gates : {}'.format (qc_trans1_all[2].num_nonlocal_gates()))\n",
    "print('Probability of correct answer : {:.2f}'.format(prob1_all[2]) )\n",
    "qc_trans1_all[2].draw()"
   ]
  },
  {
   "cell_type": "code",
   "execution_count": 43,
   "metadata": {},
   "outputs": [
    {
     "name": "stdout",
     "output_type": "stream",
     "text": [
      "Transpiled AND gate circuit for ibmqx2 with input 1 1\n",
      "\n",
      "The circuit depth : 31\n",
      "# of nonlocal gates : 17\n",
      "Probability of correct answer : 0.64\n"
     ]
    },
    {
     "data": {
      "text/html": [
       "<pre style=\"word-wrap: normal;white-space: pre;background: #fff0;line-height: 1.1;font-family: &quot;Courier New&quot;,Courier,monospace\">global phase: π/8\n",
       "               ┌───┐ ░                                                 »\n",
       "      q_0 -> 0 ┤ X ├─░─────────────────────────────────────────────────»\n",
       "               └───┘ ░            ┌───┐                                »\n",
       "ancilla_0 -> 1 ─────────────■─────┤ X ├──────■──────────────────────■──»\n",
       "               ┌───┐ ░    ┌─┴─┐   └─┬─┘    ┌─┴─┐                    │  »\n",
       "      q_1 -> 2 ┤ X ├─░────┤ X ├─────■──────┤ X ├────────────────────┼──»\n",
       "               └───┘ ░    └───┘            └───┘        ┌───┐     ┌─┴─┐»\n",
       "ancilla_1 -> 3 ──────────────────────────────────────■──┤ X ├──■──┤ X ├»\n",
       "                     ░ ┌─────────┐┌────┐┌─────────┐┌─┴─┐└─┬─┘┌─┴─┐└───┘»\n",
       "      q_2 -> 4 ──────░─┤ RZ(π/2) ├┤ √X ├┤ RZ(π/2) ├┤ X ├──■──┤ X ├─────»\n",
       "                     ░ └─────────┘└────┘└─────────┘└───┘     └───┘     »\n",
       "          c: 1/════════════════════════════════════════════════════════»\n",
       "                                                                       »\n",
       "«                           ┌───┐                                         »\n",
       "«      q_0 -> 0 ─────■──────┤ X ├──────■──────────────────────────────────»\n",
       "«                  ┌─┴─┐    └─┬─┘    ┌─┴─┐   ┌────┐      ┌───────┐  ┌────┐»\n",
       "«ancilla_0 -> 1 ───┤ X ├──────■──────┤ X ├───┤ √X ├──■───┤ RZ(π) ├──┤ √X ├»\n",
       "«                  └───┘             └───┘   └────┘  │   └───────┘  └────┘»\n",
       "«      q_1 -> 2 ─────────────────────────────────────┼────────────────────»\n",
       "«               ┌──────────┐┌────┐┌─────────┐      ┌─┴─┐┌──────────┐┌────┐»\n",
       "«ancilla_1 -> 3 ┤ RZ(3π/4) ├┤ √X ├┤ RZ(π/2) ├──────┤ X ├┤ RZ(3π/2) ├┤ √X ├»\n",
       "«               └──────────┘└────┘└─────────┘      └───┘└──────────┘└────┘»\n",
       "«      q_2 -> 4 ──────────────────────────────────────────────────────────»\n",
       "«                                                                         »\n",
       "«          c: 1/══════════════════════════════════════════════════════════»\n",
       "«                                                                         »\n",
       "«                                            ┌─────────┐                      »\n",
       "«      q_0 -> 0 ──────────────────────■──────┤ RZ(π/4) ├──────────────────────»\n",
       "«               ┌──────────┐        ┌─┴─┐    ├─────────┴┐  ┌────┐ ┌──────────┐»\n",
       "«ancilla_0 -> 1 ┤ RZ(7π/4) ├──■─────┤ X ├────┤ RZ(3π/4) ├──┤ √X ├─┤ RZ(3π/2) ├»\n",
       "«               └──────────┘  │     └───┘    └──────────┘  └────┘ └──────────┘»\n",
       "«      q_1 -> 2 ──────────────┼───────────────────────────────────────────────»\n",
       "«                           ┌─┴─┐┌──────────┐   ┌────┐   ┌───────┐            »\n",
       "«ancilla_1 -> 3 ────────────┤ X ├┤ RZ(3π/2) ├───┤ √X ├───┤ RZ(π) ├────────────»\n",
       "«                           └───┘└──────────┘   └────┘   └───────┘            »\n",
       "«      q_2 -> 4 ──────────────────────────────────────────────────────────────»\n",
       "«                                                                             »\n",
       "«          c: 1/══════════════════════════════════════════════════════════════»\n",
       "«                                                                             »\n",
       "«                                                             ┌───┐ »\n",
       "«      q_0 -> 0 ──────────────────────────────────────────────┤ X ├─»\n",
       "«                       ┌────┐              ┌────┐┌──────────┐└─┬─┘ »\n",
       "«ancilla_0 -> 1 ──■─────┤ √X ├───────────■──┤ √X ├┤ RZ(3π/4) ├──■───»\n",
       "«                 │     └────┘           │  └────┘└──────────┘      »\n",
       "«      q_1 -> 2 ──┼──────────────────────┼──────────────────────────»\n",
       "«               ┌─┴─┐┌──────────┐┌────┐┌─┴─┐┌────┐┌──────────┐┌────┐»\n",
       "«ancilla_1 -> 3 ┤ X ├┤ RZ(3π/2) ├┤ √X ├┤ X ├┤ √X ├┤ RZ(7π/4) ├┤ √X ├»\n",
       "«               └───┘└──────────┘└────┘└───┘└────┘└──────────┘└────┘»\n",
       "«      q_2 -> 4 ────────────────────────────────────────────────────»\n",
       "«                                                                   »\n",
       "«          c: 1/════════════════════════════════════════════════════»\n",
       "«                                                                   »\n",
       "«               ┌──────────┐┌───┐ ░    \n",
       "«      q_0 -> 0 ┤ RZ(7π/4) ├┤ X ├─░────\n",
       "«               └──────────┘└─┬─┘ ░    \n",
       "«ancilla_0 -> 1 ──────────────■───░────\n",
       "«                                 ░    \n",
       "«      q_1 -> 2 ──────────────────░────\n",
       "«               ┌──────────┐      ░ ┌─┐\n",
       "«ancilla_1 -> 3 ┤ RZ(3π/2) ├──────░─┤M├\n",
       "«               └──────────┘      ░ └╥┘\n",
       "«      q_2 -> 4 ──────────────────░──╫─\n",
       "«                                 ░  ║ \n",
       "«          c: 1/═════════════════════╩═\n",
       "«                                    0 </pre>"
      ],
      "text/plain": [
       "global phase: π/8\n",
       "               ┌───┐ ░                                                 »\n",
       "      q_0 -> 0 ┤ X ├─░─────────────────────────────────────────────────»\n",
       "               └───┘ ░            ┌───┐                                »\n",
       "ancilla_0 -> 1 ─────────────■─────┤ X ├──────■──────────────────────■──»\n",
       "               ┌───┐ ░    ┌─┴─┐   └─┬─┘    ┌─┴─┐                    │  »\n",
       "      q_1 -> 2 ┤ X ├─░────┤ X ├─────■──────┤ X ├────────────────────┼──»\n",
       "               └───┘ ░    └───┘            └───┘        ┌───┐     ┌─┴─┐»\n",
       "ancilla_1 -> 3 ──────────────────────────────────────■──┤ X ├──■──┤ X ├»\n",
       "                     ░ ┌─────────┐┌────┐┌─────────┐┌─┴─┐└─┬─┘┌─┴─┐└───┘»\n",
       "      q_2 -> 4 ──────░─┤ RZ(π/2) ├┤ √X ├┤ RZ(π/2) ├┤ X ├──■──┤ X ├─────»\n",
       "                     ░ └─────────┘└────┘└─────────┘└───┘     └───┘     »\n",
       "          c: 1/════════════════════════════════════════════════════════»\n",
       "                                                                       »\n",
       "«                           ┌───┐                                         »\n",
       "«      q_0 -> 0 ─────■──────┤ X ├──────■──────────────────────────────────»\n",
       "«                  ┌─┴─┐    └─┬─┘    ┌─┴─┐   ┌────┐      ┌───────┐  ┌────┐»\n",
       "«ancilla_0 -> 1 ───┤ X ├──────■──────┤ X ├───┤ √X ├──■───┤ RZ(π) ├──┤ √X ├»\n",
       "«                  └───┘             └───┘   └────┘  │   └───────┘  └────┘»\n",
       "«      q_1 -> 2 ─────────────────────────────────────┼────────────────────»\n",
       "«               ┌──────────┐┌────┐┌─────────┐      ┌─┴─┐┌──────────┐┌────┐»\n",
       "«ancilla_1 -> 3 ┤ RZ(3π/4) ├┤ √X ├┤ RZ(π/2) ├──────┤ X ├┤ RZ(3π/2) ├┤ √X ├»\n",
       "«               └──────────┘└────┘└─────────┘      └───┘└──────────┘└────┘»\n",
       "«      q_2 -> 4 ──────────────────────────────────────────────────────────»\n",
       "«                                                                         »\n",
       "«          c: 1/══════════════════════════════════════════════════════════»\n",
       "«                                                                         »\n",
       "«                                            ┌─────────┐                      »\n",
       "«      q_0 -> 0 ──────────────────────■──────┤ RZ(π/4) ├──────────────────────»\n",
       "«               ┌──────────┐        ┌─┴─┐    ├─────────┴┐  ┌────┐ ┌──────────┐»\n",
       "«ancilla_0 -> 1 ┤ RZ(7π/4) ├──■─────┤ X ├────┤ RZ(3π/4) ├──┤ √X ├─┤ RZ(3π/2) ├»\n",
       "«               └──────────┘  │     └───┘    └──────────┘  └────┘ └──────────┘»\n",
       "«      q_1 -> 2 ──────────────┼───────────────────────────────────────────────»\n",
       "«                           ┌─┴─┐┌──────────┐   ┌────┐   ┌───────┐            »\n",
       "«ancilla_1 -> 3 ────────────┤ X ├┤ RZ(3π/2) ├───┤ √X ├───┤ RZ(π) ├────────────»\n",
       "«                           └───┘└──────────┘   └────┘   └───────┘            »\n",
       "«      q_2 -> 4 ──────────────────────────────────────────────────────────────»\n",
       "«                                                                             »\n",
       "«          c: 1/══════════════════════════════════════════════════════════════»\n",
       "«                                                                             »\n",
       "«                                                             ┌───┐ »\n",
       "«      q_0 -> 0 ──────────────────────────────────────────────┤ X ├─»\n",
       "«                       ┌────┐              ┌────┐┌──────────┐└─┬─┘ »\n",
       "«ancilla_0 -> 1 ──■─────┤ √X ├───────────■──┤ √X ├┤ RZ(3π/4) ├──■───»\n",
       "«                 │     └────┘           │  └────┘└──────────┘      »\n",
       "«      q_1 -> 2 ──┼──────────────────────┼──────────────────────────»\n",
       "«               ┌─┴─┐┌──────────┐┌────┐┌─┴─┐┌────┐┌──────────┐┌────┐»\n",
       "«ancilla_1 -> 3 ┤ X ├┤ RZ(3π/2) ├┤ √X ├┤ X ├┤ √X ├┤ RZ(7π/4) ├┤ √X ├»\n",
       "«               └───┘└──────────┘└────┘└───┘└────┘└──────────┘└────┘»\n",
       "«      q_2 -> 4 ────────────────────────────────────────────────────»\n",
       "«                                                                   »\n",
       "«          c: 1/════════════════════════════════════════════════════»\n",
       "«                                                                   »\n",
       "«               ┌──────────┐┌───┐ ░    \n",
       "«      q_0 -> 0 ┤ RZ(7π/4) ├┤ X ├─░────\n",
       "«               └──────────┘└─┬─┘ ░    \n",
       "«ancilla_0 -> 1 ──────────────■───░────\n",
       "«                                 ░    \n",
       "«      q_1 -> 2 ──────────────────░────\n",
       "«               ┌──────────┐      ░ ┌─┐\n",
       "«ancilla_1 -> 3 ┤ RZ(3π/2) ├──────░─┤M├\n",
       "«               └──────────┘      ░ └╥┘\n",
       "«      q_2 -> 4 ──────────────────░──╫─\n",
       "«                                 ░  ║ \n",
       "«          c: 1/═════════════════════╩═\n",
       "«                                    0 "
      ]
     },
     "execution_count": 43,
     "metadata": {},
     "output_type": "execute_result"
    }
   ],
   "source": [
    "print('Transpiled AND gate circuit for ibmqx2 with input 1 1')\n",
    "print('\\nThe circuit depth : {}'.format (qc_trans1_all[3].depth()))\n",
    "print('# of nonlocal gates : {}'.format (qc_trans1_all[3].num_nonlocal_gates()))\n",
    "print('Probability of correct answer : {:.2f}'.format(prob1_all[3]) )\n",
    "qc_trans1_all[3].draw()"
   ]
  },
  {
   "cell_type": "code",
   "execution_count": null,
   "metadata": {},
   "outputs": [],
   "source": []
  }
 ],
 "metadata": {
  "kernelspec": {
   "display_name": "Python 3",
   "language": "python",
   "name": "python3"
  },
  "language_info": {
   "codemirror_mode": {
    "name": "ipython",
    "version": 3
   },
   "file_extension": ".py",
   "mimetype": "text/x-python",
   "name": "python",
   "nbconvert_exporter": "python",
   "pygments_lexer": "ipython3",
   "version": "3.8.5"
  }
 },
 "nbformat": 4,
 "nbformat_minor": 4
}
