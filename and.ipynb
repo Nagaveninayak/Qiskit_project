{
 "cells": [
  {
   "cell_type": "code",
   "execution_count": 2,
   "metadata": {},
   "outputs": [],
   "source": [
    "from qiskit import *"
   ]
  },
  {
   "cell_type": "code",
   "execution_count": 3,
   "metadata": {},
   "outputs": [],
   "source": [
    "def And(inp1, inp2):\n",
    "    qc = QuantumCircuit(3,1)\n",
    "    \n",
    "    if(inp1 == '1'):\n",
    "        qc.x(0)\n",
    "    if(inp2 == '1'):\n",
    "        qc.x(1)\n",
    "\n",
    "    qc.barrier()\n",
    "    qc.ccx(0,1,2)\n",
    "    \n",
    "    qc.measure(2,0)\n",
    "    qc.draw()\n",
    "    \n",
    "    backend = Aer.get_backend('qasm_simulator')\n",
    "    job = execute(qc, backend, shots = 1, memory= True)\n",
    "    output = job.result().get_memory()[0]\n",
    "    \n",
    "    return qc, output"
   ]
  },
  {
   "cell_type": "code",
   "execution_count": 4,
   "metadata": {},
   "outputs": [
    {
     "name": "stdout",
     "output_type": "stream",
     "text": [
      "And gate input is 0 0 output is  0\n"
     ]
    },
    {
     "data": {
      "text/html": [
       "<pre style=\"word-wrap: normal;white-space: pre;background: #fff0;line-height: 1.1;font-family: &quot;Courier New&quot;,Courier,monospace\">      ░         \n",
       "q_0: ─░───■─────\n",
       "      ░   │     \n",
       "q_1: ─░───■─────\n",
       "      ░ ┌─┴─┐┌─┐\n",
       "q_2: ─░─┤ X ├┤M├\n",
       "      ░ └───┘└╥┘\n",
       "c: 1/═════════╩═\n",
       "              0 </pre>"
      ],
      "text/plain": [
       "      ░         \n",
       "q_0: ─░───■─────\n",
       "      ░   │     \n",
       "q_1: ─░───■─────\n",
       "      ░ ┌─┴─┐┌─┐\n",
       "q_2: ─░─┤ X ├┤M├\n",
       "      ░ └───┘└╥┘\n",
       "c: 1/═════════╩═\n",
       "              0 "
      ]
     },
     "metadata": {},
     "output_type": "display_data"
    },
    {
     "name": "stdout",
     "output_type": "stream",
     "text": [
      "/n\n",
      "And gate input is 0 1 output is  0\n"
     ]
    },
    {
     "data": {
      "text/html": [
       "<pre style=\"word-wrap: normal;white-space: pre;background: #fff0;line-height: 1.1;font-family: &quot;Courier New&quot;,Courier,monospace\">           ░         \n",
       "q_0: ──────░───■─────\n",
       "     ┌───┐ ░   │     \n",
       "q_1: ┤ X ├─░───■─────\n",
       "     └───┘ ░ ┌─┴─┐┌─┐\n",
       "q_2: ──────░─┤ X ├┤M├\n",
       "           ░ └───┘└╥┘\n",
       "c: 1/══════════════╩═\n",
       "                   0 </pre>"
      ],
      "text/plain": [
       "           ░         \n",
       "q_0: ──────░───■─────\n",
       "     ┌───┐ ░   │     \n",
       "q_1: ┤ X ├─░───■─────\n",
       "     └───┘ ░ ┌─┴─┐┌─┐\n",
       "q_2: ──────░─┤ X ├┤M├\n",
       "           ░ └───┘└╥┘\n",
       "c: 1/══════════════╩═\n",
       "                   0 "
      ]
     },
     "metadata": {},
     "output_type": "display_data"
    },
    {
     "name": "stdout",
     "output_type": "stream",
     "text": [
      "/n\n",
      "And gate input is 1 0 output is  0\n"
     ]
    },
    {
     "data": {
      "text/html": [
       "<pre style=\"word-wrap: normal;white-space: pre;background: #fff0;line-height: 1.1;font-family: &quot;Courier New&quot;,Courier,monospace\">     ┌───┐ ░         \n",
       "q_0: ┤ X ├─░───■─────\n",
       "     └───┘ ░   │     \n",
       "q_1: ──────░───■─────\n",
       "           ░ ┌─┴─┐┌─┐\n",
       "q_2: ──────░─┤ X ├┤M├\n",
       "           ░ └───┘└╥┘\n",
       "c: 1/══════════════╩═\n",
       "                   0 </pre>"
      ],
      "text/plain": [
       "     ┌───┐ ░         \n",
       "q_0: ┤ X ├─░───■─────\n",
       "     └───┘ ░   │     \n",
       "q_1: ──────░───■─────\n",
       "           ░ ┌─┴─┐┌─┐\n",
       "q_2: ──────░─┤ X ├┤M├\n",
       "           ░ └───┘└╥┘\n",
       "c: 1/══════════════╩═\n",
       "                   0 "
      ]
     },
     "metadata": {},
     "output_type": "display_data"
    },
    {
     "name": "stdout",
     "output_type": "stream",
     "text": [
      "/n\n",
      "And gate input is 1 1 output is  1\n"
     ]
    },
    {
     "data": {
      "text/html": [
       "<pre style=\"word-wrap: normal;white-space: pre;background: #fff0;line-height: 1.1;font-family: &quot;Courier New&quot;,Courier,monospace\">     ┌───┐ ░         \n",
       "q_0: ┤ X ├─░───■─────\n",
       "     ├───┤ ░   │     \n",
       "q_1: ┤ X ├─░───■─────\n",
       "     └───┘ ░ ┌─┴─┐┌─┐\n",
       "q_2: ──────░─┤ X ├┤M├\n",
       "           ░ └───┘└╥┘\n",
       "c: 1/══════════════╩═\n",
       "                   0 </pre>"
      ],
      "text/plain": [
       "     ┌───┐ ░         \n",
       "q_0: ┤ X ├─░───■─────\n",
       "     ├───┤ ░   │     \n",
       "q_1: ┤ X ├─░───■─────\n",
       "     └───┘ ░ ┌─┴─┐┌─┐\n",
       "q_2: ──────░─┤ X ├┤M├\n",
       "           ░ └───┘└╥┘\n",
       "c: 1/══════════════╩═\n",
       "                   0 "
      ]
     },
     "metadata": {},
     "output_type": "display_data"
    },
    {
     "name": "stdout",
     "output_type": "stream",
     "text": [
      "/n\n"
     ]
    }
   ],
   "source": [
    "for inp1 in ['0', '1']:\n",
    "    for inp2 in ['0','1']:\n",
    "            qc, out = And(inp1, inp2)\n",
    "            print('And gate input is', inp1, inp2, 'output is ', out)\n",
    "            display(qc.draw())\n",
    "            print('/n')"
   ]
  },
  {
   "cell_type": "code",
   "execution_count": null,
   "metadata": {},
   "outputs": [],
   "source": []
  },
  {
   "cell_type": "code",
   "execution_count": 44,
   "metadata": {},
   "outputs": [],
   "source": [
    "def AND(inp1, inp2, backend):\n",
    "    \n",
    "    qc = QuantumCircuit(3, 1) \n",
    "    qc.reset(range(3))\n",
    "    \n",
    "    if inp1=='1':\n",
    "        qc.x(0)\n",
    "    if inp2=='1':\n",
    "        qc.x(1)\n",
    "        \n",
    "    qc.barrier()\n",
    "    qc.ccx(0, 1, 2) \n",
    "    qc.barrier()\n",
    "    qc.measure(2, 0) \n",
    "  \n",
    "    qc_trans = transpile(qc, backend, optimization_level=3)\n",
    "    job = execute(qc_trans, backend, shots=8192)\n",
    "    print(job.job_id())\n",
    "    job_monitor(job)\n",
    "    \n",
    "    output = job.result().get_counts()\n",
    "    \n",
    "    return qc_trans, output"
   ]
  },
  {
   "cell_type": "code",
   "execution_count": 45,
   "metadata": {},
   "outputs": [],
   "source": [
    "backend1 = Aer.get_backend('qasm_simulator')\n",
    "from qiskit.tools.monitor import job_monitor"
   ]
  },
  {
   "cell_type": "code",
   "execution_count": 46,
   "metadata": {},
   "outputs": [
    {
     "name": "stdout",
     "output_type": "stream",
     "text": [
      "de0c9c2e-9631-46f5-bba6-fc83854d6c14\n",
      "Job Status: job has successfully run\n",
      "\n",
      "Probability of correct answer for inputs 0 0\n",
      "1.00\n",
      "---------------------------------\n",
      "577f402b-0125-4cc7-ad80-3efb38ff3e07\n",
      "Job Status: job has successfully run\n",
      "\n",
      "Probability of correct answer for inputs 0 1\n",
      "1.00\n",
      "---------------------------------\n",
      "81e7d810-ebda-41e4-b201-20a3c604b959\n",
      "Job Status: job has successfully run\n",
      "\n",
      "Probability of correct answer for inputs 1 0\n",
      "1.00\n",
      "---------------------------------\n",
      "7b29de71-8d81-4677-8de6-b326ff97bcaa\n",
      "Job Status: job has successfully run\n",
      "\n",
      "Probability of correct answer for inputs 1 1\n",
      "1.00\n",
      "---------------------------------\n",
      "\n",
      "\n",
      "The highest of these probabilities was 1.00\n",
      "The lowest of these probabilities was 1.00\n"
     ]
    }
   ],
   "source": [
    "output1_all = []\n",
    "qc_trans1_all = []\n",
    "prob1_all = []\n",
    "\n",
    "worst = 1\n",
    "best = 0\n",
    "for input1 in ['0','1']:\n",
    "    for input2 in ['0','1']:\n",
    "        qc_trans1, output1 = AND(input1, input2, backend1)\n",
    "        \n",
    "        output1_all.append(output1)\n",
    "        qc_trans1_all.append(qc_trans1)\n",
    "        \n",
    "        prob = output1[str(int( input1=='1' and input2=='1' ))]/8192\n",
    "        prob1_all.append(prob)\n",
    "        \n",
    "        print('\\nProbability of correct answer for inputs',input1,input2)\n",
    "        print( '{:.2f}'.format(prob) )\n",
    "        print('---------------------------------')\n",
    "        \n",
    "        worst = min(worst,prob)\n",
    "        best = max(best, prob)\n",
    "        \n",
    "print('')\n",
    "print('\\nThe highest of these probabilities was {:.2f}'.format(best))\n",
    "print('The lowest of these probabilities was {:.2f}'.format(worst))"
   ]
  },
  {
   "cell_type": "code",
   "execution_count": null,
   "metadata": {},
   "outputs": [],
   "source": []
  }
 ],
 "metadata": {
  "kernelspec": {
   "display_name": "Python 3",
   "language": "python",
   "name": "python3"
  },
  "language_info": {
   "codemirror_mode": {
    "name": "ipython",
    "version": 3
   },
   "file_extension": ".py",
   "mimetype": "text/x-python",
   "name": "python",
   "nbconvert_exporter": "python",
   "pygments_lexer": "ipython3",
   "version": "3.8.5"
  }
 },
 "nbformat": 4,
 "nbformat_minor": 4
}
