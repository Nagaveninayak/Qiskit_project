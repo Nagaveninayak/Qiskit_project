{
 "cells": [
  {
   "cell_type": "code",
   "execution_count": 2,
   "metadata": {},
   "outputs": [],
   "source": [
    "from qiskit import *\n",
    "from math import pi\n",
    "theta = pi"
   ]
  },
  {
   "cell_type": "code",
   "execution_count": 9,
   "metadata": {},
   "outputs": [],
   "source": [
    "def zplg(i1, i2, i3, i4, i5):\n",
    "    qc = QuantumCircuit(5,5)\n",
    "    \n",
    "    if i1 == '1':\n",
    "        qc.x(0)\n",
    "    if i2 == '1':\n",
    "        qc.x(1)\n",
    "    if i3 == '1':\n",
    "        qc.x(2) \n",
    "    if i4 == '1':\n",
    "        qc.x(3)\n",
    "    if i5 == '1':\n",
    "        qc.x(4)\n",
    "    \n",
    "    qc.barrier()\n",
    "    qc.cx(1, 4)\n",
    "    qc.cx(3, 0)\n",
    "    \n",
    "    qc.cp(theta, 0, 3)\n",
    "    qc.cp(theta, 1, 3)\n",
    "    qc.cx(0, 1)\n",
    "    qc.cp(theta, 2, 3)\n",
    "    qc.cx(1, 2)\n",
    "    qc.cu1(-theta/2, 2, 3)\n",
    "    qc.cx(3, 4)\n",
    "    \n",
    "    qc.measure(0, 4)\n",
    "    qc.measure(1, 3)\n",
    "    qc.measure(2, 2)\n",
    "    qc.measure(3, 1)\n",
    "    qc.measure(4, 0)\n",
    "    \n",
    "    backend = Aer.get_backend('qasm_simulator')\n",
    "    job = execute(qc, backend, shots = 1, memory = True)\n",
    "    output = job.result().get_memory()[0]\n",
    "    \n",
    "    return qc, output"
   ]
  },
  {
   "cell_type": "code",
   "execution_count": 10,
   "metadata": {},
   "outputs": [
    {
     "name": "stdout",
     "output_type": "stream",
     "text": [
      "input is  0 0 0 0 0 output is  00000\n",
      "input is  0 0 0 0 1 output is  00001\n",
      "input is  0 0 0 1 0 output is  11111\n",
      "input is  0 0 0 1 1 output is  11110\n",
      "-------------------------------------\n",
      "input is  0 0 1 0 0 output is  00100\n",
      "input is  0 0 1 0 1 output is  00101\n",
      "input is  0 0 1 1 0 output is  11011\n",
      "input is  0 0 1 1 1 output is  11010\n",
      "-------------------------------------\n",
      "input is  0 1 0 0 0 output is  01101\n",
      "input is  0 1 0 0 1 output is  01100\n",
      "input is  0 1 0 1 0 output is  10010\n",
      "input is  0 1 0 1 1 output is  10011\n",
      "-------------------------------------\n",
      "input is  0 1 1 0 0 output is  01001\n",
      "input is  0 1 1 0 1 output is  01000\n",
      "input is  0 1 1 1 0 output is  10110\n",
      "input is  0 1 1 1 1 output is  10111\n",
      "-------------------------------------\n",
      "input is  1 0 0 0 0 output is  11100\n",
      "input is  1 0 0 0 1 output is  11101\n",
      "input is  1 0 0 1 0 output is  00011\n",
      "input is  1 0 0 1 1 output is  00010\n",
      "-------------------------------------\n",
      "input is  1 0 1 0 0 output is  11000\n",
      "input is  1 0 1 0 1 output is  11001\n",
      "input is  1 0 1 1 0 output is  00111\n",
      "input is  1 0 1 1 1 output is  00110\n",
      "-------------------------------------\n",
      "input is  1 1 0 0 0 output is  10001\n",
      "input is  1 1 0 0 1 output is  10000\n",
      "input is  1 1 0 1 0 output is  01110\n",
      "input is  1 1 0 1 1 output is  01111\n",
      "-------------------------------------\n",
      "input is  1 1 1 0 0 output is  10101\n",
      "input is  1 1 1 0 1 output is  10100\n",
      "input is  1 1 1 1 0 output is  01010\n",
      "input is  1 1 1 1 1 output is  01011\n",
      "-------------------------------------\n"
     ]
    },
    {
     "data": {
      "image/png": "[encoded data removed]",
      "text/plain": [
       "<Figure size 1049.8x385.28 with 1 Axes>"
      ]
     },
     "execution_count": 10,
     "metadata": {},
     "output_type": "execute_result"
    }
   ],
   "source": [
    "for i1 in ['0', '1']:\n",
    "    for i2 in ['0', '1']:\n",
    "        for i3 in ['0', '1']:\n",
    "            for i4 in ['0', '1']:\n",
    "                for i5 in ['0', '1']:\n",
    "                    qc, output = zplg(i1, i2, i3, i4, i5)\n",
    "                    print(\"input is \", i1, i2, i3, i4, i5, \"output is \", output )\n",
    "            print(\"-------------------------------------\")\n",
    "qc.draw('mpl')"
   ]
  },
  {
   "cell_type": "code",
   "execution_count": null,
   "metadata": {},
   "outputs": [],
   "source": []
  }
 ],
 "metadata": {
  "kernelspec": {
   "display_name": "Python 3",
   "language": "python",
   "name": "python3"
  },
  "language_info": {
   "codemirror_mode": {
    "name": "ipython",
    "version": 3
   },
   "file_extension": ".py",
   "mimetype": "text/x-python",
   "name": "python",
   "nbconvert_exporter": "python",
   "pygments_lexer": "ipython3",
   "version": "3.8.5"
  }
 },
 "nbformat": 4,
 "nbformat_minor": 4
}
