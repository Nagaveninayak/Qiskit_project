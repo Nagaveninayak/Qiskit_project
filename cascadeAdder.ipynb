{
 "cells": [
  {
   "cell_type": "code",
   "execution_count": 1,
   "metadata": {},
   "outputs": [],
   "source": [
    "from qiskit import *"
   ]
  },
  {
   "cell_type": "code",
   "execution_count": 74,
   "metadata": {},
   "outputs": [
    {
     "name": "stdout",
     "output_type": "stream",
     "text": [
      "               \n",
      "q_0: ──■────■──\n",
      "       │  ┌─┴─┐\n",
      "q_1: ──■──┤ X ├\n",
      "     ┌─┴─┐└───┘\n",
      "q_2: ┤ X ├─────\n",
      "     └───┘     \n"
     ]
    },
    {
     "data": {
      "text/html": [
       "<pre style=\"word-wrap: normal;white-space: pre;background: #fff0;line-height: 1.1;font-family: &quot;Courier New&quot;,Courier,monospace\">     ┌─────────────┐\n",
       "q_0: ┤0            ├\n",
       "     │             │\n",
       "q_1: ┤1 circuit574 ├\n",
       "     │             │\n",
       "q_2: ┤2            ├\n",
       "     └─────────────┘</pre>"
      ],
      "text/plain": [
       "     ┌─────────────┐\n",
       "q_0: ┤0            ├\n",
       "     │             │\n",
       "q_1: ┤1 circuit574 ├\n",
       "     │             │\n",
       "q_2: ┤2            ├\n",
       "     └─────────────┘"
      ]
     },
     "execution_count": 74,
     "metadata": {},
     "output_type": "execute_result"
    }
   ],
   "source": [
    "halfAdder = QuantumCircuit(3)\n",
    "halfAdder.ccx(0, 1, 2)\n",
    "halfAdder.cx(0, 1)\n",
    "adder_gate = halfAdder.to_gate()\n",
    "my_adder = QuantumCircuit(3)\n",
    "my_adder.append(adder_gate, [0, 1, 2])\n",
    "print(my_adder.decompose().draw())\n",
    "or_gate1 = QuantumCircuit(3)\n",
    "or_gate1.x(1)\n",
    "or_gate1.cswap(0,1,2)\n",
    "or_gate1.x(1)\n",
    "or_gate = QuantumCircuit(3)\n",
    "or_gate.append(or_gate1, [0, 1, 2])\n",
    "or_gate.draw()"
   ]
  },
  {
   "cell_type": "code",
   "execution_count": 96,
   "metadata": {},
   "outputs": [],
   "source": [
    "def fullAdder(i1, i2, i3):\n",
    "    qc = QuantumCircuit(6, 2)\n",
    "    if(i1 == '1'):\n",
    "        qc.x(0)\n",
    "    if(i2 == '1'):\n",
    "        qc.x(1)\n",
    "    if(i3 == '1'):\n",
    "        qc.x(2)\n",
    "    qc.barrier()\n",
    "    \n",
    "    qc.append(adder_gate, [1, 2, 3])\n",
    "    qc.append(adder_gate, [0, 1, 2])\n",
    "    \n",
    "    qc.measure(1, 0)\n",
    "    \n",
    "    \n",
    "    \n",
    "    backend = Aer.get_backend('qasm_simulator')\n",
    "    job = execute(qc, backend, memory= True)\n",
    "    output = job.result().get_memory()[0]\n",
    "    \n",
    "    return qc, output"
   ]
  },
  {
   "cell_type": "code",
   "execution_count": 97,
   "metadata": {},
   "outputs": [
    {
     "name": "stdout",
     "output_type": "stream",
     "text": [
      "0 0 0 = 00\n",
      "0 0 1 = 00\n",
      "0 1 0 = 01\n",
      "0 1 1 = 01\n",
      "1 0 0 = 01\n",
      "1 0 1 = 01\n",
      "1 1 0 = 00\n",
      "1 1 1 = 00\n"
     ]
    },
    {
     "data": {
      "text/html": [
       "<pre style=\"word-wrap: normal;white-space: pre;background: #fff0;line-height: 1.1;font-family: &quot;Courier New&quot;,Courier,monospace\">     ┌───────────┐ ░                        \n",
       "q_0: ┤ U3(π,0,π) ├─░─────────────■────■─────\n",
       "     ├───────────┤ ░             │  ┌─┴─┐┌─┐\n",
       "q_1: ┤ U3(π,0,π) ├─░───■────■────■──┤ X ├┤M├\n",
       "     ├───────────┤ ░   │  ┌─┴─┐┌─┴─┐└───┘└╥┘\n",
       "q_2: ┤ U3(π,0,π) ├─░───■──┤ X ├┤ X ├──────╫─\n",
       "     └───────────┘ ░ ┌─┴─┐└───┘└───┘      ║ \n",
       "q_3: ──────────────░─┤ X ├────────────────╫─\n",
       "                   ░ └───┘                ║ \n",
       "q_4: ──────────────░──────────────────────╫─\n",
       "                   ░                      ║ \n",
       "q_5: ──────────────░──────────────────────╫─\n",
       "                   ░                      ║ \n",
       "c: 2/═════════════════════════════════════╩═\n",
       "                                          0 </pre>"
      ],
      "text/plain": [
       "     ┌───────────┐ ░                        \n",
       "q_0: ┤ U3(π,0,π) ├─░─────────────■────■─────\n",
       "     ├───────────┤ ░             │  ┌─┴─┐┌─┐\n",
       "q_1: ┤ U3(π,0,π) ├─░───■────■────■──┤ X ├┤M├\n",
       "     ├───────────┤ ░   │  ┌─┴─┐┌─┴─┐└───┘└╥┘\n",
       "q_2: ┤ U3(π,0,π) ├─░───■──┤ X ├┤ X ├──────╫─\n",
       "     └───────────┘ ░ ┌─┴─┐└───┘└───┘      ║ \n",
       "q_3: ──────────────░─┤ X ├────────────────╫─\n",
       "                   ░ └───┘                ║ \n",
       "q_4: ──────────────░──────────────────────╫─\n",
       "                   ░                      ║ \n",
       "q_5: ──────────────░──────────────────────╫─\n",
       "                   ░                      ║ \n",
       "c: 2/═════════════════════════════════════╩═\n",
       "                                          0 "
      ]
     },
     "metadata": {},
     "output_type": "display_data"
    }
   ],
   "source": [
    "for i1 in ['0', '1']:\n",
    "    for i2 in ['0', '1']:\n",
    "        for i3 in ['0', '1']:\n",
    "            qc, output = fullAdder(i1, i2, i3)\n",
    "            print('{} {} {}'.format(i1, i2, i3), '=', output)\n",
    "display(qc.decompose().draw())"
   ]
  },
  {
   "cell_type": "code",
   "execution_count": 65,
   "metadata": {},
   "outputs": [
    {
     "ename": "CircuitError",
     "evalue": "'Index out of range.'",
     "output_type": "error",
     "traceback": [
      "\u001b[1;31m---------------------------------------------------------------------------\u001b[0m",
      "\u001b[1;31mIndexError\u001b[0m                                Traceback (most recent call last)",
      "\u001b[1;32m~\\anaconda\\lib\\site-packages\\qiskit\\circuit\\quantumcircuit.py\u001b[0m in \u001b[0;36m_bit_argument_conversion\u001b[1;34m(bit_representation, in_array)\u001b[0m\n\u001b[0;32m    751\u001b[0m                 \u001b[1;31m# circuit.h(0) -> circuit.h([qr[0]])\u001b[0m\u001b[1;33m\u001b[0m\u001b[1;33m\u001b[0m\u001b[1;33m\u001b[0m\u001b[0m\n\u001b[1;32m--> 752\u001b[1;33m                 \u001b[0mret\u001b[0m \u001b[1;33m=\u001b[0m \u001b[1;33m[\u001b[0m\u001b[0min_array\u001b[0m\u001b[1;33m[\u001b[0m\u001b[0mbit_representation\u001b[0m\u001b[1;33m]\u001b[0m\u001b[1;33m]\u001b[0m\u001b[1;33m\u001b[0m\u001b[1;33m\u001b[0m\u001b[0m\n\u001b[0m\u001b[0;32m    753\u001b[0m             \u001b[1;32melif\u001b[0m \u001b[0misinstance\u001b[0m\u001b[1;33m(\u001b[0m\u001b[0mbit_representation\u001b[0m\u001b[1;33m,\u001b[0m \u001b[0mslice\u001b[0m\u001b[1;33m)\u001b[0m\u001b[1;33m:\u001b[0m\u001b[1;33m\u001b[0m\u001b[1;33m\u001b[0m\u001b[0m\n",
      "\u001b[1;31mIndexError\u001b[0m: list index out of range",
      "\nDuring handling of the above exception, another exception occurred:\n",
      "\u001b[1;31mCircuitError\u001b[0m                              Traceback (most recent call last)",
      "\u001b[1;32m<ipython-input-65-7441354d69a3>\u001b[0m in \u001b[0;36m<module>\u001b[1;34m\u001b[0m\n\u001b[0;32m      1\u001b[0m \u001b[0mhalfAdder\u001b[0m \u001b[1;33m=\u001b[0m \u001b[0mQuantumCircuit\u001b[0m\u001b[1;33m(\u001b[0m\u001b[1;36m2\u001b[0m\u001b[1;33m)\u001b[0m\u001b[1;33m\u001b[0m\u001b[1;33m\u001b[0m\u001b[0m\n\u001b[1;32m----> 2\u001b[1;33m \u001b[0mhalfAdder\u001b[0m\u001b[1;33m.\u001b[0m\u001b[0mccx\u001b[0m\u001b[1;33m(\u001b[0m\u001b[1;36m0\u001b[0m\u001b[1;33m,\u001b[0m \u001b[1;36m1\u001b[0m\u001b[1;33m,\u001b[0m \u001b[1;36m2\u001b[0m\u001b[1;33m)\u001b[0m\u001b[1;33m\u001b[0m\u001b[1;33m\u001b[0m\u001b[0m\n\u001b[0m\u001b[0;32m      3\u001b[0m \u001b[0mhalfAdder\u001b[0m\u001b[1;33m.\u001b[0m\u001b[0mcx\u001b[0m\u001b[1;33m(\u001b[0m\u001b[1;36m0\u001b[0m\u001b[1;33m,\u001b[0m \u001b[1;36m1\u001b[0m\u001b[1;33m)\u001b[0m\u001b[1;33m\u001b[0m\u001b[1;33m\u001b[0m\u001b[0m\n\u001b[0;32m      4\u001b[0m \u001b[0mhalfAdder\u001b[0m\u001b[1;33m.\u001b[0m\u001b[0mdraw\u001b[0m\u001b[1;33m(\u001b[0m\u001b[1;33m)\u001b[0m\u001b[1;33m\u001b[0m\u001b[1;33m\u001b[0m\u001b[0m\n",
      "\u001b[1;32m~\\anaconda\\lib\\site-packages\\qiskit\\circuit\\quantumcircuit.py\u001b[0m in \u001b[0;36mccx\u001b[1;34m(self, control_qubit1, control_qubit2, target_qubit)\u001b[0m\n\u001b[0;32m   2317\u001b[0m         \u001b[1;34m\"\"\"Apply :class:`~qiskit.circuit.library.CCXGate`.\"\"\"\u001b[0m\u001b[1;33m\u001b[0m\u001b[1;33m\u001b[0m\u001b[0m\n\u001b[0;32m   2318\u001b[0m         \u001b[1;32mfrom\u001b[0m \u001b[1;33m.\u001b[0m\u001b[0mlibrary\u001b[0m\u001b[1;33m.\u001b[0m\u001b[0mstandard_gates\u001b[0m\u001b[1;33m.\u001b[0m\u001b[0mx\u001b[0m \u001b[1;32mimport\u001b[0m \u001b[0mCCXGate\u001b[0m\u001b[1;33m\u001b[0m\u001b[1;33m\u001b[0m\u001b[0m\n\u001b[1;32m-> 2319\u001b[1;33m         return self.append(CCXGate(),\n\u001b[0m\u001b[0;32m   2320\u001b[0m                            [control_qubit1, control_qubit2, target_qubit], [])\n\u001b[0;32m   2321\u001b[0m \u001b[1;33m\u001b[0m\u001b[0m\n",
      "\u001b[1;32m~\\anaconda\\lib\\site-packages\\qiskit\\circuit\\quantumcircuit.py\u001b[0m in \u001b[0;36mappend\u001b[1;34m(self, instruction, qargs, cargs)\u001b[0m\n\u001b[0;32m    833\u001b[0m                 \u001b[0minstruction\u001b[0m \u001b[1;33m=\u001b[0m \u001b[0mcopy\u001b[0m\u001b[1;33m.\u001b[0m\u001b[0mdeepcopy\u001b[0m\u001b[1;33m(\u001b[0m\u001b[0minstruction\u001b[0m\u001b[1;33m)\u001b[0m\u001b[1;33m\u001b[0m\u001b[1;33m\u001b[0m\u001b[0m\n\u001b[0;32m    834\u001b[0m \u001b[1;33m\u001b[0m\u001b[0m\n\u001b[1;32m--> 835\u001b[1;33m         \u001b[0mexpanded_qargs\u001b[0m \u001b[1;33m=\u001b[0m \u001b[1;33m[\u001b[0m\u001b[0mself\u001b[0m\u001b[1;33m.\u001b[0m\u001b[0mqbit_argument_conversion\u001b[0m\u001b[1;33m(\u001b[0m\u001b[0mqarg\u001b[0m\u001b[1;33m)\u001b[0m \u001b[1;32mfor\u001b[0m \u001b[0mqarg\u001b[0m \u001b[1;32min\u001b[0m \u001b[0mqargs\u001b[0m \u001b[1;32mor\u001b[0m \u001b[1;33m[\u001b[0m\u001b[1;33m]\u001b[0m\u001b[1;33m]\u001b[0m\u001b[1;33m\u001b[0m\u001b[1;33m\u001b[0m\u001b[0m\n\u001b[0m\u001b[0;32m    836\u001b[0m         \u001b[0mexpanded_cargs\u001b[0m \u001b[1;33m=\u001b[0m \u001b[1;33m[\u001b[0m\u001b[0mself\u001b[0m\u001b[1;33m.\u001b[0m\u001b[0mcbit_argument_conversion\u001b[0m\u001b[1;33m(\u001b[0m\u001b[0mcarg\u001b[0m\u001b[1;33m)\u001b[0m \u001b[1;32mfor\u001b[0m \u001b[0mcarg\u001b[0m \u001b[1;32min\u001b[0m \u001b[0mcargs\u001b[0m \u001b[1;32mor\u001b[0m \u001b[1;33m[\u001b[0m\u001b[1;33m]\u001b[0m\u001b[1;33m]\u001b[0m\u001b[1;33m\u001b[0m\u001b[1;33m\u001b[0m\u001b[0m\n\u001b[0;32m    837\u001b[0m \u001b[1;33m\u001b[0m\u001b[0m\n",
      "\u001b[1;32m~\\anaconda\\lib\\site-packages\\qiskit\\circuit\\quantumcircuit.py\u001b[0m in \u001b[0;36m<listcomp>\u001b[1;34m(.0)\u001b[0m\n\u001b[0;32m    833\u001b[0m                 \u001b[0minstruction\u001b[0m \u001b[1;33m=\u001b[0m \u001b[0mcopy\u001b[0m\u001b[1;33m.\u001b[0m\u001b[0mdeepcopy\u001b[0m\u001b[1;33m(\u001b[0m\u001b[0minstruction\u001b[0m\u001b[1;33m)\u001b[0m\u001b[1;33m\u001b[0m\u001b[1;33m\u001b[0m\u001b[0m\n\u001b[0;32m    834\u001b[0m \u001b[1;33m\u001b[0m\u001b[0m\n\u001b[1;32m--> 835\u001b[1;33m         \u001b[0mexpanded_qargs\u001b[0m \u001b[1;33m=\u001b[0m \u001b[1;33m[\u001b[0m\u001b[0mself\u001b[0m\u001b[1;33m.\u001b[0m\u001b[0mqbit_argument_conversion\u001b[0m\u001b[1;33m(\u001b[0m\u001b[0mqarg\u001b[0m\u001b[1;33m)\u001b[0m \u001b[1;32mfor\u001b[0m \u001b[0mqarg\u001b[0m \u001b[1;32min\u001b[0m \u001b[0mqargs\u001b[0m \u001b[1;32mor\u001b[0m \u001b[1;33m[\u001b[0m\u001b[1;33m]\u001b[0m\u001b[1;33m]\u001b[0m\u001b[1;33m\u001b[0m\u001b[1;33m\u001b[0m\u001b[0m\n\u001b[0m\u001b[0;32m    836\u001b[0m         \u001b[0mexpanded_cargs\u001b[0m \u001b[1;33m=\u001b[0m \u001b[1;33m[\u001b[0m\u001b[0mself\u001b[0m\u001b[1;33m.\u001b[0m\u001b[0mcbit_argument_conversion\u001b[0m\u001b[1;33m(\u001b[0m\u001b[0mcarg\u001b[0m\u001b[1;33m)\u001b[0m \u001b[1;32mfor\u001b[0m \u001b[0mcarg\u001b[0m \u001b[1;32min\u001b[0m \u001b[0mcargs\u001b[0m \u001b[1;32mor\u001b[0m \u001b[1;33m[\u001b[0m\u001b[1;33m]\u001b[0m\u001b[1;33m]\u001b[0m\u001b[1;33m\u001b[0m\u001b[1;33m\u001b[0m\u001b[0m\n\u001b[0;32m    837\u001b[0m \u001b[1;33m\u001b[0m\u001b[0m\n",
      "\u001b[1;32m~\\anaconda\\lib\\site-packages\\qiskit\\circuit\\quantumcircuit.py\u001b[0m in \u001b[0;36mqbit_argument_conversion\u001b[1;34m(self, qubit_representation)\u001b[0m\n\u001b[0;32m    785\u001b[0m             \u001b[0mList\u001b[0m\u001b[1;33m(\u001b[0m\u001b[0mtuple\u001b[0m\u001b[1;33m)\u001b[0m\u001b[1;33m:\u001b[0m \u001b[0mWhere\u001b[0m \u001b[0meach\u001b[0m \u001b[0mtuple\u001b[0m \u001b[1;32mis\u001b[0m \u001b[0ma\u001b[0m \u001b[0mqubit\u001b[0m\u001b[1;33m.\u001b[0m\u001b[1;33m\u001b[0m\u001b[1;33m\u001b[0m\u001b[0m\n\u001b[0;32m    786\u001b[0m         \"\"\"\n\u001b[1;32m--> 787\u001b[1;33m         \u001b[1;32mreturn\u001b[0m \u001b[0mQuantumCircuit\u001b[0m\u001b[1;33m.\u001b[0m\u001b[0m_bit_argument_conversion\u001b[0m\u001b[1;33m(\u001b[0m\u001b[0mqubit_representation\u001b[0m\u001b[1;33m,\u001b[0m \u001b[0mself\u001b[0m\u001b[1;33m.\u001b[0m\u001b[0mqubits\u001b[0m\u001b[1;33m)\u001b[0m\u001b[1;33m\u001b[0m\u001b[1;33m\u001b[0m\u001b[0m\n\u001b[0m\u001b[0;32m    788\u001b[0m \u001b[1;33m\u001b[0m\u001b[0m\n\u001b[0;32m    789\u001b[0m     \u001b[1;32mdef\u001b[0m \u001b[0mcbit_argument_conversion\u001b[0m\u001b[1;33m(\u001b[0m\u001b[0mself\u001b[0m\u001b[1;33m,\u001b[0m \u001b[0mclbit_representation\u001b[0m\u001b[1;33m)\u001b[0m\u001b[1;33m:\u001b[0m\u001b[1;33m\u001b[0m\u001b[1;33m\u001b[0m\u001b[0m\n",
      "\u001b[1;32m~\\anaconda\\lib\\site-packages\\qiskit\\circuit\\quantumcircuit.py\u001b[0m in \u001b[0;36m_bit_argument_conversion\u001b[1;34m(bit_representation, in_array)\u001b[0m\n\u001b[0;32m    768\u001b[0m                                                                      type(bit_representation)))\n\u001b[0;32m    769\u001b[0m         \u001b[1;32mexcept\u001b[0m \u001b[0mIndexError\u001b[0m\u001b[1;33m:\u001b[0m\u001b[1;33m\u001b[0m\u001b[1;33m\u001b[0m\u001b[0m\n\u001b[1;32m--> 770\u001b[1;33m             \u001b[1;32mraise\u001b[0m \u001b[0mCircuitError\u001b[0m\u001b[1;33m(\u001b[0m\u001b[1;34m'Index out of range.'\u001b[0m\u001b[1;33m)\u001b[0m\u001b[1;33m\u001b[0m\u001b[1;33m\u001b[0m\u001b[0m\n\u001b[0m\u001b[0;32m    771\u001b[0m         \u001b[1;32mexcept\u001b[0m \u001b[0mTypeError\u001b[0m\u001b[1;33m:\u001b[0m\u001b[1;33m\u001b[0m\u001b[1;33m\u001b[0m\u001b[0m\n\u001b[0;32m    772\u001b[0m             raise CircuitError('Type error handling %s (%s)' % (bit_representation,\n",
      "\u001b[1;31mCircuitError\u001b[0m: 'Index out of range.'"
     ]
    }
   ],
   "source": [
    "halfAdder = QuantumCircuit(2)\n",
    "halfAdder.ccx(0, 1, 2)\n",
    "halfAdder.cx(0, 1)\n",
    "halfAdder.draw()"
   ]
  },
  {
   "cell_type": "code",
   "execution_count": null,
   "metadata": {},
   "outputs": [],
   "source": []
  }
 ],
 "metadata": {
  "kernelspec": {
   "display_name": "Python 3",
   "language": "python",
   "name": "python3"
  },
  "language_info": {
   "codemirror_mode": {
    "name": "ipython",
    "version": 3
   },
   "file_extension": ".py",
   "mimetype": "text/x-python",
   "name": "python",
   "nbconvert_exporter": "python",
   "pygments_lexer": "ipython3",
   "version": "3.8.5"
  }
 },
 "nbformat": 4,
 "nbformat_minor": 4
}
