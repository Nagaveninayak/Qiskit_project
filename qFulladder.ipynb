{
 "cells": [
  {
   "cell_type": "code",
   "execution_count": 1,
   "metadata": {},
   "outputs": [],
   "source": [
    "from qiskit import *"
   ]
  },
  {
   "cell_type": "code",
   "execution_count": 14,
   "metadata": {},
   "outputs": [],
   "source": [
    "def fullAdder(inp1, inp2, inp3):\n",
    "    qc = QuantumCircuit(5, 2)\n",
    "    if(inp1 == '1'):\n",
    "        qc.x(0)\n",
    "    if(inp2 == '1'):\n",
    "        qc.x(1)\n",
    "    if(inp3 == '1'):\n",
    "        qc.x(2)\n",
    "    qc.barrier()\n",
    "    \n",
    "    qc.cx(0, 3)\n",
    "    qc.cx(1, 3)\n",
    "    qc.cx(2, 3)\n",
    "    qc.barrier()\n",
    "    qc.ccx(0, 1, 4)\n",
    "    qc.ccx(0, 2, 4)\n",
    "    qc.ccx(1, 2, 4)\n",
    "    qc.barrier()\n",
    "    qc.measure(3, 0)\n",
    "    qc.measure(4, 1)\n",
    "    qc.draw()\n",
    "    \n",
    "    backend = Aer.get_backend('qasm_simulator')\n",
    "    job = execute(qc, backend, memory= True)\n",
    "    output = job.result().get_memory()[0]\n",
    "    \n",
    "    return qc, output"
   ]
  },
  {
   "cell_type": "code",
   "execution_count": 18,
   "metadata": {},
   "outputs": [
    {
     "name": "stdout",
     "output_type": "stream",
     "text": [
      "0 0 0 = 00\n",
      "0 0 1 = 01\n",
      "0 1 0 = 01\n",
      "0 1 1 = 10\n",
      "1 0 0 = 01\n",
      "1 0 1 = 10\n",
      "1 1 0 = 10\n",
      "1 1 1 = 11\n"
     ]
    },
    {
     "data": {
      "text/html": [
       "<pre style=\"word-wrap: normal;white-space: pre;background: #fff0;line-height: 1.1;font-family: &quot;Courier New&quot;,Courier,monospace\">     ┌───┐ ░                 ░                 ░       \n",
       "q_0: ┤ X ├─░───■─────────────░───■────■────────░───────\n",
       "     ├───┤ ░   │             ░   │    │        ░       \n",
       "q_1: ┤ X ├─░───┼────■────────░───■────┼────■───░───────\n",
       "     ├───┤ ░   │    │        ░   │    │    │   ░       \n",
       "q_2: ┤ X ├─░───┼────┼────■───░───┼────■────■───░───────\n",
       "     └───┘ ░ ┌─┴─┐┌─┴─┐┌─┴─┐ ░   │    │    │   ░ ┌─┐   \n",
       "q_3: ──────░─┤ X ├┤ X ├┤ X ├─░───┼────┼────┼───░─┤M├───\n",
       "           ░ └───┘└───┘└───┘ ░ ┌─┴─┐┌─┴─┐┌─┴─┐ ░ └╥┘┌─┐\n",
       "q_4: ──────░─────────────────░─┤ X ├┤ X ├┤ X ├─░──╫─┤M├\n",
       "           ░                 ░ └───┘└───┘└───┘ ░  ║ └╥┘\n",
       "c: 2/═════════════════════════════════════════════╩══╩═\n",
       "                                                  0  1 </pre>"
      ],
      "text/plain": [
       "     ┌───┐ ░                 ░                 ░       \n",
       "q_0: ┤ X ├─░───■─────────────░───■────■────────░───────\n",
       "     ├───┤ ░   │             ░   │    │        ░       \n",
       "q_1: ┤ X ├─░───┼────■────────░───■────┼────■───░───────\n",
       "     ├───┤ ░   │    │        ░   │    │    │   ░       \n",
       "q_2: ┤ X ├─░───┼────┼────■───░───┼────■────■───░───────\n",
       "     └───┘ ░ ┌─┴─┐┌─┴─┐┌─┴─┐ ░   │    │    │   ░ ┌─┐   \n",
       "q_3: ──────░─┤ X ├┤ X ├┤ X ├─░───┼────┼────┼───░─┤M├───\n",
       "           ░ └───┘└───┘└───┘ ░ ┌─┴─┐┌─┴─┐┌─┴─┐ ░ └╥┘┌─┐\n",
       "q_4: ──────░─────────────────░─┤ X ├┤ X ├┤ X ├─░──╫─┤M├\n",
       "           ░                 ░ └───┘└───┘└───┘ ░  ║ └╥┘\n",
       "c: 2/═════════════════════════════════════════════╩══╩═\n",
       "                                                  0  1 "
      ]
     },
     "metadata": {},
     "output_type": "display_data"
    }
   ],
   "source": [
    "for inp1 in ['0', '1']:\n",
    "    for inp2 in ['0', '1']:\n",
    "        for inp3 in ['0', '1']:\n",
    "            qc, output = fullAdder(inp1, inp2, inp3)\n",
    "            print('{} {} {}'.format(inp1, inp2, inp3), '=', output)\n",
    "display(qc.draw())\n",
    "            "
   ]
  },
  {
   "cell_type": "code",
   "execution_count": 9,
   "metadata": {},
   "outputs": [],
   "source": [
    "def fullSub(inp1, inp2, inp3):\n",
    "    qc = QuantumCircuit(5, 2)\n",
    "    if(inp1 == '1'):\n",
    "        qc.x(0)\n",
    "    if(inp2 == '1'):\n",
    "        qc.x(1)\n",
    "    if(inp3 == '1'):\n",
    "        qc.x(2)\n",
    "    \n",
    "    #for difference\n",
    "    qc.cx(0, 3)\n",
    "    qc.cx(1, 3)\n",
    "    qc.cx(2, 3)\n",
    "    qc.measure(3, 0)\n",
    "    qc.barrier()\n",
    "    \n",
    "    #for borrow\n",
    "    qc.x(0)\n",
    "    qc.ccx(0, 1, 4)\n",
    "    qc.ccx(0, 2, 4)\n",
    "    qc.ccx(1, 2, 4)\n",
    "    qc.measure(4, 1)\n",
    "    qc.barrier()\n",
    "    \n",
    "    #getting simulators\n",
    "    backend = Aer.get_backend('qasm_simulator')\n",
    "    job = execute(qc, backend, memory = True)\n",
    "    output = job.result().get_memory()[0]\n",
    "    \n",
    "    return qc, output"
   ]
  },
  {
   "cell_type": "code",
   "execution_count": 10,
   "metadata": {},
   "outputs": [
    {
     "name": "stdout",
     "output_type": "stream",
     "text": [
      "0 0 0 = 00\n",
      "0 0 1 = 11\n",
      "0 1 0 = 11\n",
      "0 1 1 = 10\n",
      "1 0 0 = 01\n",
      "1 0 1 = 00\n",
      "1 1 0 = 00\n",
      "1 1 1 = 11\n"
     ]
    },
    {
     "data": {
      "text/html": [
       "<pre style=\"word-wrap: normal;white-space: pre;background: #fff0;line-height: 1.1;font-family: &quot;Courier New&quot;,Courier,monospace\">     ┌───┐                   ░ ┌───┐                   ░ \n",
       "q_0: ┤ X ├──■────────────────░─┤ X ├──■────■───────────░─\n",
       "     ├───┤  │                ░ └───┘  │    │           ░ \n",
       "q_1: ┤ X ├──┼────■───────────░────────■────┼────■──────░─\n",
       "     ├───┤  │    │           ░        │    │    │      ░ \n",
       "q_2: ┤ X ├──┼────┼────■──────░────────┼────■────■──────░─\n",
       "     └───┘┌─┴─┐┌─┴─┐┌─┴─┐┌─┐ ░        │    │    │      ░ \n",
       "q_3: ─────┤ X ├┤ X ├┤ X ├┤M├─░────────┼────┼────┼──────░─\n",
       "          └───┘└───┘└───┘└╥┘ ░      ┌─┴─┐┌─┴─┐┌─┴─┐┌─┐ ░ \n",
       "q_4: ─────────────────────╫──░──────┤ X ├┤ X ├┤ X ├┤M├─░─\n",
       "                          ║  ░      └───┘└───┘└───┘└╥┘ ░ \n",
       "c: 2/═════════════════════╩═════════════════════════╩════\n",
       "                          0                         1    </pre>"
      ],
      "text/plain": [
       "     ┌───┐                   ░ ┌───┐                   ░ \n",
       "q_0: ┤ X ├──■────────────────░─┤ X ├──■────■───────────░─\n",
       "     ├───┤  │                ░ └───┘  │    │           ░ \n",
       "q_1: ┤ X ├──┼────■───────────░────────■────┼────■──────░─\n",
       "     ├───┤  │    │           ░        │    │    │      ░ \n",
       "q_2: ┤ X ├──┼────┼────■──────░────────┼────■────■──────░─\n",
       "     └───┘┌─┴─┐┌─┴─┐┌─┴─┐┌─┐ ░        │    │    │      ░ \n",
       "q_3: ─────┤ X ├┤ X ├┤ X ├┤M├─░────────┼────┼────┼──────░─\n",
       "          └───┘└───┘└───┘└╥┘ ░      ┌─┴─┐┌─┴─┐┌─┴─┐┌─┐ ░ \n",
       "q_4: ─────────────────────╫──░──────┤ X ├┤ X ├┤ X ├┤M├─░─\n",
       "                          ║  ░      └───┘└───┘└───┘└╥┘ ░ \n",
       "c: 2/═════════════════════╩═════════════════════════╩════\n",
       "                          0                         1    "
      ]
     },
     "metadata": {},
     "output_type": "display_data"
    }
   ],
   "source": [
    "for inp1 in ['0', '1']:\n",
    "    for inp2 in ['0', '1']:\n",
    "        for inp3 in ['0', '1']:\n",
    "            qc, output = fullSub(inp1, inp2, inp3)\n",
    "            print('{} {} {}'.format(inp1, inp2, inp3), '=', output)\n",
    "display(qc.draw())"
   ]
  },
  {
   "cell_type": "code",
   "execution_count": null,
   "metadata": {},
   "outputs": [],
   "source": []
  }
 ],
 "metadata": {
  "kernelspec": {
   "display_name": "Python 3",
   "language": "python",
   "name": "python3"
  },
  "language_info": {
   "codemirror_mode": {
    "name": "ipython",
    "version": 3
   },
   "file_extension": ".py",
   "mimetype": "text/x-python",
   "name": "python",
   "nbconvert_exporter": "python",
   "pygments_lexer": "ipython3",
   "version": "3.8.5"
  }
 },
 "nbformat": 4,
 "nbformat_minor": 4
}
